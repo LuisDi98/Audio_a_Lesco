{
  "cells": [
    {
      "cell_type": "markdown",
      "metadata": {
        "id": "view-in-github",
        "colab_type": "text"
      },
      "source": [
        "<a href=\"https://colab.research.google.com/github/LuisDi98/Audio_a_Lesco/blob/colab/Audio_To_LESCO_models_test.ipynb\" target=\"_parent\"><img src=\"https://colab.research.google.com/assets/colab-badge.svg\" alt=\"Open In Colab\"/></a>"
      ]
    },
    {
      "cell_type": "code",
      "execution_count": 1,
      "metadata": {
        "id": "iewbdezPisQi",
        "outputId": "14f7cd01-ece9-4560-a884-710541760c5d",
        "colab": {
          "base_uri": "https://localhost:8080/"
        }
      },
      "outputs": [
        {
          "output_type": "stream",
          "name": "stdout",
          "text": [
            "Collecting datasets\n",
            "  Downloading datasets-2.15.0-py3-none-any.whl (521 kB)\n",
            "\u001b[?25l     \u001b[90m━━━━━━━━━━━━━━━━━━━━━━━━━━━━━━━━━━━━━━━━\u001b[0m \u001b[32m0.0/521.2 kB\u001b[0m \u001b[31m?\u001b[0m eta \u001b[36m-:--:--\u001b[0m\r\u001b[2K     \u001b[91m━━━━━━━━━━━━━━━\u001b[0m\u001b[91m╸\u001b[0m\u001b[90m━━━━━━━━━━━━━━━━━━━━━━━━\u001b[0m \u001b[32m204.8/521.2 kB\u001b[0m \u001b[31m5.9 MB/s\u001b[0m eta \u001b[36m0:00:01\u001b[0m\r\u001b[2K     \u001b[90m━━━━━━━━━━━━━━━━━━━━━━━━━━━━━━━━━━━━━━━━\u001b[0m \u001b[32m521.2/521.2 kB\u001b[0m \u001b[31m8.1 MB/s\u001b[0m eta \u001b[36m0:00:00\u001b[0m\n",
            "\u001b[?25hRequirement already satisfied: numpy>=1.17 in /usr/local/lib/python3.10/dist-packages (from datasets) (1.23.5)\n",
            "Requirement already satisfied: pyarrow>=8.0.0 in /usr/local/lib/python3.10/dist-packages (from datasets) (9.0.0)\n",
            "Collecting pyarrow-hotfix (from datasets)\n",
            "  Downloading pyarrow_hotfix-0.6-py3-none-any.whl (7.9 kB)\n",
            "Collecting dill<0.3.8,>=0.3.0 (from datasets)\n",
            "  Downloading dill-0.3.7-py3-none-any.whl (115 kB)\n",
            "\u001b[2K     \u001b[90m━━━━━━━━━━━━━━━━━━━━━━━━━━━━━━━━━━━━━━━━\u001b[0m \u001b[32m115.3/115.3 kB\u001b[0m \u001b[31m9.9 MB/s\u001b[0m eta \u001b[36m0:00:00\u001b[0m\n",
            "\u001b[?25hRequirement already satisfied: pandas in /usr/local/lib/python3.10/dist-packages (from datasets) (1.5.3)\n",
            "Requirement already satisfied: requests>=2.19.0 in /usr/local/lib/python3.10/dist-packages (from datasets) (2.31.0)\n",
            "Requirement already satisfied: tqdm>=4.62.1 in /usr/local/lib/python3.10/dist-packages (from datasets) (4.66.1)\n",
            "Requirement already satisfied: xxhash in /usr/local/lib/python3.10/dist-packages (from datasets) (3.4.1)\n",
            "Collecting multiprocess (from datasets)\n",
            "  Downloading multiprocess-0.70.15-py310-none-any.whl (134 kB)\n",
            "\u001b[2K     \u001b[90m━━━━━━━━━━━━━━━━━━━━━━━━━━━━━━━━━━━━━━━━\u001b[0m \u001b[32m134.8/134.8 kB\u001b[0m \u001b[31m10.2 MB/s\u001b[0m eta \u001b[36m0:00:00\u001b[0m\n",
            "\u001b[?25hRequirement already satisfied: fsspec[http]<=2023.10.0,>=2023.1.0 in /usr/local/lib/python3.10/dist-packages (from datasets) (2023.6.0)\n",
            "Requirement already satisfied: aiohttp in /usr/local/lib/python3.10/dist-packages (from datasets) (3.9.1)\n",
            "Requirement already satisfied: huggingface-hub>=0.18.0 in /usr/local/lib/python3.10/dist-packages (from datasets) (0.19.4)\n",
            "Requirement already satisfied: packaging in /usr/local/lib/python3.10/dist-packages (from datasets) (23.2)\n",
            "Requirement already satisfied: pyyaml>=5.1 in /usr/local/lib/python3.10/dist-packages (from datasets) (6.0.1)\n",
            "Requirement already satisfied: attrs>=17.3.0 in /usr/local/lib/python3.10/dist-packages (from aiohttp->datasets) (23.1.0)\n",
            "Requirement already satisfied: multidict<7.0,>=4.5 in /usr/local/lib/python3.10/dist-packages (from aiohttp->datasets) (6.0.4)\n",
            "Requirement already satisfied: yarl<2.0,>=1.0 in /usr/local/lib/python3.10/dist-packages (from aiohttp->datasets) (1.9.3)\n",
            "Requirement already satisfied: frozenlist>=1.1.1 in /usr/local/lib/python3.10/dist-packages (from aiohttp->datasets) (1.4.0)\n",
            "Requirement already satisfied: aiosignal>=1.1.2 in /usr/local/lib/python3.10/dist-packages (from aiohttp->datasets) (1.3.1)\n",
            "Requirement already satisfied: async-timeout<5.0,>=4.0 in /usr/local/lib/python3.10/dist-packages (from aiohttp->datasets) (4.0.3)\n",
            "Requirement already satisfied: filelock in /usr/local/lib/python3.10/dist-packages (from huggingface-hub>=0.18.0->datasets) (3.13.1)\n",
            "Requirement already satisfied: typing-extensions>=3.7.4.3 in /usr/local/lib/python3.10/dist-packages (from huggingface-hub>=0.18.0->datasets) (4.5.0)\n",
            "Requirement already satisfied: charset-normalizer<4,>=2 in /usr/local/lib/python3.10/dist-packages (from requests>=2.19.0->datasets) (3.3.2)\n",
            "Requirement already satisfied: idna<4,>=2.5 in /usr/local/lib/python3.10/dist-packages (from requests>=2.19.0->datasets) (3.6)\n",
            "Requirement already satisfied: urllib3<3,>=1.21.1 in /usr/local/lib/python3.10/dist-packages (from requests>=2.19.0->datasets) (2.0.7)\n",
            "Requirement already satisfied: certifi>=2017.4.17 in /usr/local/lib/python3.10/dist-packages (from requests>=2.19.0->datasets) (2023.11.17)\n",
            "Requirement already satisfied: python-dateutil>=2.8.1 in /usr/local/lib/python3.10/dist-packages (from pandas->datasets) (2.8.2)\n",
            "Requirement already satisfied: pytz>=2020.1 in /usr/local/lib/python3.10/dist-packages (from pandas->datasets) (2023.3.post1)\n",
            "Requirement already satisfied: six>=1.5 in /usr/local/lib/python3.10/dist-packages (from python-dateutil>=2.8.1->pandas->datasets) (1.16.0)\n",
            "Installing collected packages: pyarrow-hotfix, dill, multiprocess, datasets\n",
            "Successfully installed datasets-2.15.0 dill-0.3.7 multiprocess-0.70.15 pyarrow-hotfix-0.6\n",
            "Requirement already satisfied: transformers in /usr/local/lib/python3.10/dist-packages (4.35.2)\n",
            "Requirement already satisfied: filelock in /usr/local/lib/python3.10/dist-packages (from transformers) (3.13.1)\n",
            "Requirement already satisfied: huggingface-hub<1.0,>=0.16.4 in /usr/local/lib/python3.10/dist-packages (from transformers) (0.19.4)\n",
            "Requirement already satisfied: numpy>=1.17 in /usr/local/lib/python3.10/dist-packages (from transformers) (1.23.5)\n",
            "Requirement already satisfied: packaging>=20.0 in /usr/local/lib/python3.10/dist-packages (from transformers) (23.2)\n",
            "Requirement already satisfied: pyyaml>=5.1 in /usr/local/lib/python3.10/dist-packages (from transformers) (6.0.1)\n",
            "Requirement already satisfied: regex!=2019.12.17 in /usr/local/lib/python3.10/dist-packages (from transformers) (2023.6.3)\n",
            "Requirement already satisfied: requests in /usr/local/lib/python3.10/dist-packages (from transformers) (2.31.0)\n",
            "Requirement already satisfied: tokenizers<0.19,>=0.14 in /usr/local/lib/python3.10/dist-packages (from transformers) (0.15.0)\n",
            "Requirement already satisfied: safetensors>=0.3.1 in /usr/local/lib/python3.10/dist-packages (from transformers) (0.4.1)\n",
            "Requirement already satisfied: tqdm>=4.27 in /usr/local/lib/python3.10/dist-packages (from transformers) (4.66.1)\n",
            "Requirement already satisfied: fsspec>=2023.5.0 in /usr/local/lib/python3.10/dist-packages (from huggingface-hub<1.0,>=0.16.4->transformers) (2023.6.0)\n",
            "Requirement already satisfied: typing-extensions>=3.7.4.3 in /usr/local/lib/python3.10/dist-packages (from huggingface-hub<1.0,>=0.16.4->transformers) (4.5.0)\n",
            "Requirement already satisfied: charset-normalizer<4,>=2 in /usr/local/lib/python3.10/dist-packages (from requests->transformers) (3.3.2)\n",
            "Requirement already satisfied: idna<4,>=2.5 in /usr/local/lib/python3.10/dist-packages (from requests->transformers) (3.6)\n",
            "Requirement already satisfied: urllib3<3,>=1.21.1 in /usr/local/lib/python3.10/dist-packages (from requests->transformers) (2.0.7)\n",
            "Requirement already satisfied: certifi>=2017.4.17 in /usr/local/lib/python3.10/dist-packages (from requests->transformers) (2023.11.17)\n",
            "Collecting openai-whisper\n",
            "  Downloading openai-whisper-20231117.tar.gz (798 kB)\n",
            "\u001b[2K     \u001b[90m━━━━━━━━━━━━━━━━━━━━━━━━━━━━━━━━━━━━━━━━\u001b[0m \u001b[32m798.6/798.6 kB\u001b[0m \u001b[31m9.7 MB/s\u001b[0m eta \u001b[36m0:00:00\u001b[0m\n",
            "\u001b[?25h  Installing build dependencies ... \u001b[?25l\u001b[?25hdone\n",
            "  Getting requirements to build wheel ... \u001b[?25l\u001b[?25hdone\n",
            "  Preparing metadata (pyproject.toml) ... \u001b[?25l\u001b[?25hdone\n",
            "Requirement already satisfied: triton<3,>=2.0.0 in /usr/local/lib/python3.10/dist-packages (from openai-whisper) (2.1.0)\n",
            "Requirement already satisfied: numba in /usr/local/lib/python3.10/dist-packages (from openai-whisper) (0.58.1)\n",
            "Requirement already satisfied: numpy in /usr/local/lib/python3.10/dist-packages (from openai-whisper) (1.23.5)\n",
            "Requirement already satisfied: torch in /usr/local/lib/python3.10/dist-packages (from openai-whisper) (2.1.0+cu118)\n",
            "Requirement already satisfied: tqdm in /usr/local/lib/python3.10/dist-packages (from openai-whisper) (4.66.1)\n",
            "Requirement already satisfied: more-itertools in /usr/local/lib/python3.10/dist-packages (from openai-whisper) (10.1.0)\n",
            "Collecting tiktoken (from openai-whisper)\n",
            "  Downloading tiktoken-0.5.2-cp310-cp310-manylinux_2_17_x86_64.manylinux2014_x86_64.whl (2.0 MB)\n",
            "\u001b[2K     \u001b[90m━━━━━━━━━━━━━━━━━━━━━━━━━━━━━━━━━━━━━━━━\u001b[0m \u001b[32m2.0/2.0 MB\u001b[0m \u001b[31m22.2 MB/s\u001b[0m eta \u001b[36m0:00:00\u001b[0m\n",
            "\u001b[?25hRequirement already satisfied: filelock in /usr/local/lib/python3.10/dist-packages (from triton<3,>=2.0.0->openai-whisper) (3.13.1)\n",
            "Requirement already satisfied: llvmlite<0.42,>=0.41.0dev0 in /usr/local/lib/python3.10/dist-packages (from numba->openai-whisper) (0.41.1)\n",
            "Requirement already satisfied: regex>=2022.1.18 in /usr/local/lib/python3.10/dist-packages (from tiktoken->openai-whisper) (2023.6.3)\n",
            "Requirement already satisfied: requests>=2.26.0 in /usr/local/lib/python3.10/dist-packages (from tiktoken->openai-whisper) (2.31.0)\n",
            "Requirement already satisfied: typing-extensions in /usr/local/lib/python3.10/dist-packages (from torch->openai-whisper) (4.5.0)\n",
            "Requirement already satisfied: sympy in /usr/local/lib/python3.10/dist-packages (from torch->openai-whisper) (1.12)\n",
            "Requirement already satisfied: networkx in /usr/local/lib/python3.10/dist-packages (from torch->openai-whisper) (3.2.1)\n",
            "Requirement already satisfied: jinja2 in /usr/local/lib/python3.10/dist-packages (from torch->openai-whisper) (3.1.2)\n",
            "Requirement already satisfied: fsspec in /usr/local/lib/python3.10/dist-packages (from torch->openai-whisper) (2023.6.0)\n",
            "Requirement already satisfied: charset-normalizer<4,>=2 in /usr/local/lib/python3.10/dist-packages (from requests>=2.26.0->tiktoken->openai-whisper) (3.3.2)\n",
            "Requirement already satisfied: idna<4,>=2.5 in /usr/local/lib/python3.10/dist-packages (from requests>=2.26.0->tiktoken->openai-whisper) (3.6)\n",
            "Requirement already satisfied: urllib3<3,>=1.21.1 in /usr/local/lib/python3.10/dist-packages (from requests>=2.26.0->tiktoken->openai-whisper) (2.0.7)\n",
            "Requirement already satisfied: certifi>=2017.4.17 in /usr/local/lib/python3.10/dist-packages (from requests>=2.26.0->tiktoken->openai-whisper) (2023.11.17)\n",
            "Requirement already satisfied: MarkupSafe>=2.0 in /usr/local/lib/python3.10/dist-packages (from jinja2->torch->openai-whisper) (2.1.3)\n",
            "Requirement already satisfied: mpmath>=0.19 in /usr/local/lib/python3.10/dist-packages (from sympy->torch->openai-whisper) (1.3.0)\n",
            "Building wheels for collected packages: openai-whisper\n",
            "  Building wheel for openai-whisper (pyproject.toml) ... \u001b[?25l\u001b[?25hdone\n",
            "  Created wheel for openai-whisper: filename=openai_whisper-20231117-py3-none-any.whl size=801356 sha256=fc92085cdeb6daca064bc64c702d9c71765a357b2cf98c4270731616605a04f0\n",
            "  Stored in directory: /root/.cache/pip/wheels/d0/85/e1/9361b4cbea7dd4b7f6702fa4c3afc94877952eeb2b62f45f56\n",
            "Successfully built openai-whisper\n",
            "Installing collected packages: tiktoken, openai-whisper\n",
            "\u001b[31mERROR: pip's dependency resolver does not currently take into account all the packages that are installed. This behaviour is the source of the following dependency conflicts.\n",
            "llmx 0.0.15a0 requires cohere, which is not installed.\n",
            "llmx 0.0.15a0 requires openai, which is not installed.\u001b[0m\u001b[31m\n",
            "\u001b[0mSuccessfully installed openai-whisper-20231117 tiktoken-0.5.2\n",
            "Collecting git+https://github.com/openai/whisper.git\n",
            "  Cloning https://github.com/openai/whisper.git to /tmp/pip-req-build-vx4gvhyx\n",
            "  Running command git clone --filter=blob:none --quiet https://github.com/openai/whisper.git /tmp/pip-req-build-vx4gvhyx\n",
            "  Resolved https://github.com/openai/whisper.git to commit e58f28804528831904c3b6f2c0e473f346223433\n",
            "  Installing build dependencies ... \u001b[?25l\u001b[?25hdone\n",
            "  Getting requirements to build wheel ... \u001b[?25l\u001b[?25hdone\n",
            "  Preparing metadata (pyproject.toml) ... \u001b[?25l\u001b[?25hdone\n",
            "Requirement already satisfied: triton<3,>=2.0.0 in /usr/local/lib/python3.10/dist-packages (from openai-whisper==20231117) (2.1.0)\n",
            "Requirement already satisfied: numba in /usr/local/lib/python3.10/dist-packages (from openai-whisper==20231117) (0.58.1)\n",
            "Requirement already satisfied: numpy in /usr/local/lib/python3.10/dist-packages (from openai-whisper==20231117) (1.23.5)\n",
            "Requirement already satisfied: torch in /usr/local/lib/python3.10/dist-packages (from openai-whisper==20231117) (2.1.0+cu118)\n",
            "Requirement already satisfied: tqdm in /usr/local/lib/python3.10/dist-packages (from openai-whisper==20231117) (4.66.1)\n",
            "Requirement already satisfied: more-itertools in /usr/local/lib/python3.10/dist-packages (from openai-whisper==20231117) (10.1.0)\n",
            "Requirement already satisfied: tiktoken in /usr/local/lib/python3.10/dist-packages (from openai-whisper==20231117) (0.5.2)\n",
            "Requirement already satisfied: filelock in /usr/local/lib/python3.10/dist-packages (from triton<3,>=2.0.0->openai-whisper==20231117) (3.13.1)\n",
            "Requirement already satisfied: llvmlite<0.42,>=0.41.0dev0 in /usr/local/lib/python3.10/dist-packages (from numba->openai-whisper==20231117) (0.41.1)\n",
            "Requirement already satisfied: regex>=2022.1.18 in /usr/local/lib/python3.10/dist-packages (from tiktoken->openai-whisper==20231117) (2023.6.3)\n",
            "Requirement already satisfied: requests>=2.26.0 in /usr/local/lib/python3.10/dist-packages (from tiktoken->openai-whisper==20231117) (2.31.0)\n",
            "Requirement already satisfied: typing-extensions in /usr/local/lib/python3.10/dist-packages (from torch->openai-whisper==20231117) (4.5.0)\n",
            "Requirement already satisfied: sympy in /usr/local/lib/python3.10/dist-packages (from torch->openai-whisper==20231117) (1.12)\n",
            "Requirement already satisfied: networkx in /usr/local/lib/python3.10/dist-packages (from torch->openai-whisper==20231117) (3.2.1)\n",
            "Requirement already satisfied: jinja2 in /usr/local/lib/python3.10/dist-packages (from torch->openai-whisper==20231117) (3.1.2)\n",
            "Requirement already satisfied: fsspec in /usr/local/lib/python3.10/dist-packages (from torch->openai-whisper==20231117) (2023.6.0)\n",
            "Requirement already satisfied: charset-normalizer<4,>=2 in /usr/local/lib/python3.10/dist-packages (from requests>=2.26.0->tiktoken->openai-whisper==20231117) (3.3.2)\n",
            "Requirement already satisfied: idna<4,>=2.5 in /usr/local/lib/python3.10/dist-packages (from requests>=2.26.0->tiktoken->openai-whisper==20231117) (3.6)\n",
            "Requirement already satisfied: urllib3<3,>=1.21.1 in /usr/local/lib/python3.10/dist-packages (from requests>=2.26.0->tiktoken->openai-whisper==20231117) (2.0.7)\n",
            "Requirement already satisfied: certifi>=2017.4.17 in /usr/local/lib/python3.10/dist-packages (from requests>=2.26.0->tiktoken->openai-whisper==20231117) (2023.11.17)\n",
            "Requirement already satisfied: MarkupSafe>=2.0 in /usr/local/lib/python3.10/dist-packages (from jinja2->torch->openai-whisper==20231117) (2.1.3)\n",
            "Requirement already satisfied: mpmath>=0.19 in /usr/local/lib/python3.10/dist-packages (from sympy->torch->openai-whisper==20231117) (1.3.0)\n",
            "Requirement already satisfied: ipywidgets in /usr/local/lib/python3.10/dist-packages (7.7.1)\n",
            "Requirement already satisfied: ipykernel>=4.5.1 in /usr/local/lib/python3.10/dist-packages (from ipywidgets) (5.5.6)\n",
            "Requirement already satisfied: ipython-genutils~=0.2.0 in /usr/local/lib/python3.10/dist-packages (from ipywidgets) (0.2.0)\n",
            "Requirement already satisfied: traitlets>=4.3.1 in /usr/local/lib/python3.10/dist-packages (from ipywidgets) (5.7.1)\n",
            "Requirement already satisfied: widgetsnbextension~=3.6.0 in /usr/local/lib/python3.10/dist-packages (from ipywidgets) (3.6.6)\n",
            "Requirement already satisfied: ipython>=4.0.0 in /usr/local/lib/python3.10/dist-packages (from ipywidgets) (7.34.0)\n",
            "Requirement already satisfied: jupyterlab-widgets>=1.0.0 in /usr/local/lib/python3.10/dist-packages (from ipywidgets) (3.0.9)\n",
            "Requirement already satisfied: jupyter-client in /usr/local/lib/python3.10/dist-packages (from ipykernel>=4.5.1->ipywidgets) (6.1.12)\n",
            "Requirement already satisfied: tornado>=4.2 in /usr/local/lib/python3.10/dist-packages (from ipykernel>=4.5.1->ipywidgets) (6.3.2)\n",
            "Requirement already satisfied: setuptools>=18.5 in /usr/local/lib/python3.10/dist-packages (from ipython>=4.0.0->ipywidgets) (67.7.2)\n",
            "Collecting jedi>=0.16 (from ipython>=4.0.0->ipywidgets)\n",
            "  Downloading jedi-0.19.1-py2.py3-none-any.whl (1.6 MB)\n",
            "\u001b[2K     \u001b[90m━━━━━━━━━━━━━━━━━━━━━━━━━━━━━━━━━━━━━━━━\u001b[0m \u001b[32m1.6/1.6 MB\u001b[0m \u001b[31m13.9 MB/s\u001b[0m eta \u001b[36m0:00:00\u001b[0m\n",
            "\u001b[?25hRequirement already satisfied: decorator in /usr/local/lib/python3.10/dist-packages (from ipython>=4.0.0->ipywidgets) (4.4.2)\n",
            "Requirement already satisfied: pickleshare in /usr/local/lib/python3.10/dist-packages (from ipython>=4.0.0->ipywidgets) (0.7.5)\n",
            "Requirement already satisfied: prompt-toolkit!=3.0.0,!=3.0.1,<3.1.0,>=2.0.0 in /usr/local/lib/python3.10/dist-packages (from ipython>=4.0.0->ipywidgets) (3.0.41)\n",
            "Requirement already satisfied: pygments in /usr/local/lib/python3.10/dist-packages (from ipython>=4.0.0->ipywidgets) (2.16.1)\n",
            "Requirement already satisfied: backcall in /usr/local/lib/python3.10/dist-packages (from ipython>=4.0.0->ipywidgets) (0.2.0)\n",
            "Requirement already satisfied: matplotlib-inline in /usr/local/lib/python3.10/dist-packages (from ipython>=4.0.0->ipywidgets) (0.1.6)\n",
            "Requirement already satisfied: pexpect>4.3 in /usr/local/lib/python3.10/dist-packages (from ipython>=4.0.0->ipywidgets) (4.9.0)\n",
            "Requirement already satisfied: notebook>=4.4.1 in /usr/local/lib/python3.10/dist-packages (from widgetsnbextension~=3.6.0->ipywidgets) (6.5.5)\n",
            "Requirement already satisfied: parso<0.9.0,>=0.8.3 in /usr/local/lib/python3.10/dist-packages (from jedi>=0.16->ipython>=4.0.0->ipywidgets) (0.8.3)\n",
            "Requirement already satisfied: jinja2 in /usr/local/lib/python3.10/dist-packages (from notebook>=4.4.1->widgetsnbextension~=3.6.0->ipywidgets) (3.1.2)\n",
            "Requirement already satisfied: pyzmq<25,>=17 in /usr/local/lib/python3.10/dist-packages (from notebook>=4.4.1->widgetsnbextension~=3.6.0->ipywidgets) (23.2.1)\n",
            "Requirement already satisfied: argon2-cffi in /usr/local/lib/python3.10/dist-packages (from notebook>=4.4.1->widgetsnbextension~=3.6.0->ipywidgets) (23.1.0)\n",
            "Requirement already satisfied: jupyter-core>=4.6.1 in /usr/local/lib/python3.10/dist-packages (from notebook>=4.4.1->widgetsnbextension~=3.6.0->ipywidgets) (5.5.0)\n",
            "Requirement already satisfied: nbformat in /usr/local/lib/python3.10/dist-packages (from notebook>=4.4.1->widgetsnbextension~=3.6.0->ipywidgets) (5.9.2)\n",
            "Requirement already satisfied: nbconvert>=5 in /usr/local/lib/python3.10/dist-packages (from notebook>=4.4.1->widgetsnbextension~=3.6.0->ipywidgets) (6.5.4)\n",
            "Requirement already satisfied: nest-asyncio>=1.5 in /usr/local/lib/python3.10/dist-packages (from notebook>=4.4.1->widgetsnbextension~=3.6.0->ipywidgets) (1.5.8)\n",
            "Requirement already satisfied: Send2Trash>=1.8.0 in /usr/local/lib/python3.10/dist-packages (from notebook>=4.4.1->widgetsnbextension~=3.6.0->ipywidgets) (1.8.2)\n",
            "Requirement already satisfied: terminado>=0.8.3 in /usr/local/lib/python3.10/dist-packages (from notebook>=4.4.1->widgetsnbextension~=3.6.0->ipywidgets) (0.18.0)\n",
            "Requirement already satisfied: prometheus-client in /usr/local/lib/python3.10/dist-packages (from notebook>=4.4.1->widgetsnbextension~=3.6.0->ipywidgets) (0.19.0)\n",
            "Requirement already satisfied: nbclassic>=0.4.7 in /usr/local/lib/python3.10/dist-packages (from notebook>=4.4.1->widgetsnbextension~=3.6.0->ipywidgets) (1.0.0)\n",
            "Requirement already satisfied: python-dateutil>=2.1 in /usr/local/lib/python3.10/dist-packages (from jupyter-client->ipykernel>=4.5.1->ipywidgets) (2.8.2)\n",
            "Requirement already satisfied: ptyprocess>=0.5 in /usr/local/lib/python3.10/dist-packages (from pexpect>4.3->ipython>=4.0.0->ipywidgets) (0.7.0)\n",
            "Requirement already satisfied: wcwidth in /usr/local/lib/python3.10/dist-packages (from prompt-toolkit!=3.0.0,!=3.0.1,<3.1.0,>=2.0.0->ipython>=4.0.0->ipywidgets) (0.2.12)\n",
            "Requirement already satisfied: platformdirs>=2.5 in /usr/local/lib/python3.10/dist-packages (from jupyter-core>=4.6.1->notebook>=4.4.1->widgetsnbextension~=3.6.0->ipywidgets) (4.0.0)\n",
            "Requirement already satisfied: jupyter-server>=1.8 in /usr/local/lib/python3.10/dist-packages (from nbclassic>=0.4.7->notebook>=4.4.1->widgetsnbextension~=3.6.0->ipywidgets) (1.24.0)\n",
            "Requirement already satisfied: notebook-shim>=0.2.3 in /usr/local/lib/python3.10/dist-packages (from nbclassic>=0.4.7->notebook>=4.4.1->widgetsnbextension~=3.6.0->ipywidgets) (0.2.3)\n",
            "Requirement already satisfied: lxml in /usr/local/lib/python3.10/dist-packages (from nbconvert>=5->notebook>=4.4.1->widgetsnbextension~=3.6.0->ipywidgets) (4.9.3)\n",
            "Requirement already satisfied: beautifulsoup4 in /usr/local/lib/python3.10/dist-packages (from nbconvert>=5->notebook>=4.4.1->widgetsnbextension~=3.6.0->ipywidgets) (4.11.2)\n",
            "Requirement already satisfied: bleach in /usr/local/lib/python3.10/dist-packages (from nbconvert>=5->notebook>=4.4.1->widgetsnbextension~=3.6.0->ipywidgets) (6.1.0)\n",
            "Requirement already satisfied: defusedxml in /usr/local/lib/python3.10/dist-packages (from nbconvert>=5->notebook>=4.4.1->widgetsnbextension~=3.6.0->ipywidgets) (0.7.1)\n",
            "Requirement already satisfied: entrypoints>=0.2.2 in /usr/local/lib/python3.10/dist-packages (from nbconvert>=5->notebook>=4.4.1->widgetsnbextension~=3.6.0->ipywidgets) (0.4)\n",
            "Requirement already satisfied: jupyterlab-pygments in /usr/local/lib/python3.10/dist-packages (from nbconvert>=5->notebook>=4.4.1->widgetsnbextension~=3.6.0->ipywidgets) (0.3.0)\n",
            "Requirement already satisfied: MarkupSafe>=2.0 in /usr/local/lib/python3.10/dist-packages (from nbconvert>=5->notebook>=4.4.1->widgetsnbextension~=3.6.0->ipywidgets) (2.1.3)\n",
            "Requirement already satisfied: mistune<2,>=0.8.1 in /usr/local/lib/python3.10/dist-packages (from nbconvert>=5->notebook>=4.4.1->widgetsnbextension~=3.6.0->ipywidgets) (0.8.4)\n",
            "Requirement already satisfied: nbclient>=0.5.0 in /usr/local/lib/python3.10/dist-packages (from nbconvert>=5->notebook>=4.4.1->widgetsnbextension~=3.6.0->ipywidgets) (0.9.0)\n",
            "Requirement already satisfied: packaging in /usr/local/lib/python3.10/dist-packages (from nbconvert>=5->notebook>=4.4.1->widgetsnbextension~=3.6.0->ipywidgets) (23.2)\n",
            "Requirement already satisfied: pandocfilters>=1.4.1 in /usr/local/lib/python3.10/dist-packages (from nbconvert>=5->notebook>=4.4.1->widgetsnbextension~=3.6.0->ipywidgets) (1.5.0)\n",
            "Requirement already satisfied: tinycss2 in /usr/local/lib/python3.10/dist-packages (from nbconvert>=5->notebook>=4.4.1->widgetsnbextension~=3.6.0->ipywidgets) (1.2.1)\n",
            "Requirement already satisfied: fastjsonschema in /usr/local/lib/python3.10/dist-packages (from nbformat->notebook>=4.4.1->widgetsnbextension~=3.6.0->ipywidgets) (2.19.0)\n",
            "Requirement already satisfied: jsonschema>=2.6 in /usr/local/lib/python3.10/dist-packages (from nbformat->notebook>=4.4.1->widgetsnbextension~=3.6.0->ipywidgets) (4.19.2)\n",
            "Requirement already satisfied: six>=1.5 in /usr/local/lib/python3.10/dist-packages (from python-dateutil>=2.1->jupyter-client->ipykernel>=4.5.1->ipywidgets) (1.16.0)\n",
            "Requirement already satisfied: argon2-cffi-bindings in /usr/local/lib/python3.10/dist-packages (from argon2-cffi->notebook>=4.4.1->widgetsnbextension~=3.6.0->ipywidgets) (21.2.0)\n",
            "Requirement already satisfied: attrs>=22.2.0 in /usr/local/lib/python3.10/dist-packages (from jsonschema>=2.6->nbformat->notebook>=4.4.1->widgetsnbextension~=3.6.0->ipywidgets) (23.1.0)\n",
            "Requirement already satisfied: jsonschema-specifications>=2023.03.6 in /usr/local/lib/python3.10/dist-packages (from jsonschema>=2.6->nbformat->notebook>=4.4.1->widgetsnbextension~=3.6.0->ipywidgets) (2023.11.2)\n",
            "Requirement already satisfied: referencing>=0.28.4 in /usr/local/lib/python3.10/dist-packages (from jsonschema>=2.6->nbformat->notebook>=4.4.1->widgetsnbextension~=3.6.0->ipywidgets) (0.31.1)\n",
            "Requirement already satisfied: rpds-py>=0.7.1 in /usr/local/lib/python3.10/dist-packages (from jsonschema>=2.6->nbformat->notebook>=4.4.1->widgetsnbextension~=3.6.0->ipywidgets) (0.13.2)\n",
            "Requirement already satisfied: anyio<4,>=3.1.0 in /usr/local/lib/python3.10/dist-packages (from jupyter-server>=1.8->nbclassic>=0.4.7->notebook>=4.4.1->widgetsnbextension~=3.6.0->ipywidgets) (3.7.1)\n",
            "Requirement already satisfied: websocket-client in /usr/local/lib/python3.10/dist-packages (from jupyter-server>=1.8->nbclassic>=0.4.7->notebook>=4.4.1->widgetsnbextension~=3.6.0->ipywidgets) (1.6.4)\n",
            "Requirement already satisfied: cffi>=1.0.1 in /usr/local/lib/python3.10/dist-packages (from argon2-cffi-bindings->argon2-cffi->notebook>=4.4.1->widgetsnbextension~=3.6.0->ipywidgets) (1.16.0)\n",
            "Requirement already satisfied: soupsieve>1.2 in /usr/local/lib/python3.10/dist-packages (from beautifulsoup4->nbconvert>=5->notebook>=4.4.1->widgetsnbextension~=3.6.0->ipywidgets) (2.5)\n",
            "Requirement already satisfied: webencodings in /usr/local/lib/python3.10/dist-packages (from bleach->nbconvert>=5->notebook>=4.4.1->widgetsnbextension~=3.6.0->ipywidgets) (0.5.1)\n",
            "Requirement already satisfied: idna>=2.8 in /usr/local/lib/python3.10/dist-packages (from anyio<4,>=3.1.0->jupyter-server>=1.8->nbclassic>=0.4.7->notebook>=4.4.1->widgetsnbextension~=3.6.0->ipywidgets) (3.6)\n",
            "Requirement already satisfied: sniffio>=1.1 in /usr/local/lib/python3.10/dist-packages (from anyio<4,>=3.1.0->jupyter-server>=1.8->nbclassic>=0.4.7->notebook>=4.4.1->widgetsnbextension~=3.6.0->ipywidgets) (1.3.0)\n",
            "Requirement already satisfied: exceptiongroup in /usr/local/lib/python3.10/dist-packages (from anyio<4,>=3.1.0->jupyter-server>=1.8->nbclassic>=0.4.7->notebook>=4.4.1->widgetsnbextension~=3.6.0->ipywidgets) (1.2.0)\n",
            "Requirement already satisfied: pycparser in /usr/local/lib/python3.10/dist-packages (from cffi>=1.0.1->argon2-cffi-bindings->argon2-cffi->notebook>=4.4.1->widgetsnbextension~=3.6.0->ipywidgets) (2.21)\n",
            "Installing collected packages: jedi\n",
            "Successfully installed jedi-0.19.1\n"
          ]
        }
      ],
      "source": [
        "#Install dependencies\n",
        "! pip install datasets\n",
        "! pip install transformers\n",
        "! pip install -U openai-whisper\n",
        "! pip install git+https://github.com/openai/whisper.git\n",
        "! pip install ipywidgets"
      ]
    },
    {
      "cell_type": "markdown",
      "metadata": {
        "id": "g8B2mUC7jBOS"
      },
      "source": [
        "# Get Dataset\n",
        "CIEMPIESS_TEST"
      ]
    },
    {
      "cell_type": "code",
      "execution_count": null,
      "metadata": {
        "colab": {
          "base_uri": "https://localhost:8080/",
          "height": 273,
          "referenced_widgets": [
            "af0429ee7ebc4e2b89c2261eecdecbc7",
            "5962e24ffc5444d3a1fbfb56daef9902",
            "5e7b637a8bbd4972a98d3a2c2ddc8f16",
            "2fbf1ef0d6784477913ba853adacc2a6",
            "f5b89b37c90a46c3babcbee8882b8367",
            "40afc358997540ac84598eb7eaa0ac70",
            "9f056b4c3bcd4778853116371b5f0b5b",
            "f79a53540d304297ba539273ed138e89",
            "facfaafdf36f4645ad2547c7b336b66c",
            "b06a4755461e4b7e8f41404389c4ebb4",
            "6f4827f7aac04003af651a9855cb045a",
            "0906d1978afb47d99db74215c6212663",
            "ac5f32342c9a46679caeea5beb18a874",
            "4f28da47038c466d818741a26301bc0d",
            "bd0f389607ba4115b66304df2d2ec15d",
            "2871743be9d84742b30370a9eba14c07",
            "b901e6362a384b018ce112fdd609dbde",
            "e44b0021c3e84fcb94cfaa0d82b02b9d",
            "c64b81560a5c4251871263e93de0c18a",
            "4bb6571ed2654a38b5ea136783e4c083",
            "53f22d2d549a4b3999295a4cdb438ae6",
            "4f47f17c7a1d40eea5823fee958e559b",
            "70e84a51dfa14ea1b8f0378e6eaaca51",
            "0927f600aebf4aebac332caa005a9d5d",
            "c7eb0b2020914113a709b9860a439225",
            "84a30fd8dfc84b3db9a75e0dcff5546d",
            "cedd9e0addce4f4aa28add608eeb6a4b",
            "69dbcd5f060e4625a9192e5e2eefa5f9",
            "5e3625948c0248ef81dff1de1f515df3",
            "fb24abd05ebf4717a6ab296a423367be",
            "d4296e7559764d168c8347ab2eb9910a",
            "e41b3e1b4f474f92a1c036d11a6761b5",
            "f4b79d4156b84de99e6829eada276f8c",
            "e5d60a2f52d745748d144eeaff805afd",
            "6a267753ff934e3e920cf5df611a1d94",
            "9ffba3d1020d42eba07d574866b31bdb",
            "a8377e8b2c164a33a1c3683a696eb303",
            "88c13d1f35e642c1bfef4e95b5086d2c",
            "55be00afbbdb426aba299c796ba01d40",
            "bdbaac6c1dc0477ab364631d7e7532a7",
            "4766dc45abe046b3a2d0b289da8df0bd",
            "16ff6b32f1f14ca8a643ab773adb009b",
            "32738d1ac1914a769e7ac05005db2490",
            "d38ffc38dd2e4d89a9f6ad097a23b80a",
            "011ca52d06334669a6651f8d3ee35a64",
            "df89eec28ea645f5b90079429b6b14c4",
            "78f4a7c7ab7e45d8b0bf1c1c7773f27c",
            "877d66b7c39b4b2bb22b12413f45ea74",
            "f966d48ae05c4d1d96b89177d9c32128",
            "cb16fa1be26d484c986d3d65f9ce2b32",
            "56fb91bd50304993b842b974ea2fdfb8",
            "5a38dc2d789e439990e6fdb7a79f8414",
            "b3b9aab3878a4896a2904be9a9c35403",
            "3b0e32e350624461b4859cef5801fc72",
            "d2e056f7735c458d85ecf6b60bdd3355",
            "378b51a4a8aa40dca2fa591435d3f622",
            "283c1b17c13d432ea57a4bedffc14bd1",
            "0fa66700772043b49ca9576439de9d53",
            "3272f63d9a054d9899c6177315f2bba9",
            "0bb159655ae94d5caf75890406797c24",
            "93785f8fbaac4528a8feae45b9e5ea7a",
            "bc24446446af4717b681cd604cbd33c2",
            "5875140138574d3392c1375ef8cb991b",
            "0752564933f5447386e7f19cdd4e7275",
            "ad6ff5e85d134263ba8e15bb508ca663",
            "8f0e463f7f02437c8ee27ef95cd0aec8",
            "74ae0395274e43659b775b4723a87e66",
            "d573a88fcbc046c99fd44086a97da467",
            "f81d9058dba541c48f73a8c18d67d6f3",
            "bfb29b3c1b724781a6cd28acb24c59b9",
            "5e50f17859204e9683698ef9cd0f95c5",
            "2bab8ec1acfd443a9ea6cf49c37c8bd1",
            "74b4c2e1aa7342aa8b437bcd71086cea",
            "0546a934963045dba099666813ead93c",
            "b94bce24027c419fa034589e245019d5",
            "e86614f93f5f416b86d93eb489fd3ad0",
            "5e7491f6f0ea470fbbe46c3d1187f238",
            "147622b75db646268770a23ed5cc4613",
            "52e371d4e02e45449c19f2f219525eb4",
            "01f985a3f4fa488e99406b52aa25e43e",
            "88771d50ab5f4ff09aa54d03fb799835",
            "fed756f117044fe6bd8b5e24082f316b",
            "7b5c7e9b26f549b480d88d628c4f5a15",
            "e9d3c738208e491a90167074c6346a68",
            "22675cbd41574a1f9be5e9c179a8a15c",
            "5fa8b1781e1d43beb25007aaf7c19a60",
            "541e55f47d454ccfbce1f48325cad9aa",
            "d0ccdac856184d288d443c02a01ecbf3"
          ]
        },
        "id": "MIV98nyDhrtV",
        "outputId": "50b858ef-aeeb-43b9-c401-01ef5f45ecb9"
      },
      "outputs": [
        {
          "output_type": "display_data",
          "data": {
            "text/plain": [
              "Downloading builder script:   0%|          | 0.00/5.24k [00:00<?, ?B/s]"
            ],
            "application/vnd.jupyter.widget-view+json": {
              "version_major": 2,
              "version_minor": 0,
              "model_id": "af0429ee7ebc4e2b89c2261eecdecbc7"
            }
          },
          "metadata": {}
        },
        {
          "output_type": "display_data",
          "data": {
            "text/plain": [
              "Downloading readme:   0%|          | 0.00/11.5k [00:00<?, ?B/s]"
            ],
            "application/vnd.jupyter.widget-view+json": {
              "version_major": 2,
              "version_minor": 0,
              "model_id": "0906d1978afb47d99db74215c6212663"
            }
          },
          "metadata": {}
        },
        {
          "output_type": "display_data",
          "data": {
            "text/plain": [
              "Downloading data:   0%|          | 0.00/585k [00:00<?, ?B/s]"
            ],
            "application/vnd.jupyter.widget-view+json": {
              "version_major": 2,
              "version_minor": 0,
              "model_id": "70e84a51dfa14ea1b8f0378e6eaaca51"
            }
          },
          "metadata": {}
        },
        {
          "output_type": "display_data",
          "data": {
            "text/plain": [
              "Downloading data:   0%|          | 0.00/26.0 [00:00<?, ?B/s]"
            ],
            "application/vnd.jupyter.widget-view+json": {
              "version_major": 2,
              "version_minor": 0,
              "model_id": "e5d60a2f52d745748d144eeaff805afd"
            }
          },
          "metadata": {}
        },
        {
          "output_type": "display_data",
          "data": {
            "text/plain": [
              "Downloading data files:   0%|          | 0/1 [00:00<?, ?it/s]"
            ],
            "application/vnd.jupyter.widget-view+json": {
              "version_major": 2,
              "version_minor": 0,
              "model_id": "011ca52d06334669a6651f8d3ee35a64"
            }
          },
          "metadata": {}
        },
        {
          "output_type": "display_data",
          "data": {
            "text/plain": [
              "Downloading data:   0%|          | 0.00/568M [00:00<?, ?B/s]"
            ],
            "application/vnd.jupyter.widget-view+json": {
              "version_major": 2,
              "version_minor": 0,
              "model_id": "378b51a4a8aa40dca2fa591435d3f622"
            }
          },
          "metadata": {}
        },
        {
          "output_type": "display_data",
          "data": {
            "text/plain": [
              "Extracting data files:   0%|          | 0/1 [00:00<?, ?it/s]"
            ],
            "application/vnd.jupyter.widget-view+json": {
              "version_major": 2,
              "version_minor": 0,
              "model_id": "74ae0395274e43659b775b4723a87e66"
            }
          },
          "metadata": {}
        },
        {
          "output_type": "display_data",
          "data": {
            "text/plain": [
              "Generating test split: 0 examples [00:00, ? examples/s]"
            ],
            "application/vnd.jupyter.widget-view+json": {
              "version_major": 2,
              "version_minor": 0,
              "model_id": "147622b75db646268770a23ed5cc4613"
            }
          },
          "metadata": {}
        }
      ],
      "source": [
        "#Load the dataset\n",
        "from datasets import load_dataset, load_metric, Audio\n",
        "import whisper\n",
        "ds=load_dataset(\"ciempiess/ciempiess_test\", split=\"test\")\n",
        "\n",
        "#Downsample to 16kHz\n",
        "ds = ds.cast_column(\"audio\", Audio(sampling_rate=16_000))"
      ]
    },
    {
      "cell_type": "code",
      "execution_count": null,
      "metadata": {
        "colab": {
          "base_uri": "https://localhost:8080/"
        },
        "id": "q4AVzRJK1QYB",
        "outputId": "b6a8cd4d-874f-4865-dde0-b99529e46903"
      },
      "outputs": [
        {
          "output_type": "execute_result",
          "data": {
            "text/plain": [
              "Dataset({\n",
              "    features: ['audio_id', 'audio', 'speaker_id', 'gender', 'duration', 'normalized_text'],\n",
              "    num_rows: 3558\n",
              "})"
            ]
          },
          "metadata": {},
          "execution_count": 3
        }
      ],
      "source": [
        "ds"
      ]
    },
    {
      "cell_type": "code",
      "execution_count": null,
      "metadata": {
        "colab": {
          "base_uri": "https://localhost:8080/"
        },
        "id": "vp6sWRjI4-mv",
        "outputId": "03665c08-a5b8-42d9-c2ba-a3a736c85e6c"
      },
      "outputs": [
        {
          "output_type": "execute_result",
          "data": {
            "text/plain": [
              "{'path': '/root/.cache/huggingface/datasets/downloads/extracted/024bce9383676d0a3a6afc0dd8423b344044040363dd48ff5402220707a9d22c/test/male/M_07/CMPT_M_07_0074.flac',\n",
              " 'array': array([-0.00192261, -0.00234985, -0.00158691, ..., -0.00839233,\n",
              "        -0.00900269, -0.00698853]),\n",
              " 'sampling_rate': 16000}"
            ]
          },
          "metadata": {},
          "execution_count": 4
        }
      ],
      "source": [
        "ds[0][\"audio\"]"
      ]
    },
    {
      "cell_type": "code",
      "execution_count": null,
      "metadata": {
        "colab": {
          "base_uri": "https://localhost:8080/"
        },
        "id": "Vw_Ccw2Sxtbf",
        "outputId": "893550f1-9ed0-41dd-b174-a4749096bc1a"
      },
      "outputs": [
        {
          "output_type": "execute_result",
          "data": {
            "text/plain": [
              "3558"
            ]
          },
          "metadata": {},
          "execution_count": 5
        }
      ],
      "source": [
        "ds.num_rows"
      ]
    },
    {
      "cell_type": "markdown",
      "metadata": {
        "id": "i7hHtILHjGyZ"
      },
      "source": [
        "#Whisper-large\n",
        "* De momento no ocupamos los inputs, esta es una manera más sencilla.\n",
        "* Queda pendiente probar wav2vec2-large-xlsr-53-spanish-ep5-944h: https://huggingface.co/carlosdanielhernandezmena/wav2vec2-large-xlsr-53-spanish-ep5-944h\n",
        "* Comparar con el word error rate\n"
      ]
    },
    {
      "cell_type": "code",
      "execution_count": null,
      "metadata": {
        "id": "ELhMmtrHjJC7",
        "colab": {
          "base_uri": "https://localhost:8080/"
        },
        "outputId": "39484f20-9ead-46af-9064-360e258d31ab"
      },
      "outputs": [
        {
          "output_type": "stream",
          "name": "stderr",
          "text": [
            "100%|██████████████████████████████████████| 2.87G/2.87G [00:26<00:00, 118MiB/s]\n"
          ]
        },
        {
          "output_type": "stream",
          "name": "stdout",
          "text": [
            "Whisper result:   Pues ahí está la libertad de las posiciones, de a ver quién es pasivo, quién es activo, bla, bla, bla. Muchas cosas, ¿no? Pero...\n",
            "Normalized_text of the sample:  pues está la libertá de las posiciones de a ver quién es pasivo quién es activo blablablá muchas cosas no pero\n"
          ]
        }
      ],
      "source": [
        "large_model = whisper.load_model(\"large\")\n",
        "# Transcribe from audio to text with the first sample\n",
        "sample = ds[0][\"audio\"][\"path\"]\n",
        "result = large_model.transcribe(sample)\n",
        "print(\"Whisper result: \",result[\"text\"])\n",
        "print(\"Normalized_text of the sample: \",ds[0][\"normalized_text\"])"
      ]
    },
    {
      "cell_type": "markdown",
      "metadata": {
        "id": "6rH4QD3vjJYy"
      },
      "source": [
        "#Whisper-medium"
      ]
    },
    {
      "cell_type": "code",
      "execution_count": null,
      "metadata": {
        "id": "kc8bdnoNo5SQ",
        "colab": {
          "base_uri": "https://localhost:8080/"
        },
        "outputId": "d1788200-5428-4182-a76e-dcb55c0b0623"
      },
      "outputs": [
        {
          "output_type": "stream",
          "name": "stderr",
          "text": [
            "100%|█████████████████████████████████████| 1.42G/1.42G [00:16<00:00, 94.3MiB/s]\n"
          ]
        },
        {
          "output_type": "stream",
          "name": "stdout",
          "text": [
            "Whisper result:   Pues ahí está la libertad de las posiciones, de a ver quién es pasivo, quién es activo, bla bla bla. Muchas cosas, ¿no? Pero...\n",
            "Normalized_text of the sample:  pues está la libertá de las posiciones de a ver quién es pasivo quién es activo blablablá muchas cosas no pero\n"
          ]
        }
      ],
      "source": [
        "medium_model = whisper.load_model(\"medium\")\n",
        "# Transcribe from audio to text with the first sample\n",
        "sample = ds[0][\"audio\"][\"path\"]\n",
        "result = medium_model.transcribe(sample)\n",
        "print(\"Whisper result: \",result[\"text\"])\n",
        "print(\"Normalized_text of the sample: \",ds[0][\"normalized_text\"])"
      ]
    },
    {
      "cell_type": "code",
      "execution_count": null,
      "metadata": {
        "id": "uujypAsPjMEi"
      },
      "outputs": [],
      "source": [
        "#PRUEBAS DE LUIS DIEGO\n",
        "from transformers import WhisperProcessor, WhisperForConditionalGeneration\n",
        "from datasets import load_dataset\n",
        "\n",
        "# load model and processor\n",
        "processor = WhisperProcessor.from_pretrained(\"openai/whisper-medium\")\n",
        "model = WhisperForConditionalGeneration.from_pretrained(\"openai/whisper-medium\")\n",
        "forced_decoder_ids = processor.get_decoder_prompt_ids(language=\"spanish\", task=\"transcribe\")\n",
        "\n",
        "\n",
        "# load dummy dataset and read audio files\n",
        "ds=load_dataset(\"ciempiess/ciempiess_test\", split=\"test\")\n",
        "ds = ds.cast_column(\"audio\", Audio(sampling_rate=16_000))\n",
        "sample = ds[0][\"audio\"]\n",
        "input_features = processor(sample[\"array\"], sampling_rate=sample[\"sampling_rate\"], return_tensors=\"pt\").input_features\n",
        "print(input_features)\n",
        "# generate token ids\n",
        "predicted_ids = model.generate(input_features)\n",
        "print(predicted_ids)\n",
        "# decode token ids to text\n",
        "transcription = processor.batch_decode(predicted_ids, skip_special_tokens=False)\n",
        "print(transcription)\n",
        "\n",
        "transcription = processor.batch_decode(predicted_ids, skip_special_tokens=True)\n",
        "print(transcription)\n"
      ]
    },
    {
      "cell_type": "markdown",
      "metadata": {
        "id": "EWdhLIfejMUK"
      },
      "source": [
        "#Whisper-tiny"
      ]
    },
    {
      "cell_type": "code",
      "execution_count": null,
      "metadata": {
        "colab": {
          "base_uri": "https://localhost:8080/"
        },
        "id": "5PIZ2elIjO_K",
        "outputId": "a3f8c3b8-5246-44b0-b068-eebf1bc22fa2"
      },
      "outputs": [
        {
          "output_type": "stream",
          "name": "stderr",
          "text": [
            "100%|██████████████████████████████████████| 72.1M/72.1M [00:00<00:00, 107MiB/s]\n"
          ]
        },
        {
          "output_type": "stream",
          "name": "stdout",
          "text": [
            "Whisper result:   pues esta la libertad de las posiciones de haber quien es pasivo, que en el activo la muchas cosas, ¿no? pero...\n",
            "Normalized_text of the sample:  pues está la libertá de las posiciones de a ver quién es pasivo quién es activo blablablá muchas cosas no pero\n"
          ]
        }
      ],
      "source": [
        "tiny_model = whisper.load_model(\"tiny\")\n",
        "# Transcribe from audio to text with the first sample\n",
        "sample = ds[0][\"audio\"][\"path\"]\n",
        "result = tiny_model.transcribe(sample)\n",
        "print(\"Whisper result: \",result[\"text\"] )\n",
        "print(\"Normalized_text of the sample: \",ds[0][\"normalized_text\"])"
      ]
    },
    {
      "cell_type": "markdown",
      "source": [
        "#Whisper Small"
      ],
      "metadata": {
        "id": "ZUjho3xIsY8Y"
      }
    },
    {
      "cell_type": "code",
      "source": [
        "small_model = whisper.load_model(\"small\")\n",
        "# Transcribe from audio to text with the first sample\n",
        "sample = ds[0][\"audio\"][\"path\"]\n",
        "result = small_model.transcribe(sample)\n",
        "print(\"Whisper result: \",result[\"text\"])\n",
        "print(\"Normalized_text of the sample: \",ds[0][\"normalized_text\"])"
      ],
      "metadata": {
        "id": "6PIWD55CshQL",
        "outputId": "d98e01ea-0884-4515-c44d-0f18726e3169",
        "colab": {
          "base_uri": "https://localhost:8080/"
        }
      },
      "execution_count": null,
      "outputs": [
        {
          "output_type": "stream",
          "name": "stdout",
          "text": [
            "Whisper result:   pues ahí está la libertad de las posiciones de haber quién es pasivo, quién es activo, bla bla bla, muchas cosas ¿no? Pero...\n",
            "Normalized_text of the sample:  pues está la libertá de las posiciones de a ver quién es pasivo quién es activo blablablá muchas cosas no pero\n"
          ]
        }
      ]
    },
    {
      "cell_type": "markdown",
      "metadata": {
        "id": "LOWKfUw4YtaA"
      },
      "source": [
        "# Normalización del texto\n",
        "\n",
        "Necesitamos normalizar las salidas de whisper, ya que la librería nos proporciona las etiquetas de los audios pero estos están normalizados, este es un paso previo para poder aplicar algunas métricas y que los resultados sean más acertados."
      ]
    },
    {
      "cell_type": "code",
      "execution_count": null,
      "metadata": {
        "id": "_yHsU5u1ZPd8"
      },
      "outputs": [],
      "source": [
        "import re\n",
        "from unicodedata import normalize\n",
        "\n",
        "def formatText(entryText):\n",
        "    '''\n",
        "    Quita las etiquetas xml para extraer el texto, quita caracteres,convierte a minuscula\n",
        "    y devuelve lista de palabras sin acentos (Como que hace más de una cosa xd)\n",
        "    '''\n",
        "    text = re.sub(r'<[^<]+>', \"\",entryText)\n",
        "    text = text.lower()\n",
        "    characters = \"#&¿?¡!'-[]()\\/''=`,:~}{+|.\" #-> caracteres innecesarios que se quitan\n",
        "    text = ''.join(x for x in text if x not in characters)\n",
        "    return text\n",
        "\n",
        "def deleteAccents(text):\n",
        "    '''\n",
        "    Esta funcion no es necesaria para Whisper\n",
        "    Borrar acentos del texto, exceptuando ñ\n",
        "    #Obtenido de https://ideone.com/YcXaQD (ideone.com)\n",
        "    '''\n",
        "    #NFD (Normalization Form Canonical Decomposition) expresion para eliminar diacríticos\n",
        "    text = re.sub(r\"([^n\\u0300-\\u036f]|n(?!\\u0303(?![\\u0300-\\u036f])))[\\u0300-\\u036f]+\", r\"\\1\", normalize( \"NFD\", text), 0, re.I)\n",
        "    #NFC (#Normalization Form Canonical Composition) volver a su forma compuesta\n",
        "    text = normalize( 'NFC', text)\n",
        "    return text\n",
        "\n",
        "def deleteSpaces(entryText):\n",
        "    return \" \".join(entryText.split())\n",
        "\n",
        "def normalizeText(entryText):\n",
        "    newText = formatText(entryText)\n",
        "    return deleteSpaces(newText)\n",
        "\n",
        "def normalizeTextDiacritics(entryText):\n",
        "    newText = formatText(entryText)\n",
        "    return deleteSpaces(deleteAccents(newText))"
      ]
    },
    {
      "cell_type": "code",
      "execution_count": null,
      "metadata": {
        "colab": {
          "base_uri": "https://localhost:8080/",
          "height": 36
        },
        "id": "_9x4srHOhuNA",
        "outputId": "bc1281a7-42c0-40b3-c99c-cc9feeed43d0"
      },
      "outputs": [
        {
          "output_type": "execute_result",
          "data": {
            "text/plain": [
              "'no sé honestamente hice hace mucho este código cuando estaba en rit xd algo aqui pero me parece ineficiente'"
            ],
            "application/vnd.google.colaboratory.intrinsic+json": {
              "type": "string"
            }
          },
          "metadata": {},
          "execution_count": 48
        }
      ],
      "source": [
        "normalizeText(\"No sé, honestamente hice hace mu#cho este código, cuando estaba en RIT & XD! [algo aqui] +, PERO me parece ineficiente\")"
      ]
    },
    {
      "cell_type": "markdown",
      "metadata": {
        "id": "sJZfrUBgmYa3"
      },
      "source": [
        "#WORD ERROR RATE\n",
        "Se tiene una referencia, en este caso el label del audio y se tiene el texto generado por whisper.\n",
        "\n",
        "WER = (S+D+I) / N => WER = (S+D+I) / (S+D+C)\n",
        "​\n",
        "\n",
        "Dónde:\n",
        "* S es el número de sustituciones,\n",
        "* D es el número de eliminaciones,\n",
        "* I es el número de inserciones,\n",
        "* C es el número de aciertos,\n",
        "* N es el número de palabras en la referencia, N = (S + D + C).\n",
        "\n",
        "A veces tambien se usa el Word accuracy, Auto Speech Recognition.\n",
        "\n",
        "Wacc = 1 - WER"
      ]
    },
    {
      "cell_type": "code",
      "source": [
        "! pip install jiwer"
      ],
      "metadata": {
        "id": "ZVr_B3aw7oPD",
        "outputId": "eb55cad0-822d-4125-be17-73da352f9c08",
        "colab": {
          "base_uri": "https://localhost:8080/"
        }
      },
      "execution_count": null,
      "outputs": [
        {
          "output_type": "stream",
          "name": "stdout",
          "text": [
            "Collecting jiwer\n",
            "  Downloading jiwer-3.0.3-py3-none-any.whl (21 kB)\n",
            "Requirement already satisfied: click<9.0.0,>=8.1.3 in /usr/local/lib/python3.10/dist-packages (from jiwer) (8.1.7)\n",
            "Collecting rapidfuzz<4,>=3 (from jiwer)\n",
            "  Downloading rapidfuzz-3.5.2-cp310-cp310-manylinux_2_17_x86_64.manylinux2014_x86_64.whl (3.3 MB)\n",
            "\u001b[2K     \u001b[90m━━━━━━━━━━━━━━━━━━━━━━━━━━━━━━━━━━━━━━━━\u001b[0m \u001b[32m3.3/3.3 MB\u001b[0m \u001b[31m11.6 MB/s\u001b[0m eta \u001b[36m0:00:00\u001b[0m\n",
            "\u001b[?25hInstalling collected packages: rapidfuzz, jiwer\n",
            "Successfully installed jiwer-3.0.3 rapidfuzz-3.5.2\n"
          ]
        }
      ]
    },
    {
      "cell_type": "code",
      "execution_count": null,
      "metadata": {
        "id": "nkTqxXJ6lLRn"
      },
      "outputs": [],
      "source": [
        "import jiwer\n",
        "\n",
        "def getWER(ref, hyp):\n",
        "  '''\n",
        "  ref is the ground truth, original\n",
        "  hyp is the generated text to compare with the original\n",
        "  '''\n",
        "  error = jiwer.wer(ref, hyp)\n",
        "  return error"
      ]
    },
    {
      "cell_type": "code",
      "execution_count": null,
      "metadata": {
        "id": "ZsUU6bcxQjD-"
      },
      "outputs": [],
      "source": [
        "# El modelo que quieran\n",
        "# tiny_model, medium_model, large_model\n",
        "result = small_model.transcribe(sample)"
      ]
    },
    {
      "cell_type": "code",
      "execution_count": null,
      "metadata": {
        "colab": {
          "base_uri": "https://localhost:8080/"
        },
        "id": "ikcLdqw9tPET",
        "outputId": "71723d33-6b83-48b8-ae1a-a550788e3cad"
      },
      "outputs": [
        {
          "output_type": "stream",
          "name": "stdout",
          "text": [
            "WER para el primer simple: 0.4782608695652174\n",
            " pues ahí está la libertad de las posiciones de haber quién es pasivo, quién es activo, bla bla bla, muchas cosas ¿no? Pero... \n",
            " pues está la libertá de las posiciones de a ver quién es pasivo quién es activo blablablá muchas cosas no pero\n",
            "WER para el primer simple: 0.5238095238095238\n",
            " pues ahí está la libertad de las posiciones de haber quién es pasivo, quién es activo, bla bla bla, muchas cosas ¿no? Pero... \n",
            " pues está la libertá de las posiciones de a ver quién es pasivo quién es activo blablablá muchas cosas no pero\n"
          ]
        }
      ],
      "source": [
        "print(\"WER para el primer simple:\", getWER((result[\"text\"]), ds[0][\"normalized_text\"]))\n",
        "print((result[\"text\"]),\"\\n\", ds[0][\"normalized_text\"])\n",
        "\n",
        "print(\"WER para el primer simple:\", getWER(ds[0][\"normalized_text\"], (result[\"text\"])))\n",
        "print((result[\"text\"]),\"\\n\", ds[0][\"normalized_text\"])"
      ]
    },
    {
      "cell_type": "code",
      "execution_count": null,
      "metadata": {
        "colab": {
          "base_uri": "https://localhost:8080/"
        },
        "id": "keuchDJjtQR7",
        "outputId": "96b84bc3-e678-46ad-c83e-655b7e3ccbc2"
      },
      "outputs": [
        {
          "output_type": "stream",
          "name": "stdout",
          "text": [
            "WER para el primer texto normalizado: 0.30434782608695654\n",
            "pues ahí está la libertad de las posiciones de haber quién es pasivo quién es activo bla bla bla muchas cosas no pero \n",
            " pues está la libertá de las posiciones de a ver quién es pasivo quién es activo blablablá muchas cosas no pero\n"
          ]
        }
      ],
      "source": [
        "print(\"WER para el primer texto normalizado:\", getWER(normalizeText(result[\"text\"]), ds[0][\"normalized_text\"]))\n",
        "print(normalizeText(result[\"text\"]),\"\\n\", ds[0][\"normalized_text\"])"
      ]
    },
    {
      "cell_type": "code",
      "execution_count": null,
      "metadata": {
        "colab": {
          "base_uri": "https://localhost:8080/"
        },
        "id": "pd7JKecfugYs",
        "outputId": "48598d16-2585-4d12-9b28-8fb17c90a6c3"
      },
      "outputs": [
        {
          "output_type": "stream",
          "name": "stdout",
          "text": [
            "WER para el primer normalizado sin diacriticos: 0.43478260869565216\n",
            "pues ahi esta la libertad de las posiciones de haber quien es pasivo quien es activo bla bla bla muchas cosas no pero \n",
            " pues está la libertá de las posiciones de a ver quién es pasivo quién es activo blablablá muchas cosas no pero\n"
          ]
        }
      ],
      "source": [
        "print(\"WER para el primer normalizado sin diacriticos:\", getWER(normalizeTextDiacritics(result[\"text\"]), ds[0][\"normalized_text\"]))\n",
        "print(normalizeTextDiacritics(result[\"text\"]),\"\\n\", ds[0][\"normalized_text\"])"
      ]
    },
    {
      "cell_type": "markdown",
      "metadata": {
        "id": "A5Jqg_XMpFPY"
      },
      "source": [
        "#WER para todo el data set de Ciempies con Whisper tiny\n",
        "* Tiempo aproximado con 1000 audios:\n",
        "  * Tiny: 7,5 mins\n",
        "  * Small: 16,7 mins\n",
        "  * Medium: 32,8 mins\n",
        "  * Large: 46,5 mins\n",
        "\n"
      ]
    },
    {
      "cell_type": "code",
      "execution_count": null,
      "metadata": {
        "id": "q5CQ6Px75I8T"
      },
      "outputs": [],
      "source": [
        "import numpy as np\n",
        "\n",
        "def getWERMetric(model, dataset, datasetSample):\n",
        "  WERList = []\n",
        "  for i in range(datasetSample):\n",
        "    sample = dataset[i][\"audio\"][\"path\"]\n",
        "    result = model.transcribe(sample)\n",
        "    textResult = normalizeText(result[\"text\"])\n",
        "    label = dataset[i][\"normalized_text\"]\n",
        "    if (textResult!=\"\" and label!=\"\"):\n",
        "      WERList.append(getWER(label, textResult))\n",
        "  return np.mean(WERList)"
      ]
    },
    {
      "cell_type": "code",
      "source": [
        "import time"
      ],
      "metadata": {
        "id": "iHwPwZ7pMdLh"
      },
      "execution_count": null,
      "outputs": []
    },
    {
      "cell_type": "code",
      "execution_count": null,
      "metadata": {
        "id": "XJa9dUlzzU4V",
        "colab": {
          "base_uri": "https://localhost:8080/"
        },
        "outputId": "3a1fbe49-e40d-477b-fbf7-52d3f4763178"
      },
      "outputs": [
        {
          "output_type": "stream",
          "name": "stdout",
          "text": [
            "0.2917494913844536\n",
            "455.01868629455566\n"
          ]
        }
      ],
      "source": [
        "#Esto es generado vs original, pero lo correcto es el de abajo\n",
        "start = time.time()\n",
        "value = getWERMetric(tiny_model,ds,1000)\n",
        "end = time.time()\n",
        "print(value)\n",
        "print(end-start)"
      ]
    },
    {
      "cell_type": "code",
      "source": [
        "#Esto es original vs generado\n",
        "start = time.time()\n",
        "value = getWERMetric(tiny_model,ds,1000)\n",
        "end = time.time()\n",
        "print(value)\n",
        "print(end-start)"
      ],
      "metadata": {
        "id": "CUSms2VU_3fU",
        "outputId": "143136a3-53a9-48a2-d20c-6c26ad04f1f4",
        "colab": {
          "base_uri": "https://localhost:8080/"
        }
      },
      "execution_count": null,
      "outputs": [
        {
          "output_type": "stream",
          "name": "stdout",
          "text": [
            "0.25775208194565835\n",
            "584.2194185256958\n"
          ]
        }
      ]
    },
    {
      "cell_type": "code",
      "source": [
        "start = time.time()\n",
        "value = getWERMetric(small_model,ds,1000)\n",
        "end = time.time()\n",
        "print(value)\n",
        "print(end-start)"
      ],
      "metadata": {
        "id": "SzTjLfT3tGag",
        "colab": {
          "base_uri": "https://localhost:8080/"
        },
        "outputId": "f8f1f66a-345b-4fb1-9e73-2be6b432d547"
      },
      "execution_count": null,
      "outputs": [
        {
          "output_type": "stream",
          "name": "stdout",
          "text": [
            "0.18433433443007663\n",
            "1003.1085572242737\n"
          ]
        }
      ]
    },
    {
      "cell_type": "code",
      "execution_count": null,
      "metadata": {
        "id": "YyUvQgO5_neP",
        "colab": {
          "base_uri": "https://localhost:8080/"
        },
        "outputId": "f8611982-d836-4585-e2d1-385964afd09b"
      },
      "outputs": [
        {
          "output_type": "stream",
          "name": "stdout",
          "text": [
            "0.17623326276082082\n",
            "1970.6431975364685\n"
          ]
        }
      ],
      "source": [
        "start = time.time()\n",
        "value = getWERMetric(medium_model,ds,1000)\n",
        "end = time.time()\n",
        "print(value)\n",
        "print(end-start)"
      ]
    },
    {
      "cell_type": "code",
      "execution_count": null,
      "metadata": {
        "id": "GS_2dv1kFo8f",
        "colab": {
          "base_uri": "https://localhost:8080/"
        },
        "outputId": "6257558a-1808-4326-ec4a-5779c4e5cee1"
      },
      "outputs": [
        {
          "output_type": "stream",
          "name": "stdout",
          "text": [
            "0.19101982265768988\n",
            "2790.7779171466827\n"
          ]
        }
      ],
      "source": [
        "start = time.time()\n",
        "value = getWERMetric(large_model,ds,1000)\n",
        "end = time.time()\n",
        "print(value)\n",
        "print(end-start)"
      ]
    },
    {
      "cell_type": "markdown",
      "metadata": {
        "id": "DdWld5jHtlN9"
      },
      "source": [
        "# NEW Voice Activity Detector\n"
      ]
    },
    {
      "cell_type": "code",
      "execution_count": 2,
      "metadata": {
        "id": "0a57qFSZB4_u"
      },
      "outputs": [],
      "source": [
        "#@title Install and Import Dependencies\n",
        "# this assumes that you have a relevant version of PyTorch installed\n",
        "!pip install -q torchaudio\n",
        "import torch\n",
        "torch.set_num_threads(1)\n",
        "from IPython.display import Audio\n",
        "from pprint import pprint\n",
        "USE_ONNX = False # change this to True if you want to test onnx model\n",
        "if USE_ONNX:\n",
        "  !pip install -q onnxruntime"
      ]
    },
    {
      "cell_type": "code",
      "source": [
        "model, utils = torch.hub.load(repo_or_dir='snakers4/silero-vad',\n",
        "                              model='silero_vad',\n",
        "                              force_reload=True,\n",
        "                              onnx=USE_ONNX)\n",
        "(get_speech_timestamps,\n",
        " save_audio,\n",
        " read_audio,\n",
        " VADIterator,\n",
        " collect_chunks) = utils"
      ],
      "metadata": {
        "colab": {
          "base_uri": "https://localhost:8080/"
        },
        "id": "7xOOZWXNI1Cb",
        "outputId": "072265d6-2495-4304-f458-f09f7984493b"
      },
      "execution_count": 3,
      "outputs": [
        {
          "output_type": "stream",
          "name": "stderr",
          "text": [
            "/usr/local/lib/python3.10/dist-packages/torch/hub.py:294: UserWarning: You are about to download and run code from an untrusted repository. In a future release, this won't be allowed. To add the repository to your trusted list, change the command to {calling_fn}(..., trust_repo=False) and a command prompt will appear asking for an explicit confirmation of trust, or load(..., trust_repo=True), which will assume that the prompt is to be answered with 'yes'. You can also use load(..., trust_repo='check') which will only prompt for confirmation if the repo is not already trusted. This will eventually be the default behaviour\n",
            "  warnings.warn(\n",
            "Downloading: \"https://github.com/snakers4/silero-vad/zipball/master\" to /root/.cache/torch/hub/master.zip\n"
          ]
        }
      ]
    },
    {
      "cell_type": "code",
      "source": [
        "def chunk_audio(audio):\n",
        "  readAudio = read_audio(audio, sampling_rate=16000)\n",
        "  # get speech timestamps from full audio file\n",
        "  speech_timestamps = get_speech_timestamps(readAudio, model, sampling_rate=16000)\n",
        "  return (speech_timestamps,readAudio)\n",
        "\n",
        "def getAudioVAD(audio):\n",
        "   audio_chunks = chunk_audio(audio)\n",
        "   return collect_chunks(audio_chunks[0], audio_chunks[1])\n",
        "\n",
        "# merge all speech chunks to one audio\n",
        "# audio_chunks = chunk_audio('/content/Prueba.m4a')\n",
        "# save_audio('new_audio_VAD.wav', collect_chunks(audio_chunks[0], audio_chunks[1]), sampling_rate=16000)\n",
        "# Audio('new_audio_VAD.wav')\n",
        "# In this example the original audio was 17 sec, the new one is 10 s and VAD only took a couple of seconds"
      ],
      "metadata": {
        "id": "C4rAn-gkI38j"
      },
      "execution_count": 4,
      "outputs": []
    },
    {
      "cell_type": "markdown",
      "source": [
        "#Wav2VEC2\n"
      ],
      "metadata": {
        "id": "ItfYfMa-y_TV"
      }
    },
    {
      "cell_type": "code",
      "source": [
        "import soundfile as sf\n",
        "import librosa\n",
        "import torch\n",
        "from transformers import Wav2Vec2ForCTC, Wav2Vec2Tokenizer"
      ],
      "metadata": {
        "id": "BHSwcsoQzAwh"
      },
      "execution_count": null,
      "outputs": []
    },
    {
      "cell_type": "code",
      "source": [
        "tokenizer = Wav2Vec2Tokenizer.from_pretrained(\"jonatasgrosman/wav2vec2-large-xlsr-53-spanish\")\n",
        "\n",
        "# Set the desired tokenization parameters\n",
        "max_length = 100  # Maximum length of the input in number of tokens\n",
        "padding=\"True\" # Whether to pad the sequences to have the same length\n",
        "padding_side = \"right\"  # Side to apply padding on (\"right\" or \"left\")\n",
        "truncation=\"True\" # Whether to truncate the sequences if they exceed the maximum length\n",
        "stride = 0.2  # Stride length for splitting audio into overlapping windows\n",
        "\n",
        "# Update the tokenizer's parameters\n",
        "tokenizer.model_max_length = max_length\n",
        "tokenizer.padding = padding\n",
        "tokenizer.padding_side = padding_side\n",
        "tokenizer.truncation = truncation\n",
        "tokenizer.stride = stride\n",
        "\n",
        "model = Wav2Vec2ForCTC.from_pretrained(\"jonatasgrosman/wav2vec2-large-xlsr-53-spanish\")"
      ],
      "metadata": {
        "colab": {
          "base_uri": "https://localhost:8080/"
        },
        "id": "cfmqVLhTzCpZ",
        "outputId": "1c75a821-a6b3-4dbd-9057-32da03d9f704"
      },
      "execution_count": null,
      "outputs": [
        {
          "output_type": "stream",
          "name": "stderr",
          "text": [
            "The tokenizer class you load from this checkpoint is not the same type as the class this function is called from. It may result in unexpected tokenization. \n",
            "The tokenizer class you load from this checkpoint is 'Wav2Vec2CTCTokenizer'. \n",
            "The class this function is called from is 'Wav2Vec2Tokenizer'.\n"
          ]
        }
      ]
    },
    {
      "cell_type": "code",
      "source": [
        "def transcribe_audio(audio):\n",
        "    input_values = tokenizer(audio, return_tensors=\"pt\").input_values\n",
        "    logits = model(input_values).logits\n",
        "    predicted_ids = torch.argmax(logits, dim=-1)\n",
        "    transcription = tokenizer.batch_decode(predicted_ids)[0]\n",
        "    return transcription\n"
      ],
      "metadata": {
        "id": "0nbPJro0z8DF"
      },
      "execution_count": null,
      "outputs": []
    },
    {
      "cell_type": "code",
      "source": [
        "from jiwer import wer\n"
      ],
      "metadata": {
        "id": "2Jrksw2q3pQH"
      },
      "execution_count": null,
      "outputs": []
    },
    {
      "cell_type": "code",
      "source": [
        "def conseguirWER(model,dataset,datasetSample):\n",
        "  total_wer = 0.0\n",
        "  total_audio_files = datasetSample\n",
        "\n",
        "  for i in range(datasetSample):\n",
        "      audio_path = dataset[i][\"audio\"][\"path\"]\n",
        "      ground_truth_transcription = dataset[i][\"normalized_text\"]\n",
        "\n",
        "\n",
        "      audio_dict = dataset[i][\"audio\"]\n",
        "      audio, sample_rate = sf.read(audio_dict[\"path\"])\n",
        "      # Transcribe audio using the model\n",
        "      transcription = transcribe_audio(audio)\n",
        "\n",
        "      # Calculate Word Error Rate (WER)\n",
        "      wer_score = wer(ground_truth_transcription, transcription)\n",
        "      total_wer += wer_score\n",
        "\n",
        "      average_wer = total_wer / total_audio_files\n",
        "      print(\"Average WER:\", average_wer)\n",
        "      return average_wer\n"
      ],
      "metadata": {
        "id": "mhlWQskD2XbQ"
      },
      "execution_count": null,
      "outputs": []
    },
    {
      "cell_type": "code",
      "source": [
        "start = time.time()\n",
        "value = conseguirWER(model,ds,2000)\n",
        "end = time.time()\n",
        "print(value)\n",
        "print(end-start)"
      ],
      "metadata": {
        "colab": {
          "base_uri": "https://localhost:8080/"
        },
        "id": "WH49b1kO0djN",
        "outputId": "eef794ef-85c4-4cde-d44a-3b70232c733b"
      },
      "execution_count": null,
      "outputs": [
        {
          "output_type": "stream",
          "name": "stdout",
          "text": [
            "Average WER: 0.0002380952380952381\n",
            "0.0002380952380952381\n",
            "11.46746039390564\n"
          ]
        }
      ]
    },
    {
      "cell_type": "code",
      "source": [
        "ds[0][\"audio\"][\"path\"]"
      ],
      "metadata": {
        "colab": {
          "base_uri": "https://localhost:8080/",
          "height": 36
        },
        "id": "wllrx21-4nQo",
        "outputId": "f2400cdc-a6d4-4ab3-bc61-9740c6580a67"
      },
      "execution_count": null,
      "outputs": [
        {
          "output_type": "execute_result",
          "data": {
            "text/plain": [
              "'/root/.cache/huggingface/datasets/downloads/extracted/024bce9383676d0a3a6afc0dd8423b344044040363dd48ff5402220707a9d22c/test/male/M_07/CMPT_M_07_0074.flac'"
            ],
            "application/vnd.google.colaboratory.intrinsic+json": {
              "type": "string"
            }
          },
          "metadata": {},
          "execution_count": 45
        }
      ]
    },
    {
      "cell_type": "code",
      "source": [
        "ds[0][\"audio\"]"
      ],
      "metadata": {
        "id": "9NERhRMH91t7",
        "outputId": "f1d2d210-cfb1-4e63-9373-61de98a27757",
        "colab": {
          "base_uri": "https://localhost:8080/"
        }
      },
      "execution_count": null,
      "outputs": [
        {
          "output_type": "execute_result",
          "data": {
            "text/plain": [
              "{'path': '/root/.cache/huggingface/datasets/downloads/extracted/024bce9383676d0a3a6afc0dd8423b344044040363dd48ff5402220707a9d22c/test/male/M_07/CMPT_M_07_0074.flac',\n",
              " 'array': array([-0.00192261, -0.00234985, -0.00158691, ..., -0.00839233,\n",
              "        -0.00900269, -0.00698853]),\n",
              " 'sampling_rate': 16000}"
            ]
          },
          "metadata": {},
          "execution_count": 63
        }
      ]
    },
    {
      "cell_type": "code",
      "source": [
        "audio_dict = ds[0][\"audio\"]"
      ],
      "metadata": {
        "id": "L7Wze9hG-FD7"
      },
      "execution_count": null,
      "outputs": []
    },
    {
      "cell_type": "code",
      "source": [
        "audio_dict[\"path\"]"
      ],
      "metadata": {
        "id": "_rLlzW0I-J9W",
        "outputId": "93531109-ae7e-4a82-dce3-5581dfd5cfcc",
        "colab": {
          "base_uri": "https://localhost:8080/",
          "height": 36
        }
      },
      "execution_count": null,
      "outputs": [
        {
          "output_type": "execute_result",
          "data": {
            "text/plain": [
              "'/root/.cache/huggingface/datasets/downloads/extracted/024bce9383676d0a3a6afc0dd8423b344044040363dd48ff5402220707a9d22c/test/male/M_07/CMPT_M_07_0074.flac'"
            ],
            "application/vnd.google.colaboratory.intrinsic+json": {
              "type": "string"
            }
          },
          "metadata": {},
          "execution_count": 77
        }
      ]
    },
    {
      "cell_type": "code",
      "source": [
        "import soundfile as sf"
      ],
      "metadata": {
        "id": "My71vXPr-8-7"
      },
      "execution_count": null,
      "outputs": []
    },
    {
      "cell_type": "code",
      "source": [
        "audio, sample_rate = sf.read(audio_dict[\"path\"])"
      ],
      "metadata": {
        "id": "R-sp_-H4-_5U"
      },
      "execution_count": null,
      "outputs": []
    },
    {
      "cell_type": "markdown",
      "source": [
        "# Test with large audios\n",
        "Estas pruebas son usando los diferentes modelos de whisper y sin Voice Activity Detector.\n",
        "1. Primero se debe correr el modelo de whisper que se desea.\n",
        "2. Luego la funcion para transcirbir el audio, esta a su vez da el tiempo que se tarda."
      ],
      "metadata": {
        "id": "iJI6Y1Z14XEf"
      }
    },
    {
      "cell_type": "markdown",
      "source": [
        "Pruebas para el modelo Small\n",
        "* Audio 30 mins           = 4.81 mins\n",
        "* Audio 1 hora            = 5.99 mins\n",
        "* Audio 1 hora y 30 mins  = 5.62 mins\n",
        "* Audio 2 horas           = 6.68 mins\n",
        "* Audio 2 horas y 30 mins = 15.1 mins\n",
        "* Audio 3 horas           = 7.41 mins\n"
      ],
      "metadata": {
        "id": "Qdwm3zUjiZtX"
      }
    },
    {
      "cell_type": "code",
      "source": [
        "from google.colab import drive\n",
        "drive.mount('/content/drive')"
      ],
      "metadata": {
        "id": "_smfbnrHBbdn",
        "outputId": "7daa7458-9f65-4e2d-fda6-e8dfe4de124d",
        "colab": {
          "base_uri": "https://localhost:8080/"
        }
      },
      "execution_count": 5,
      "outputs": [
        {
          "output_type": "stream",
          "name": "stdout",
          "text": [
            "Mounted at /content/drive\n"
          ]
        }
      ]
    },
    {
      "cell_type": "code",
      "source": [
        "import whisper\n",
        "import time\n",
        "#small_model = whisper.load_model(\"small\")\n",
        "#tiny_model = whisper.load_model(\"tiny\")\n",
        "medium_model = whisper.load_model(\"medium\")\n",
        "#large_model = whisper.load_model(\"large\")"
      ],
      "metadata": {
        "colab": {
          "base_uri": "https://localhost:8080/"
        },
        "id": "vmC5gUT04teG",
        "outputId": "ee330117-9273-44ce-f2e6-f09466531812"
      },
      "execution_count": 6,
      "outputs": [
        {
          "output_type": "stream",
          "name": "stderr",
          "text": [
            "100%|█████████████████████████████████████| 1.42G/1.42G [00:28<00:00, 52.8MiB/s]\n"
          ]
        }
      ]
    },
    {
      "cell_type": "code",
      "source": [
        "def transcribeAudio(audio, model):\n",
        "  start = time.time()\n",
        "  result = model.transcribe(audio)\n",
        "  end = time.time()\n",
        "  return (end-start, result)"
      ],
      "metadata": {
        "id": "nAumT08N4cvW"
      },
      "execution_count": 7,
      "outputs": []
    },
    {
      "cell_type": "code",
      "source": [
        "smallTime = {\"30\":0, \"60\":0, \"90\":0, \"120\":0, \"150\":0, \"180\":0}\n",
        "audio1= transcribeAudio('/content/drive/MyDrive/DataSet-ConsejoEstudiantil/30Min.mp3',small_model)\n",
        "smallTime[\"30\"] = audio1[0]\n",
        "audio2= transcribeAudio('/content/drive/MyDrive/DataSet-ConsejoEstudiantil/60Min.mp3',small_model)\n",
        "smallTime[\"60\"] = audio2[0]\n",
        "audio3= transcribeAudio('/content/drive/MyDrive/DataSet-ConsejoEstudiantil/90Min.mp3',small_model)\n",
        "smallTime[\"90\"] = audio3[0]\n",
        "audio4= transcribeAudio('/content/drive/MyDrive/DataSet-ConsejoEstudiantil/120Min.mp3',small_model)\n",
        "smallTime[\"120\"] = audio4[0]\n",
        "audio5= transcribeAudio('/content/drive/MyDrive/DataSet-ConsejoEstudiantil/150Min.mp3',small_model)\n",
        "smallTime[\"150\"] = audio5[0]\n",
        "audio6= transcribeAudio('/content/drive/MyDrive/DataSet-ConsejoEstudiantil/180Min.mp3',small_model)\n",
        "smallTime[\"180\"] = audio6[0]"
      ],
      "metadata": {
        "id": "ioEfBgjq5VGo"
      },
      "execution_count": null,
      "outputs": []
    },
    {
      "cell_type": "code",
      "source": [
        "smallTime\n",
        "'''\n",
        "{'30': 289.04940462112427,\n",
        " '60': 359.7411675453186,\n",
        " '90': 337.9016089439392,\n",
        " '120': 400.85388445854187,\n",
        " '150': 906.0902349948883,\n",
        " '180': 1094.6138291358948\n",
        "}\n",
        "'''"
      ],
      "metadata": {
        "id": "fBRphvSrMmoV"
      },
      "execution_count": null,
      "outputs": []
    },
    {
      "cell_type": "markdown",
      "source": [
        "Pruebas para el modelo Medium\n",
        "* Audio 30 mins           =  5.94 mins\n",
        "* Audio 1 hora            =  9.72 mins\n",
        "* Audio 1 hora y 30 mins  =  15.91 mins\n",
        "* Audio 2 horas           =  23.92 mins\n",
        "* Audio 2 horas y 30 mins =  21.98 mins\n",
        "* Audio 3 horas           =  20.80 mins"
      ],
      "metadata": {
        "id": "LMODOV7AZa6f"
      }
    },
    {
      "cell_type": "code",
      "source": [
        "mediumTime = {\"30\":0, \"60\":0, \"90\":0, \"120\":0, \"150\":0, \"180\":0}\n",
        "audio1= transcribeAudio('/content/drive/MyDrive/DataSet-ConsejoEstudiantil/30Min.mp3', medium_model)\n",
        "mediumTime[\"30\"] = audio1[0]\n",
        "audio2= transcribeAudio('/content/drive/MyDrive/DataSet-ConsejoEstudiantil/60Min.mp3', medium_model)\n",
        "mediumTime[\"60\"] = audio2[0]\n",
        "audio3= transcribeAudio('/content/drive/MyDrive/DataSet-ConsejoEstudiantil/90Min.mp3', medium_model)\n",
        "mediumTime[\"90\"] = audio3[0]\n",
        "audio4= transcribeAudio('/content/drive/MyDrive/DataSet-ConsejoEstudiantil/120Min.mp3', medium_model)\n",
        "mediumTime[\"120\"] = audio4[0]\n",
        "audio5= transcribeAudio('/content/drive/MyDrive/DataSet-ConsejoEstudiantil/150Min.mp3', medium_model)\n",
        "mediumTime[\"150\"] = audio5[0]\n",
        "audio6= transcribeAudio('/content/drive/MyDrive/DataSet-ConsejoEstudiantil/180Min.mp3', medium_model)\n",
        "mediumTime[\"180\"] = audio6[0]\n",
        "#1 h,38 mins"
      ],
      "metadata": {
        "id": "j1CfxhhjZaCN"
      },
      "execution_count": null,
      "outputs": []
    },
    {
      "cell_type": "code",
      "source": [
        "mediumTime"
      ],
      "metadata": {
        "id": "RmeFZHmjfqfE",
        "outputId": "e514cfb0-b477-4e11-c673-8f75a956f678",
        "colab": {
          "base_uri": "https://localhost:8080/"
        }
      },
      "execution_count": null,
      "outputs": [
        {
          "output_type": "execute_result",
          "data": {
            "text/plain": [
              "{'30': 356.7253592014313,\n",
              " '60': 583.5891742706299,\n",
              " '90': 954.7192177772522,\n",
              " '120': 1435.6262798309326,\n",
              " '150': 1319.2298076152802,\n",
              " '180': 1248.4831037521362}"
            ]
          },
          "metadata": {},
          "execution_count": 11
        }
      ]
    },
    {
      "cell_type": "markdown",
      "source": [
        "# Test with VAD + Dataset"
      ],
      "metadata": {
        "id": "R6S2Zey1JEmf"
      }
    },
    {
      "cell_type": "markdown",
      "source": [
        "Modelo Small"
      ],
      "metadata": {
        "id": "uI1TXHXwNLyD"
      }
    },
    {
      "cell_type": "code",
      "source": [
        "smallTimeVAD = {\"30\":0, \"60\":0, \"90\":0, \"120\":0, \"150\":0, \"180\":0}\n",
        "audio1= transcribeAudio(getAudioVAD('/content/drive/MyDrive/DataSet-ConsejoEstudiantil/30Min.mp3'), small_model)\n",
        "smallTimeVAD[\"30\"] = audio1[0]\n",
        "audio2= transcribeAudio(getAudioVAD('/content/drive/MyDrive/DataSet-ConsejoEstudiantil/60Min.mp3'), small_model)\n",
        "smallTimeVAD[\"60\"] = audio2[0]\n",
        "audio3= transcribeAudio(getAudioVAD('/content/drive/MyDrive/DataSet-ConsejoEstudiantil/90Min.mp3'), small_model)\n",
        "smallTimeVAD[\"90\"] = audio3[0]\n",
        "audio4= transcribeAudio(getAudioVAD('/content/drive/MyDrive/DataSet-ConsejoEstudiantil/120Min.mp3'), small_model)\n",
        "smallTimeVAD[\"120\"] = audio4[0]\n",
        "audio5= transcribeAudio(getAudioVAD('/content/drive/MyDrive/DataSet-ConsejoEstudiantil/150Min.mp3'), small_model)\n",
        "smallTimeVAD[\"150\"] = audio5[0]\n",
        "audio6= transcribeAudio(getAudioVAD('/content/drive/MyDrive/DataSet-ConsejoEstudiantil/180Min.mp3'), small_model)\n",
        "smallTimeVAD[\"180\"] = audio6[0]"
      ],
      "metadata": {
        "id": "GMKr5myKNNSd",
        "outputId": "0983fe21-2085-49a0-91ad-02278b0b1db0",
        "colab": {
          "base_uri": "https://localhost:8080/"
        }
      },
      "execution_count": null,
      "outputs": [
        {
          "output_type": "stream",
          "name": "stderr",
          "text": [
            "/usr/local/lib/python3.10/dist-packages/torch/nn/modules/module.py:1501: UserWarning: operator() profile_node %669 : int[] = prim::profile_ivalue(%667)\n",
            " does not have profile information (Triggered internally at ../third_party/nvfuser/csrc/graph_fuser.cpp:104.)\n",
            "  return forward_call(*args, **kwargs)\n"
          ]
        }
      ]
    },
    {
      "cell_type": "code",
      "source": [
        "smallTimeVAD\n",
        "#ESTOS TIEMPOS PARECEN MEJORES PERO NO INCLUYEN EL TIEMPO DEL VAD"
      ],
      "metadata": {
        "id": "9hnqQhkVqmJO",
        "outputId": "7edbc734-7610-407f-e54f-1f655e38f49b",
        "colab": {
          "base_uri": "https://localhost:8080/"
        }
      },
      "execution_count": null,
      "outputs": [
        {
          "output_type": "execute_result",
          "data": {
            "text/plain": [
              "{'30': 174.00128769874573,\n",
              " '60': 314.86626648902893,\n",
              " '90': 396.40985894203186,\n",
              " '120': 550.9504287242889,\n",
              " '150': 658.8372821807861,\n",
              " '180': 775.54731798172}"
            ]
          },
          "metadata": {},
          "execution_count": 12
        }
      ]
    },
    {
      "cell_type": "markdown",
      "source": [
        "Modelo medium"
      ],
      "metadata": {
        "id": "bnGX6tWANFFQ"
      }
    },
    {
      "cell_type": "code",
      "source": [
        "mediumTimeVAD = {\"30\":0, \"60\":0, \"90\":0, \"120\":0, \"150\":0, \"180\":0}"
      ],
      "metadata": {
        "id": "IuXM6DKuIrlB"
      },
      "execution_count": 8,
      "outputs": []
    },
    {
      "cell_type": "code",
      "source": [
        "start = time.time()\n",
        "a1= getAudioVAD('/content/drive/MyDrive/DataSet-ConsejoEstudiantil/30Min.mp3')\n",
        "end = time.time()\n",
        "print(end-start)\n",
        "\n",
        "start = time.time()\n",
        "a2= getAudioVAD('/content/drive/MyDrive/DataSet-ConsejoEstudiantil/60Min.mp3')\n",
        "end = time.time()\n",
        "print(end-start)"
      ],
      "metadata": {
        "id": "N0nqnTGMJB__",
        "colab": {
          "base_uri": "https://localhost:8080/",
          "height": 140
        },
        "outputId": "ab1d3972-a07c-4932-8114-fd8baf0224ad"
      },
      "execution_count": null,
      "outputs": [
        {
          "output_type": "stream",
          "name": "stderr",
          "text": [
            "/usr/local/lib/python3.10/dist-packages/torch/nn/modules/module.py:1501: UserWarning: operator() profile_node %669 : int[] = prim::profile_ivalue(%667)\n",
            " does not have profile information (Triggered internally at ../third_party/nvfuser/csrc/graph_fuser.cpp:104.)\n",
            "  return forward_call(*args, **kwargs)\n"
          ]
        },
        {
          "output_type": "stream",
          "name": "stdout",
          "text": [
            "117.35872101783752\n",
            "209.56743001937866\n"
          ]
        },
        {
          "output_type": "execute_result",
          "data": {
            "text/plain": [
              "\"\\na3= getAudioVAD('/content/drive/MyDrive/DataSet-ConsejoEstudiantil/90Min.mp3')\\na4= getAudioVAD('/content/drive/MyDrive/DataSet-ConsejoEstudiantil/120Min.mp3')\\na5= getAudioVAD('/content/drive/MyDrive/DataSet-ConsejoEstudiantil/150Min.mp3')\\na6= getAudioVAD('/content/drive/MyDrive/DataSet-ConsejoEstudiantil/180Min.mp3')\\n\""
            ],
            "application/vnd.google.colaboratory.intrinsic+json": {
              "type": "string"
            }
          },
          "metadata": {},
          "execution_count": 6
        }
      ]
    },
    {
      "cell_type": "code",
      "source": [
        "start = time.time()\n",
        "a3= getAudioVAD('/content/drive/MyDrive/DataSet-ConsejoEstudiantil/90Min.mp3')\n",
        "end = time.time()\n",
        "print(end-start)"
      ],
      "metadata": {
        "colab": {
          "base_uri": "https://localhost:8080/"
        },
        "id": "7PL2v_vi4dbE",
        "outputId": "ebe0f3f6-422e-4ba3-b31f-8a1f222592f7"
      },
      "execution_count": null,
      "outputs": [
        {
          "output_type": "stream",
          "name": "stdout",
          "text": [
            "341.01606917381287\n"
          ]
        }
      ]
    },
    {
      "cell_type": "code",
      "source": [
        "start = time.time()\n",
        "a4= getAudioVAD('/content/drive/MyDrive/DataSet-ConsejoEstudiantil/120Min.mp3')\n",
        "end = time.time()\n",
        "print(end-start)"
      ],
      "metadata": {
        "colab": {
          "base_uri": "https://localhost:8080/"
        },
        "id": "TMpZYg1N4l-h",
        "outputId": "7697c12a-c63d-4ffc-b609-1a4cdb14ade0"
      },
      "execution_count": 9,
      "outputs": [
        {
          "output_type": "stream",
          "name": "stdout",
          "text": [
            "452.60670375823975\n"
          ]
        }
      ]
    },
    {
      "cell_type": "code",
      "source": [
        "start = time.time()\n",
        "a5= getAudioVAD('/content/drive/MyDrive/DataSet-ConsejoEstudiantil/150Min.mp3')\n",
        "end = time.time()\n",
        "print(end-start)"
      ],
      "metadata": {
        "colab": {
          "base_uri": "https://localhost:8080/"
        },
        "id": "VFJ_wjsX43ZZ",
        "outputId": "b2cf23c6-7cb2-4dbe-8238-e8e5b1c6d751"
      },
      "execution_count": null,
      "outputs": [
        {
          "output_type": "stream",
          "name": "stdout",
          "text": [
            "527.7319571971893\n"
          ]
        }
      ]
    },
    {
      "cell_type": "code",
      "source": [
        "start = time.time()\n",
        "a6= getAudioVAD('/content/drive/MyDrive/DataSet-ConsejoEstudiantil/180Min.mp3')\n",
        "end = time.time()\n",
        "print(end-start)"
      ],
      "metadata": {
        "colab": {
          "base_uri": "https://localhost:8080/"
        },
        "id": "j78aTuv648A8",
        "outputId": "dd259910-8d6b-4ade-acae-52ef4f7f7dfc"
      },
      "execution_count": null,
      "outputs": [
        {
          "output_type": "stream",
          "name": "stderr",
          "text": [
            "/usr/local/lib/python3.10/dist-packages/torch/nn/modules/module.py:1501: UserWarning: operator() profile_node %669 : int[] = prim::profile_ivalue(%667)\n",
            " does not have profile information (Triggered internally at ../third_party/nvfuser/csrc/graph_fuser.cpp:104.)\n",
            "  return forward_call(*args, **kwargs)\n"
          ]
        },
        {
          "output_type": "stream",
          "name": "stdout",
          "text": [
            "632.9283192157745\n"
          ]
        }
      ]
    },
    {
      "cell_type": "code",
      "source": [
        "audio1= transcribeAudio(a1, medium_model)\n",
        "mediumTimeVAD[\"30\"] = audio1[0]"
      ],
      "metadata": {
        "id": "SqIt8n4iISYJ"
      },
      "execution_count": null,
      "outputs": []
    },
    {
      "cell_type": "code",
      "source": [
        "audio2= transcribeAudio(a2, medium_model)\n",
        "mediumTimeVAD[\"60\"] = audio2[0]"
      ],
      "metadata": {
        "id": "Orj2yqPJITpK"
      },
      "execution_count": null,
      "outputs": []
    },
    {
      "cell_type": "code",
      "source": [
        "audio3= transcribeAudio(a3, medium_model)\n",
        "mediumTimeVAD[\"90\"] = audio3[0]"
      ],
      "metadata": {
        "id": "X5AyeN0HIbvH"
      },
      "execution_count": null,
      "outputs": []
    },
    {
      "cell_type": "code",
      "source": [
        "audio4= transcribeAudio(a4, medium_model)\n",
        "mediumTimeVAD[\"120\"] = audio4[0]"
      ],
      "metadata": {
        "id": "GJ1btqaUIc8k"
      },
      "execution_count": 10,
      "outputs": []
    },
    {
      "cell_type": "code",
      "source": [
        "audio5= transcribeAudio(a5, medium_model)\n",
        "mediumTimeVAD[\"150\"] = audio5[0]"
      ],
      "metadata": {
        "id": "AEJgYIkoIeX7"
      },
      "execution_count": null,
      "outputs": []
    },
    {
      "cell_type": "code",
      "source": [
        "audio6= transcribeAudio(a6, medium_model)\n",
        "mediumTimeVAD[\"180\"] = audio6[0]"
      ],
      "metadata": {
        "id": "YvNlZHzjIf5q"
      },
      "execution_count": null,
      "outputs": []
    },
    {
      "cell_type": "code",
      "source": [
        "mediumTimeVAD"
      ],
      "metadata": {
        "id": "mMgcUhFu5Mq1",
        "outputId": "4c2dc087-d740-48c1-8fd1-391cc4a988db",
        "colab": {
          "base_uri": "https://localhost:8080/"
        }
      },
      "execution_count": 11,
      "outputs": [
        {
          "output_type": "execute_result",
          "data": {
            "text/plain": [
              "{'30': 0, '60': 0, '90': 0, '120': 1168.8123168945312, '150': 0, '180': 0}"
            ]
          },
          "metadata": {},
          "execution_count": 11
        }
      ]
    },
    {
      "cell_type": "code",
      "source": [
        "mediumTimeVAD"
      ],
      "metadata": {
        "id": "1cSrPxmjJ-NO",
        "colab": {
          "base_uri": "https://localhost:8080/"
        },
        "outputId": "c8d8d8eb-0012-4af0-bd11-86f230502630"
      },
      "execution_count": null,
      "outputs": [
        {
          "output_type": "execute_result",
          "data": {
            "text/plain": [
              "{'30': 0, '60': 0, '90': 0, '120': 0, '150': 0, '180': 1777.4128229618073}"
            ]
          },
          "metadata": {},
          "execution_count": 11
        }
      ]
    },
    {
      "cell_type": "code",
      "source": [
        "mediumTimeVAD"
      ],
      "metadata": {
        "id": "UwiK2DGYsute",
        "outputId": "a1fa3b0a-5915-487d-fb94-aaebebef2dc5",
        "colab": {
          "base_uri": "https://localhost:8080/"
        }
      },
      "execution_count": null,
      "outputs": [
        {
          "output_type": "execute_result",
          "data": {
            "text/plain": [
              "{'30': 0, '60': 0, '90': 0, '120': 0, '150': 1239.0378558635712, '180': 0}"
            ]
          },
          "metadata": {},
          "execution_count": 14
        }
      ]
    },
    {
      "cell_type": "markdown",
      "source": [
        "# Generate new dataset (Audios del consejo estudiantil)"
      ],
      "metadata": {
        "id": "50wgV44N6NHk"
      }
    },
    {
      "cell_type": "code",
      "source": [
        "! pip install audiosegment"
      ],
      "metadata": {
        "id": "vE1zNRmL8VEo",
        "outputId": "2ad72452-f346-46e8-99e7-f9cfe1f8473b",
        "colab": {
          "base_uri": "https://localhost:8080/"
        }
      },
      "execution_count": null,
      "outputs": [
        {
          "output_type": "stream",
          "name": "stdout",
          "text": [
            "Collecting audiosegment\n",
            "  Downloading audiosegment-0.23.0-py3-none-any.whl (34 kB)\n",
            "Collecting pydub (from audiosegment)\n",
            "  Downloading pydub-0.25.1-py2.py3-none-any.whl (32 kB)\n",
            "Collecting webrtcvad (from audiosegment)\n",
            "  Downloading webrtcvad-2.0.10.tar.gz (66 kB)\n",
            "\u001b[2K     \u001b[90m━━━━━━━━━━━━━━━━━━━━━━━━━━━━━━━━━━━━━━━━\u001b[0m \u001b[32m66.2/66.2 kB\u001b[0m \u001b[31m8.0 MB/s\u001b[0m eta \u001b[36m0:00:00\u001b[0m\n",
            "\u001b[?25h  Preparing metadata (setup.py) ... \u001b[?25l\u001b[?25hdone\n",
            "Requirement already satisfied: numpy in /usr/local/lib/python3.10/dist-packages (from audiosegment) (1.23.5)\n",
            "Building wheels for collected packages: webrtcvad\n",
            "  Building wheel for webrtcvad (setup.py) ... \u001b[?25l\u001b[?25hdone\n",
            "  Created wheel for webrtcvad: filename=webrtcvad-2.0.10-cp310-cp310-linux_x86_64.whl size=73473 sha256=77bb854f202d1a1a0685ea77c106de3b868a1e4671037defddc7b97ccd1237a0\n",
            "  Stored in directory: /root/.cache/pip/wheels/2a/2b/84/ac7bacfe8c68a87c1ee3dd3c66818a54c71599abf308e8eb35\n",
            "Successfully built webrtcvad\n",
            "Installing collected packages: webrtcvad, pydub, audiosegment\n",
            "Successfully installed audiosegment-0.23.0 pydub-0.25.1 webrtcvad-2.0.10\n"
          ]
        }
      ]
    },
    {
      "cell_type": "code",
      "source": [
        "from pydub import AudioSegment\n",
        "\n",
        "def audiolenght(input_file):\n",
        "    audio = AudioSegment.from_file(input_file)\n",
        "    return len(audio)\n",
        "\n",
        "def cutAudio(input_file):\n",
        "    audiolen = audiolenght(input_file)\n",
        "    print(audiolen)\n",
        "    audio = AudioSegment.from_file(input_file)\n",
        "    counter = 0\n",
        "    start_time = 0\n",
        "    end_time = 300000\n",
        "    while end_time < audiolen:\n",
        "      audio_cut = audio[start_time:end_time]\n",
        "      start_time = end_time\n",
        "      end_time+= 300000\n",
        "      print(\"end_time\",end_time)\n",
        "      audio_cut.export(\"/content/audio\"+str(counter)+\".mp3\", format=\"mp3\")\n",
        "      counter+= 1\n",
        "\n",
        "# Ejemplo de uso\n",
        "input_file = \"/content/Consejo.mp3\"\n",
        "cutAudio(input_file)\n"
      ],
      "metadata": {
        "id": "2jcM-mkZ6T2Z",
        "outputId": "3ebe8ea0-727a-4abd-eb77-ae2742cc1bbc",
        "colab": {
          "base_uri": "https://localhost:8080/"
        }
      },
      "execution_count": null,
      "outputs": [
        {
          "output_type": "stream",
          "name": "stdout",
          "text": [
            "8921040\n",
            "end_time 600000\n",
            "end_time 900000\n",
            "end_time 1200000\n",
            "end_time 1500000\n",
            "end_time 1800000\n",
            "end_time 2100000\n",
            "end_time 2400000\n",
            "end_time 2700000\n",
            "end_time 3000000\n",
            "end_time 3300000\n",
            "end_time 3600000\n",
            "end_time 3900000\n",
            "end_time 4200000\n",
            "end_time 4500000\n",
            "end_time 4800000\n",
            "end_time 5100000\n",
            "end_time 5400000\n",
            "end_time 5700000\n",
            "end_time 6000000\n",
            "end_time 6300000\n",
            "end_time 6600000\n",
            "end_time 6900000\n",
            "end_time 7200000\n",
            "end_time 7500000\n",
            "end_time 7800000\n",
            "end_time 8100000\n",
            "end_time 8400000\n",
            "end_time 8700000\n",
            "end_time 9000000\n"
          ]
        }
      ]
    },
    {
      "cell_type": "code",
      "source": [
        "import zipfile\n",
        "\n",
        "# output zip filename\n",
        "zip_filename = 'datasetConsejo.zip'\n",
        "\n",
        "# Create zip and add files\n",
        "with zipfile.ZipFile(zip_filename, 'w') as zipf:\n",
        "    for i in range(0, 29):\n",
        "      zipf.write(\"/content/audio\"+str(i)+\".mp3\")\n",
        "zipf.close()"
      ],
      "metadata": {
        "id": "3wHC1l5kNB3l"
      },
      "execution_count": null,
      "outputs": []
    },
    {
      "cell_type": "markdown",
      "source": [
        "# Transcribir audios (Dataset 5 mins)"
      ],
      "metadata": {
        "id": "ZQSr8IHp87d6"
      }
    },
    {
      "cell_type": "code",
      "source": [
        "transcripts = {}\n",
        "for i in range (15, 30):\n",
        "  print(i)\n",
        "  audio= transcribeAudio('/content/drive/MyDrive/DataSet-ConsejoEstudiantil/Dataset-5mins/audio'+str(i)+'.mp3',medium_model)\n",
        "  transcripts[str(i)] = audio"
      ],
      "metadata": {
        "id": "NAjZmcOb86DT",
        "outputId": "43e130f5-8cec-43c1-8a31-d8ce4126073c",
        "colab": {
          "base_uri": "https://localhost:8080/"
        }
      },
      "execution_count": null,
      "outputs": [
        {
          "output_type": "stream",
          "name": "stdout",
          "text": [
            "15\n",
            "16\n",
            "17\n",
            "18\n",
            "19\n",
            "20\n",
            "21\n",
            "22\n",
            "23\n",
            "24\n",
            "25\n",
            "26\n",
            "27\n",
            "28\n"
          ]
        }
      ]
    },
    {
      "cell_type": "code",
      "source": [
        "print(transcripts['15'][1][\"text\"])"
      ],
      "metadata": {
        "id": "ZsMGwZBrBwye",
        "outputId": "79fe782f-18a3-46ba-d6f3-dbff2a3ee322",
        "colab": {
          "base_uri": "https://localhost:8080/"
        }
      },
      "execution_count": null,
      "outputs": [
        {
          "output_type": "stream",
          "name": "stdout",
          "text": [
            " más o menos la mitad de todos los graduados en áreas STEM son mujeres. Sin embargo, esto tiene diferencias muy importantes cuando uno desagrega estas áreas por disciplinas. Donde las mujeres han progresado mucho en las áreas de ciencias médicas o en ciencias de la salud, fundamentalmente tenemos una enorme cantidad de mujeres que andan graduándose de enfermería. Y entonces esto altera montones los promedios de los indicadores. Cuando uno controla esto y mira las otras áreas, la verdad es que hay problemas importantes, como mencionaba, en las áreas de ingeniería y tecnología. El gráfico que mostré en el capítulo anterior de cómo ha venido cayendo el porcentaje de personas que logra obtener su primer título, el indicador de eficiencia terminal de las cortes, cuando uno lo parte entre áreas STEM y no STEM y entre hombres y mujeres, encuentra un indicador muy preocupante, que es que está cayendo, de todas las caídas... La más crítica es de mujeres en áreas STEM, donde más se está contrayendo la tasa de graduación de la población a medida que avanzan las cortes. Así que a esto hay que entrarle con investigación fuerte hacia adelante para entender qué está pasando, pero aquí está el mayor retroceso. Entonces, esos indicadores que parecían estar empezando a mejorar lentamente, tal vez van a dejar de mejorar o se van a deteriorar. Cuando uno ya mira en el mercado laboral, pues obviamente que la segmentación que... prevaleció en el momento del estudio, en las carreras en el universitario, prevalece en el mundo laboral. En el área de ciencias y tecnologías, más o menos casi el 65% del total de la ocupación es masculina, frente a un 34% femenina. Las diferencias en el promedio general de total de las ocupaciones y en las ocupaciones no existen, hay una brecha de género, pero es menor. Pero cuando uno mira en las carreras de ciencia y tecnología, que se consideran de alta demanda, en este momento la brecha es gigantesca, son 72 puntos porcentuales. Entonces, la penetración de mujeres en el mundo laboral STEM todavía es muy modesta, para decirlo de alguna manera. Tal vez una pequeña noticia, digamos, favorable es que cuando uno desagrega por grupos de edad, las mujeres más jóvenes tienen mayores niveles de ocupación. Entonces, puede ser que las nuevas generaciones tienen algunas características que nos han ayudado a progresar más. Sin embargo, con el indicador que acabamos de dar, de caída, en las tasas de graduación, uno ahí tiene un, digamos, un matiz, digamos, a esta buena noticia. También sobre el mundo laboral, ¿verdad? Esto que llamamos el techo de cristal, analizamos con mucha profundidad la prima salarial, y es muy claro que todos los profesionales en áreas STEM son hoy los mejor pagados entre el conjunto de las profesiones, ¿verdad? Hay un premio por trabajar en áreas, insertarse laboralmente en el mundo STEM, y aunque persisten las brechas de género, son más bajas, ¿verdad? Son más pequeñas entre hombres y mujeres en el mundo STEM que en el mundo no STEM. El problema es que hay muy pocas mujeres que están insertadas en estas posiciones. Cuando le preguntamos a los profesionales sobre cómo ven las oportunidades, si hay igualdad de oportunidades para ascender en las carreras profesionales, con toda claridad la diferencia es muy importante, ¿verdad? Mujeres en STEM, que es la barra azul, siempre en relación a las mujeres no STEM y a los hombres, reportan que tienen menos posibilidades de recibir aumentos salariales, de crecer en la jerarquía en sus instituciones, o de recibir premios o reconocimientos por su labor dentro de las organizaciones. Y en el análisis especial de factores asociados a por qué esta baja inserción, encontramos una explicación grande, hicimos una amplia revisión de literatura para mirar qué tipo de aspectos había que valorar, y cuando hicimos una amplia revisión de literatura para mirar qué tipo de aspectos había que valorar, y cuando hicimos una amplia revisión de literatura para mirar qué tipo de aspectos había que valorar, como ya hemos dicho antes, la gente pensaba que debía de ser muy especializada en las cosas que querían, y cuando hicimos el testeo con los resultados de nuestra encuesta, es bastante consistente con lo que la literatura plantea. Una cosa complicada de decir es que la verdad es que la mayoría de las mujeres profesionales que logramos entrevistar, ya graduadas, provienen de hogares que ya tenían ventajas. Todos padres de título universitario, no eran hogares pobres, muchas venían, provenían de colegios privados, y eran hogares donde tenían más acceso a tecnología y tal. Entonces, digamos que parten de unas condiciones de origen ventajosas y eso es un problema más allá de brechas de género, es un problema de brechas de equidad en general, de a quienes les estamos dando mayores oportunidades o oportunidades aumentadas para poder acceder a ciertas carreras. También hicimos la prueba de una cosa que se llama la escala de SAGE, que es la escala que mide agencia personal y empoderamiento. Hicimos una escala recortada por el volumen de respuestas, pero aplicamos 27 de 45 criterios y con toda claridad hay un asunto de características personales y de autoimagen o autopercepción que también influye.\n"
          ]
        }
      ]
    },
    {
      "cell_type": "code",
      "source": [
        "transcripts = {}\n",
        "for i in [30,60,90,120,150,180]:\n",
        "  print(i)\n",
        "  audio= transcribeAudio('/content/drive/MyDrive/DataSet-ConsejoEstudiantil/'+str(i)+'Min.mp3',medium_model)\n",
        "  transcripts[i] = audio"
      ],
      "metadata": {
        "id": "fifRAoR92RaM"
      },
      "execution_count": null,
      "outputs": []
    },
    {
      "cell_type": "code",
      "source": [
        "print(transcripts[180][1][\"text\"])"
      ],
      "metadata": {
        "id": "knON7bkj2pYS",
        "outputId": "16e4e06b-3907-4fd8-a832-f2ea5309679a",
        "colab": {
          "base_uri": "https://localhost:8080/"
        }
      },
      "execution_count": null,
      "outputs": [
        {
          "output_type": "stream",
          "name": "stdout",
          "text": [
            " Buenos días nuevamente, habiendo concretado el receso de manera puntual, seguimos con la sesión con el punto siete de asuntos de fondo a partir de este momento. Doña Amaris, ¿me ayuda? Sí, señor. En esta propuesta tenemos el pronunciamiento del Consejo Institucional de Proyectos de Ley cuyos expedientes son el número 23.291, 23.389, 23.451 y 23.460. En la propuesta tenemos en el resultado número uno la preferencia del artículo 88 de la Constitución Política de la República de Costa Rica en la que se establece la obligatoriedad de la Asamblea de hacer consulta a las universidades sobre proyectos con temas de su competencia. En el punto número dos tenemos el artículo 18 del Estatuto Orgánico del Instituto en el que le confía el Consejo Institucional la evacuar las consultas referidas en el artículo 88 mencionado anteriormente. En el punto número tres tenemos que en la sesión ordinaria de 32.72 este Consejo aprobó una modificación del procedimiento para atender las consultas relacionadas con proyectos de ley. En los considerando en el punto número uno tenemos la recepción de los mensajes de correo electrónico de ante los cuales la Asamblea Legislativa hace la consulta a diferentes proyectos de ley al señor rector Juan Joquea, a la Secretaría del Consejo Institucional. En el punto número dos tenemos el traslado de las consultas a la Oficina Acesoria Legal en apejo al protocolo de atención de este tipo de consultas. En el tres la recepción de los oficios que contienen los criterios emitidos por la Oficina Acesoria Legal. En este caso se propone apoder el criterio de la Oficina Acesoria Legal en lo que se refiere a la transición de la autonomía universitaria para cada proyecto consultado que son los siguientes. El expediente 23.291 corresponde a la ley Marco para la comercialización de los créditos de obligación de carbono. En este caso la Oficina Acesoria Legal considera que no se transviene de la autonomía universitaria y da sus consideraciones al respecto. En el expediente 23.389 que es la ley de adición de un inciso L al artículo 70 del Código de Trabajo, ley número dos, el 27 de agosto de 1943 y sus reformas para conciliar los deberes familiares con los laborales. En este caso de igual manera la Oficina Acesoria Legal indica que no se traduce de la autonomía universitaria a su criterio y a algunos elementos. En el para expediente 23.451 correspondiente a fortalecimiento de la gestión integral de los residuos. En este caso la Oficina Acesoria Legal considera que no se traduce de la autonomía universitaria. Y por último tenemos el expediente 23.460 correspondiente a la ley para la atención integral de la vulnerabilidad social. De igual manera a la criterio de la Oficina Acesoria Legal no se traduce de la autonomía universitaria y se hacen consideraciones generales al respecto. Esta sería la propuesta para... Muchas gracias Ana Amaris. Abrimos el espacio por si alguien quiere referirse a algún punto de esta propuesta. No tenemos solicitudes de palabra. Procederíamos entonces a la votación. Don Randall a favor. Don Saúl. A favor. Donis Alexander. A favor. Doña Raquel. A favor. Don Nelson. A favor. Don Gerardo. A favor. Don Daniel. A favor. Don Ronny. A favor. Doña Ana Rosa. A favor. Y mi voto a favor. Y es a favor cero en contra. Y es a favor cero en contra. Procedemos con la firmeza. Don Randall. A favor. Don Saúl. A favor. Donis Alexander. A favor. Doña Raquel. A favor. Don Nelson. A favor. Don Gerardo. A favor. Don Daniel. A favor. Don Ronny. A favor. Don Ana Rosa. A favor. Y mi voto a favor. Es a favor cero en contra. y es a favor. Entonces queda aprobado y en firme. Muchísimas gracias. Pasaríamos al punto 8, reforma del artículo 83 bis 3 del Estatuto Orgánico del Instituto Tecnológico de Costa Rica, Atención Oficio TIES 0271-2023. Segunda votación a cargo de la Comisión de Estatuto Orgánico. Quien va a presentar? Don Gerardo, por favor don Gerardo. Yo puse un tema importantísimo, pero de exposición breve. Estamos en la segunda votación, simplemente como antecedente en una reforma previa que hicimos hace unos meses, que involucraba el artículo 83 bis 3. En el proceso, sin que fuera ni intencional ni fuera fundamento de la reforma, se omitieron dos párrafos finales del artículo 83 bis 3. En todo el proceso de esa reforma, desde que se insertó como resultado el texto del artículo 83 bis 3, el texto de la consulta, en el texto que votamos, en las dos votaciones, estaba mal consignado y así lo hizo saber el TIES en este oficio, TIES 0271-2023. Y resulta que los párrafos son esenciales. Y optamos como Comisión de Estatuto Orgánico, como una forma de remediar esto, por hacer todo el proceso de reforma. Estábamos ante una situación inédita de cuando se camina un proceso de reforma, se comete un error que podría considerarse un error material, pero que finalmente ya se publicó un texto del artículo y entonces para lograr seguridad jurídica. Y para cualquier discusión por compañeros y compañeras que pudieran considerar que nada más alegar error material era suficiente para insertar dos párrafos en el estatuto, hemos optado por todo este proceso. Hoy estamos en la votación final, que sería la segunda votación. Podríamos ir tal vez a la parte ya resolutiva. Todo esto ya fue explicado acá en dos momentos en este consejo y se hicieron las consultas. Todo el procedimiento está totalmente realizado, apegado a lo que el propio estatuto define. Aquí la intencionalidad de esta reforma es la siguiente, es reformar el artículo 83 bis 3 del Estatuto Orgánico insertando los dos párrafos siguientes al final del texto vigente. Repito que estos párrafos no son nuevos, eran los párrafos que estaban ya en el artículo, pero que se omitieron por error material en el proceso. Los párrafos dirían, además, específicamente en este caso, la representación estudiantil estará constituida por representantes estudiantiles de la carrera desconcentrada. Y el segundo diría la persona coordinadora de una unidad desconcentrada deberá ejercer sus funciones en jornada de medio tiempo completo, durará en sus funciones 4 años y no puede ser electo por más de dos periodos consecutivos. Como notan, como notarán, ambos párrafos son esenciales para la correcta aplicación del artículo 88 bis 3. Y en esta ocasión, como ya sería un acto final, entonces se inserta un punto B, podríamos mirarlo, en donde se indican los recursos. Esta, al ser un acuerdo del consejo institucional, pues tiene recurso de revocatoria ante este consejo o de apelación ante la Asamblea Institucional Representativa en el plazo de cinco días hábiles. Una vez que se publique, este es un acuerdo que será publicado en la gaceta, pudiendo las personas que se consideren afectadas por este acuerdo plantear el recurso de revocatoria o el de apelación o solo el de apelación, si que pueda ser rechazado por no haber acudido al revocatoria. Esa es la intencionalidad de esta propuesta. Muchas gracias. Muchas gracias, don Gerardo. Abrimos el espacio por si algún integrante desea referirse. No tenemos solicitudes de palabra. Vamos a someter la votación. Don Randall, a favor. Don Saúl, a favor. Don Luis Alexander, a favor. Doña Raquel, a favor. Don Nelson, a favor. Don Gerardo, a favor. Don Daniel, a favor. Don Ronny, a favor. Doña Ana Rosa, a favor. Aby Gail, a favor. Y mi voto a favor. 11 a favor, 7 en contra. Vamos con la firmeza. Don Randall, a favor. Don Saúl, a favor. Don Luis Alexander, a favor. Doña Raquel, a favor. Don Nelson, a favor. Don Gerardo, a favor. Don Daniel, a favor. Don Ronny, a favor. Doña Ana Rosa, a favor. Doña Gail, a favor. Y mi voto a favor. Y mi voto a favor. Y mi voto a favor. OK, entonces queda aprobada y firme. Muchas gracias. Pasamos al punto 9. Interpretación del artículo 50 bis del Estatuto Orgánico del Instituto Tecnológico de Costa Rica en respuesta al oficio EE-3520-23, primera votación a cargo de la Comisión de Estatuto Orgánico. Y procedo también a presentarlo. Perfecto, Don Gerardo. Este tema vino al Pleno, igual al Consejo Institucional, mediante el oficio EE-3520-30. Es una consulta que plantea el Consejo de la Escuela de Genería Electrónica y que tiene que ver con las obligaciones que le puedan caber a ese consejo en el marco de la designación de representantes ante el consejo de alguna de las áreas académicas en que la escuela participa. Y son respuestas que se han construido, pero que tienen el tono de interpretación del alcance del 50 bis. Es decir, no es simplemente responder las consultas, sino que las consultas finalmente plantean elementos sobre el contenido de este artículo y por tanto son de la índole de interpretación. La interpretación de un artículo del Estatuto Orgánico lleva el mismo trámite que una reforma. Para ello tiene que haber un dictamen de la Comisión de Estatuto Orgánico. Ese dictamen debe ser consultado con la comunidad al menos 20 días hábiles y luego, una vez que se reciben las observaciones y que son analizadas, pues debe ser votadas en dos sesiones del Consejo Institucional. Ya hemos agotado la primera fase que era elaborar un dictamen en la Comisión de Estatuto Orgánico y hemos agotado la segunda fase que fue someterlo a consulta en la comunidad institucional. Yo aquí voy a tratar de resumir los elementos esenciales. En este proceso de consulta se recibió respuesta, observaciones del señor director de la Escuela de Ingeniería Electrónica, don Miguel Hernández. Recordemos que es la escuela de electrónica en la que hizo la consulta. Don Miguel, no se advierte de una contradicción en el texto que se proponía. Esencialmente, la contradicción es esta. Hay un momento en donde en la respuesta se plantea que el Consejo de la Escuela está en la obligación de designar a sus representantes ante un consejo de área cuando esto corresponda. Y por otra parte, también decimos que ninguna persona del consejo de la escuela puede ser obligada a ser el representante. Entonces, don Miguel encuentra que ahí hay una contradicción. Hay una obligación de nombrar y a la vez una imposibilidad de pronto por la falta de candidatos. La Comisión de Estatuto Orgánico ayer conoció esta observación y le parece que tiene razón, don Miguel. Entonces, hemos propuesto una modificación en el texto para romper con esta contradicción, advirtiendo de una vez que efectivamente no se había detectado el Estatuto Orgánico. En esto no tiene contenido nuevo. Ya esto tiene alguna década, más de una década, pero a veces en el ejercicio y en la aplicación se detectan vacíos o se detectan este elementos como hemos sufrido ya en el tec de rompimiento del quórum estructural. Efectivamente, esta línea de que el consejo tiene que nombrar, pero que ninguna persona puede ser obligada a ser el representante, puede provocar en alguna circunstancia el rompimiento del quórum estructural de un consejo de área. Sin embargo, no es posible acá en este momento remediar eso, porque el trámite que tenemos no es de reforma del 50B, sino que es un tema de interpretación del 50B, texto vigente. Y entonces por aquí hay que tomar nota como consejo la Comisión de Estatuto Orgánico en particular para buscar en una reforma de futura y ojalá futura cercana remediar cómo se debería atender ese potencial riesgo. Podemos ir bajando hasta la parte resolutiva. Voy a sintetizar lo que pueda por asuntos de que la agenda está muy larga. La propuesta que tenemos es esencialmente la misma que se consultó con la comunidad, salvo la mejora en el término que planteado aquí. Plantean los compañeros del Consejo de Electrónica la primera pregunta. ¿Se pierde el quórum estructural de un consejo de área al otorgar permiso sin goza de salario a uno de sus profesores? En síntesis lo que pasa es que el consejo de área puede tener una conformación cuando hay 10 o más profesores en ese consejo es propio del área o hay menos. ¿Verdad? Cuando hay menos de 10, que es digamos muy típico de las áreas cuando arrancaron, las escuelas participantes deben designar a dos representantes de su consejo. En ese consejo de área siempre participan las directoras o los directores de las escuelas participantes y a veces dos profesores o profesoras nombrados por el consejo. Pero llega un momento como ya efectivamente ha ocurrido en donde hay profesoras y profesores que participan al menos medio tiempo en su consejo de área y entonces ya no hay representación. Pero esto es dinámico, es dinámico porque resulta que los profesores del área podrían pedir permiso sin goza de salario, podrían ser designados por ejemplo en un puesto de vicerector o en otro puesto interno y entonces el número de personas integrantes de los consejos de todos los consejos de escuela, los consejos de área no son excepción en esto, pueden variar como sabemos que varían por asuntos de nombramientos. Hay un semester en que puede haber una necesidad de abrir más grupos, se contrataba a una persona profesora, está sincerta al área, incrementa y pasa de 10, entonces ya no hay representantes de las escuelas, pero en el semestre que sigue la cantidad de cursos disminuye o algún proyecto de investigación terminó y entonces disminuye la cantidad de profesores a menos de 10 y tiene que volverse a activar. Entonces efectivamente la respuesta aquí es que sí que puede ropecer. Pasemos a la B por favor, la pregunta B, de ser así se recupera dicho por un estructural al nombrar a un profesor interino, pues sí desde luego, la dinámica de un consejo de área es la misma de un consejo de escuela, un profesor, una profesora se le contrata interina, se incerta, se incorpora al consejo de NuestroTEC, un compañero o una compañera que es contratado para que inicie, si tiene más de medio tiempo se incorpora de pleno derecho y con todas las obligaciones al consejo de escuela, en este caso al consejo de área. Entonces efectivamente si una persona, por ejemplo de una escuela, de un área, perdón, consigue permiso sin goce de salario y se contrata alguien que lo sustituya, se mantiene el mismo número de integrantes, no pasa nada. Si hubiese perdido cuoro en estructural y contratan a alguna persona interina, lo recupera, es la misma, misma dinámica y no hay ningún, digamos, elemento nuevo y así se explica en el punto B. Pasemos al punto C. Un profesor de una escuela que imparte un curso que corresponde al plan de estudio de área académica, sin importar a quién pertenece el código del curso, tiene que integrar su consejo de área, pues aquí la respuesta es que no, en esto está clarísimo. Los profesores y profesoras pertenecen o están asignados a una escuela o a un área académica o a una unidad desconcentrada. Los profesores damos cursos de servicio, por ejemplo, para el servicio de otras carreras, eso no hace que el profesor que da un curso de servicio tenga que incorporarse al consejo de la escuela para el cual ese curso de servicio está incorporado en un plan de estudio. Aquí la respuesta es que no, si una persona está en una escuela y da cursos de servicio para otra, pues está en su consejo de escuela, nada más no en el consejo de otra instancia. En el punto D, se puede pertenecer a dos consejos simultáneamente cuando se entiende que el espíritu del párrafo 2 del inciso C del artículo 50 bis es evitar precisamente esta situación. Aquí es una pregunta interesante porque el propio artículo 50 bis en ese párrafo que se cita ahí señala que una persona que pertenece a un consejo de área, ¿verdad? Puede estar 50% en un área y el otro 50 en otra área, en otra escuela, solo puede estar en un consejo. Aquí la respuesta es que sí, sí puede estar en dos consejos si es persona representante de un consejo o de una escuela. Me explico, la escuela de electrónica, por ejemplo, en este caso, si tuviese que nombrar representantes en el área académica de mecatrónica o de computadores donde participa, esos profesores son del consejo de electrónica que también tienen que estar en el otro consejo. Diferente es un profesor del área. Si el profesor está en el área, entonces está solo en uno de los consejos. Pero si es como representante, sí puede estar en no solo en dos, sino en más. Y así le decimos, ponemos como ejemplo acá, sin ánimo de recordarle a nadie cosa que lo pueda molestar, que bueno, los directores, los directores de una escuela tienen que estar en su consejo de escuela y tienen que estar en el consejo del área. Y como el caso del director de electrónica, pues tendrá que estar en el consejo de su escuela, del área de mecatrónica, del área de computadores, como le ocurre también al director de la escuela de computación. Entonces la respuesta es sí, en esa circunstancia. Entonces no se excluye del consejo. Se puede pertenecer a dos consejos, bueno, pasemos a la E. En caso de que no se presenten candidatos de una escuela para participar en un consejo de área, puede obligarse a alguno de sus miembros a trasladarse. Aquí nosotros, como Comisión de Estatuto Orgánico, miramos esto con mucho cuidado, porque efectivamente, cuando el consejo va a nombrar, podría ser que nadie quiera aceptar esa designación, por las razones que fueran. Y optamos, esta es una interpretación del artículo 50-10 y por tanto, pues hay que buscar elementos de hermenéutica, elementos de prácticas institucionales, elementos de cultura histórica, porque hay que a veces construir la interpretación, verá la letra, el texto, es una cuestión y en su interpretación literal no encontrarse la respuesta. Claro, hay que construirla. Aquí la pregunta de los compañeros y compañeras de electrónica es pero muy valiosa, muy importante, porque es bueno, ¿pueden obligar? Hemos ido por la idea de que a nadie se le obliga aquí a nada en este tipo de representaciones. Hay unas representaciones o una, digamos, obligaciones que se derivan con el cargo que uno asume. Entonces, por una persona electa, director de escuela, por ejemplo, pues tiene que formar parte del consejo de la vicerectoría. En este caso tendría que formar parte de los consejos de las áreas, pero eso viene con el cargo. Quien postuló sabe que así es. Es el caso, digamos, de la señora rectora, que ahora tendrá que integrarse pues al consejo de rectoría, al consejo institucional, al conare y ya eso viene con el cargo. Diferente es que a una persona se le obligue a estar en el comité de becas o en la comisión de carrera profesional o se le quiera insertar a la fuerza en el consejo de investigación. Esas son, digamos, posibilidades que el Estatuto Orgánico le dice que hay derecho a ser electo y a postular. Y nos parece que la línea aquí tiene que ser esta, de respeto a lo histórico. Nadie se lo obliga y por tanto la respuesta es que no se le puede obligar. Es aquí donde don Miguel advirtió que de mantenerse esta interpretación pues se genera una contradicción entre que el consejo tenga que nombrar y que la persona no puede ser obligada. Nosotros insistimos como comisión de Estatuto Orgánico en lleno por la línea de respeto a las personas y consecuente con la línea histórica de que a las personas no se les obliga, aunque esto genere un potencial de pérdida de acuerdo estructural que habrá que reparar, pero no es nuevo. Bastantes esfuerzos ha hecho este consejo y bastantes esfuerzos hemos promovido en ayer para ir corrigiendo todos los riesgos de pérdida de acuerdo estructural, del consejo institucional, de las escuelas, los consejos, etcétera, del mismo tribunal. Entonces aquí la respuesta en la pregunta es que no. Y pasemos a la que sigue, a la F. ¿Puede la escuela de ingeniería electrónica nombrar representantes cuando ya renunció a participar en el área académica de mecatrónica? Vengan, es en la respuesta a la F donde surgía la contradicción que nos señaló don Miguel. La respuesta que proponemos es que no puede dejar de nombrar. Es decir, la escuela de ingeniería electrónica renunció a formar parte, pero esa renuncia tal como hemos indicado en otros momentos, es una renuncia que no genera efectos inmediatos dado que la escuela no puede salirse de un área por una decisión exclusivamente de su parte. Las áreas académicas son creadas con todo un proceso, pero que remata en un acuerdo del consejo institucional y el acuerdo está vigente. En tanto el acuerdo de creación del área esté vigente, pues las escuelas participantes no tienen facultades para salirse. Pueden desde luego manifestar su intencionalidad de no seguir participando y eso puede llevar a un replanteamiento del acuerdo del consejo institucional con la figura que eso pueda conllevar. Si son solo dos escuelas y una de ellas se sale, de pronto el área ya no puede seguir porque las áreas son para dos o más escuelas. Pero eso es una figura. En tanto este consejo institucional no haya modificado el acuerdo, la escuela de ingeniería electrónica sigue usando el término de el estatuto participando en el área y teniendo pues todas las obligaciones que implica participar en el área, que en este caso sería designar a sus representantes, si es necesario, impartir los cursos, etcétera. Y entonces, bueno, ahí removimos, también redactamos diciendo que está obligado siempre y cuando haya personas. Es lo que se agregó al final de este párrafo. Repito aquí, el texto consultado es el mismo en todo excepto en este elemento porque producto de la consulta fuimos advertidos como consejo de una contradicción y la comisión de estatuto orgánico dándole, digamos, prevalencia y preferencia a la idea de que nadie puede ser obligado, obligada a formar parte de un consejo de área. Entonces señala al consejo de electrónica que está obligado a nombrar siempre y cuando haya personas interesadas. Y este es el punto, en el punto B, indicar que con este acuerdo no caben recursos por no tratarse de un acto final. Aquí tal vez para doña Laura que nos acompaña hoy. Lo que sucede es que las reformas al estatuto orgánico y las interpretaciones se votan en dos sesiones. Hoy estamos en la primera votación. De este primer acuerdo no caben recursos porque es un acto que no es final. Es una actitud de votación de aprobarse ya la reforma encha en firme y por tanto ahí, además de darle firmeza, si se abren los recursos de revocatoria ante este consejo o de apelación ante la IR. Muchas gracias. Muchas gracias don Gerardo por la presentación de la propuesta. Abrimos el espacio por si hay observaciones o comentarios. No veo solicitudes de palabra. Entonces procederíamos con la votación de la misma. Don Randall. A favor. Don Saúl. A favor. Don Luis Alexander. A favor. Don Raquel. A favor. Don Nelson. A favor. Don Gerardo. A favor. Don Daniel. A favor. Don Ronnie. A favor. Don Ana Rosa. A favor. Dona Vigail. A favor. Y mi voto a favor. 11 a favor 0. 11 votos a favor 0 en contra. Procedemos con la firmeza. Don Randall. A favor. Don Saúl. Perdón, perdón. Disculpen, disculpen, disculpen. Es primera votación. Gracias. Disculpen. Bien, muchas gracias. Pasamos entonces al punto 10. 3. Recursos de revocatoria con apelación de subsidio contra la derogatoria del acto inciso B del acuerdo de la sesión 1438 en su artículo 16 del 9 de junio de 1988 y revisión del convenio TEC-AVERTEC según sesión ordinaria número 3309 artículo 8 del consejo institucional del ITC-R celebrada el 17 de mayo del 2023 suscrito por el doctor Luis Fernando Bogantes García, el doctor Miguel Mendes Solano, el máster Gustavo Cabrera Araya y el máster Jorge Vega Agüero, integrantes de la unidad de deporte del ITC-R. Está a cargo de la comisión de estatuto orgánico. Si procedo a presentar la propuesta. Para empezar, como es un recurso de revocatoria en el marco de lo que establece nuestro reglamento de consejo institucional, la semana pasada discutimos sobre la aceptabilidad, digamos, sobre la admisibilidad de este recurso y el consejo acordó de crear algo admisible y encargar la discusión por el fondo. Estamos hoy en la parte de analizar el recurso por el fondo. La comisión de estatuto orgánico que fue la comisión encargada pues ha brindado un dictamen. Es un texto largo y yo voy a explicar solo en algunas partes el documento completo, ¿Verdad? El acuerdo completo será entregado a los compañeros recurrentes, pero para efectos de la presentación voy a limitarme a explicar algunos detalles que fundamentan el acuerdo que se propone. Bueno, los compañeros de la unidad de deporte han hecho un recurso de revocatoria, tuvo admisibilidad por cuanto cumplía con las formalidades que están establecidas y hacemos un análisis en el texto dictaminado por la comisión de estatuto orgánico con un estilo que hemos procurado mantener que es examinar detalladamente cada uno de los argumentos que los compañeros presentan en respecto a su derecho a presentar recursos y en respecto a que pues así deberían atenderse todos los recursos en el instituto con la mayor dedicación, con el mayor análisis y de una perspectiva de que quien recurre no está agrediendo, no está ofendiendo, no está molestando, sino que hace un ejercicio de un derecho y que además es sumamente sano para el instituto tecnológico, las personas de recursos que nos permiten construir acuerdos pertinentes y en el marco de la norma, de las reglas y de las políticas que tenemos. Los compañeros recurrentes plantean en su primer elemento una serie de declaraciones sobre la escuela de cultura y deporte, la unidad de deporte, alerte, una serie digamos de elementos que resaltan, digamos las tareas, actividades que resaltan. Sobre este elemento resumo, planteémece, sobre estos planteamientos se debe indicar a las personas recurrentes que el acuerdo de lanzación ordinaria 30.09.8, objeto de recurso, no ignora las actividades académicas que le son propias a la escuela de cultura y deporte en general o a la unidad de deporte, en particular, ni las modifica o limita en modo alguno. Tampoco funciona el acuerdo de recurrido, la actividad que desarrolla alerte, ni la forma en que se hayan ejecutado los presupuestos asignados. Ahí agregamos más, pero esencialmente no hay en el acuerdo de recurrido ningún cuestionamiento, ninguna limitación, ningún elemento sobre la escuela de cultura y deporte y sobre la unidad de deporte ni sobre alerte. En el segundo planteamiento ellos señalan que el acuerdo de la sesión 30.09, lo que hace este acuerdo fue derogar un viejo acuerdo allá del año 88 que repartía los ingresos de derechos de matricula en 65% para Atec y 35% para Adetec. Ellos señalan ese acuerdo y bueno, aquí lo que le decimos es que en efecto es cierto, ¿verdad? Sobre este elemento se va a indicar a los recurrentes que es un hecho cierto, porque no se deriva la soma alguna para que pueda acoger que es un recurso por el fondo. Esto es bien importante porque las personas cuando recurren de pronto dicen cosas que son verdad, pero el hecho que sean verdad no implica que eso les de un plom para que se derogue el acuerdo de recurrido. En este caso es cierto, eso es lo que decía el acuerdo este. El recorrido, perdón, el acuerdo que eliminamos o que derogamos en el acuerdo de recurrido. En el tercer planteamiento también ellos hacen un señalamiento, el acuerdo que se tomó en este consejo, digamos todo lo que señalan en su tercer planteamiento es totalmente verdad, pero igual no les da ninguna razón el hecho que sea verdadero para tener que derogar el acuerdo recurrido. Un elemento, voy a hacer una pequeña pausa aquí, un elemento porque están resultando, y que es esencial acá para la forma en que vamos a proponemos que se resuelva, es que se reformó el artículo 109 del Estatuto Orgán en atención a unas observaciones que había hecho la auditoría en ese ejercicio y en un encargo que este consejo le hizo a la Comisión de Estatuto Orgánico, se modificó el 109 para cambiar términos viejos y actualizar por estos derechos de matrícula, bienestar estudiantil, hay una serie de términos que están en el Estatuto Orgánico que han ido cambiando con el tiempo en el seno del conare y que era necesario precisar para que haya seguridad jurídica. Entonces el 109 además tenía una afirmación que decía que a la FATEX se le dará un presupuesto por los ingresos que se recauden por derechos de matrícula en ese momento, digamos bienestar estudiantil con términos de matrícula, pero no precisaba si era el 100% o no, y ante esa, digamos ejercicio de interpretación, la Comisión de Estatuto Orgánico consideró que no era una interpretación lo que cabía sino una reforma que precisara y en el ejercicio del análisis se optó por indicar que es el 100%. Bueno esa reforma del 109 siguió todo el proceso, se dictaminó, se consultó, no hubo observaciones, se aprobó en dos votaciones, está totalmente en firme. Entonces, como ya ahora está claro en el Estatuto Orgánico que el 100% es para el presupuesto de FATEX, eso derogó de manera tácita ese viejo acuerdo del 88 que decía que el 65 era de FATEX y el 35 era del ADERTEX. Esto es lo que se llama una derogatoria tácita. Sobre este elemento se insertó un resultado con el criterio de la procuraduría, y lo que es en síntesis es cuando hay una norma nueva, la norma nueva deroga, tácitamente sino si no se indica explícitamente lo hace de manera tácit lo que se dio común. En este caso además estamos hablando de que el artículo 100 del Estatuto Orgánico priva sobre cualquier norma reglamentaria, es decir que aquí hay una derogatoria tácita por dos fundamentos, uno por la nueva prevalece sobre la norma vieja y porque además hay una jerarquía de normas y entonces la norma del Estatuto Orgánico priva sobre los reglamentos. El otro elemento que ha generado digamos, tal vez confusión en algunas personas es que hay un convenio firmado y hay un convenio firmado en función de un acuerdo del Consejo Institucional que fue derogado por la reforma del 109, entonces dudas de cómo se procede. Bueno aquí lo que pasa, digamos el marco es que la reforma del Estatuto Orgánico va independientemente de lo que digan los reglamentos y de lo que digan los convenios, pero el Estatuto Orgánico está por encima, es la norma máxima a nivel interno, entonces cuando la IR o el Consejo Institucional promueve una reforma al Estatuto Orgánico, esto no se para, no se detiene porque haya un reglamento, porque haya un acuerdo del Consejo Institucional o porque haya un convenio, sin embargo desde luego que aprobada esa reforma pues de pronto habrá que buscar remedio a las contradicciones que surgen, un remedio es decir, bueno está derogado, pero bueno, pero si hay un convenio, pues hay que revisar el convenio y replantear, para eso se insertan transitorios o para eso se renegocian los convenios, es decir, las consecuencias se reparan por los medios que legalmente sean procedentes, lo que no cabe es argumentar que no se puede reformar el Estatuto Orgánico porque un reglamento dice algo o porque un convenio dice algo, no, la norma máxima se reforma cuando hayan razones de conveniencia o oportunidad de legalidad y esto fue lo que aquí pasó. Bueno, seguimos con el cuarto planteamiento, voy a tratar de ser más breve, aquí bajemos, aquí voy con el cuarto planteamiento, perdón, es que yo estoy guiándome por mi documento, entonces esperaba que lo moviera. En cuarto planteamiento, igual los compañeros resaltan ahí una serie de elementos que son ciertos, pero que la mera transcripción de un hecho cierto no les da ningún elemento. En síntesis, para resumir esto, lo que ocurre acá es que la reforma del 109 que se hizo siguiendo todos los protocolos, todos los procedimientos y que fue consultada, derogó de manera tácita ese artículo de 1988, de manera tácita, sin embargo, nosotros como Comisión de Estatuto Orgánico consideramos prudente y conveniente que se hiciera también una derogatoria explícita, esto por seguridad jurídica. Lo que sucede es esto, aquí no solo somos transitorios nosotros como personas, sino que somos muy, pero muy frecuentemente transitorios en los puestos, en los puestos de rectoría, vicerrectoría, consejo, entonces si dejamos una norma derogada de manera tácita, pudiera ser que de pronto dentro de unos dos, tres o cuatro años se nos olvide, salen y encuentren los dos acuerdos y encuentren que hay contradicción y si esto lleva a un rector, a una rector, a unos vicerrector, al mismo consejo, a tener dudas o a tomar decisiones equivocadas, entonces nos parece que no es sano dejar las cosas derogadas de manera implícita, potásica, sino que se derogue y eso fue lo que hicimos, derogar de manera explícita. Por eso un elemento aquí bien importante es que si los compañeros recurrientes les diéramos razón, es decir, derogábamos el acuerdo que a su vez derogó el acuerdo del 88 no cambia nada, porque la norma seguiría, recupera vida, consitoriamente, porque la derogatoria explícita se elimina, pero sigue derogada de manera tácita y no hay cómo corregir esa derogatoria tácita porque la reforma del 109 está vigente, está en firme, entonces este recurso no se puede acoger por asuntos de lógica estricta, lógica de esa manera, que aunque se acogiera no produce ningún efecto. Lo otro es que no hay en este trámite ninguna imperfección, como reclaman los recurrentes, de que no se hizo consulta a la escuela de cultura y deporte, a la unidad de deporte o a la de la consulta se hizo en el marco de la reforma del 109, que era lo que era procedente, la 109 fue consultada. Si los compañeros recurrentes u otras autoridades no reaccionaron por las razones que fueron ya es extemporánea, no hubo ningún tipo de observación ni de reclamo ni de nada en el momento procesado oportuno. Entonces este acuerdo recurrido no tenía que ser consultado, no hay ninguna parte que tenía que ser consultada de manera forzosa, obligatoria, ni siquiera por un asunto de conveniencia, por cuanto el acuerdo que genera la necesidad de la derogatoria sí fue consultado y no tuvo respuesta de ninguna instancia en ninguna persona. Y el otro asunto que quiero resaltar ya con fines de resumen es que un elemento que estableció la IR como elemento fundamental para que los recursos de revocatoria sean. Gerard, ¿tiene el micrófono apagado? Lo perdimos, creo. Perdón, no sé por qué se apagó. Debe ser la internet. A ver, un elemento esencial que la IR estableció, aquí estamos en el marco de la norma reglamentaria que estableció la IR para el 136 y 137, es que las personas pueden recurrir solo a aquellos acuerdos que les afecten personal y directamente. Esto es muy importante porque antes esa figura la examinábamos en la primera sesión, ahora la examinamos en la segunda, precisamente para que digamos la conclusión si le afecta o no, no sea un asunto de mera admisibilidad, sino de análisis detallado de los argumentos que la persona presenta. Este acuerdo no afecta en nada a los compañeros recurrentes en lo personal ni los afecta directamente. Aquí lo que se quedó derogado es un artículo que decía cómo se repartían los montos que se recaude por derechos de matrícula, hoy llamado bienestar estudiantil. Eso es lo que se derogó y eso no afecta a ningún profesor, no le signó obligaciones a los profesores, no lo sancionó a los profesores, no les quitó funciones, no les quitó ningún derecho, simplemente es un asunto puramente de presupuestario, de un manejo de un convivio. Entonces los compañeros no están legitimados para recurrir por cuanto el acuerdo que ellos han recurrido no les afecta directamente. Y eso es bien importante, esto podría afectar como así prevé este consejo en ese acuerdo recurrido, afecta una cláusula de convenio. Y ese convenio, el mismo convenio prevé que la administración puede negociar el convenio, lo puede replantear el convenio o lo puede incluso rescindir. El convenio que está con Adeltec no fue derogado por este consejo, no fue rescindido por este consejo, ni le ordena a la rectoría que lo recibe. Esto es un asunto total resorte de la rectoría cuya responsabilidad principal descansa en la vice rectora de vida estudiantil, dale seguimiento. Pero digamos, ese convenio ya prevé que en algún momento pudiera ser replanteado, podría ser negociado o podría ser rescindido. El acuerdo del CEI no tiene nada que ver con ello y entonces nada afecta a los profesores. Dicho lo siguiente, pero dicho eso, pasamos a la parte entonces ya resolutiva, podemos irnos a la parte resolutiva. Que entonces se propone rechazar en todos sus extremos el recurso de revocatoria con la operación del subsidio en contra del acuerdo de la decisión ordinaria del consejo institucional número 30. Bueno, voy a decir correctamente porque mis colegas en matemática nos han advertido que no digamos 33.9, sino 3.309 como correctamente es. Artículo 8 del 17 de mayo del 2023. Derogatoria del acuerdo de la sesión número 1.438, artículo 16 inciso B y autorización a la administración para que presupuesten y ejecute transferencia presupuestaria al ADERTE en el marco del comité vigente presentado por los profesores de Fernando Bogantes García, Miguel Eduardo Méndez Solano, Jorge Armando Vega Güero y Gustavo Alzides Cabrera Araya. En el punto B es instruir a la Secretaría del Consejo Institucional, traslade a conocimiento del directorio de la Asamblea Institucional Depresentativa, el recurso presentado por los profesores de Fernando Bogantes García, Miguel Eduardo Méndez Solano, Jorge Armando Vega Güero y Gustavo Alzides Cabrera Araya y el expediente correspondiente para el trámite que corresponda ante la Asamblea Institucional Depresentativa. Este punto B es por cuanto el acuerdo fue presentado en subsidio y como se propone rechazarlo en todos sus alcances es nuestra obligación presentarlo en el plazo de dos días hábiles ante el superior que el AR y se informar a los profesores de Fernando Bogantes García, Miguel Eduardo Méndez Solano, Jorge Armando Vega Güero y Gustavo Alzides Cabrera Araya la responsabilidad establecida en el artículo 10 del reglamento de la Asamblea Institucional Depresentativa con respecto a la elaboración de una propuesta base para continuar con la fase de apelación del recurso planteado. Este punto C nuevo no lo estábamos incorporando antes, pero en la línea de que las personas recurrentes tengan la mejor información y que esa es la línea que tiene que privar tanto por responsabilidad de legales, pero también por el ánimo que inspira que en el instituto las personas somos primero y entonces respecto a las personas y sus derechos, resulta que uno no puede ir al AR nada más con un recurso redactado en prosa, como sí se puede hacer ante este consejo, sino que debe llevar el formato de propuesta base en el estilo que tiene la AR. Entonces se lo advertimos a los compañeros para que si así lo tienen a bien pues continúen con el proceso ante el AR respetando los alcances del artículo 10, caso contrario su recurso no podría ser tramitado en AR. Y van a indicar que por tratarse de este acuerdo en la fase que no es dictado final, solo caben los recursos de aclaración o adición los que deben presentarse en el plazo de cinco días hábiles posteriores a la comunicación del acuerdo. Este es un acuerdo del consejo institucional, pero este acuerdo no es recurrible, no tiene recursos de revocatoria. Y lo que procede es el punto B y el punto C. Va para la AR y la AR si es que se tramita ahí pues cerraría ya la vía administrativa. Bueno, eso es el resumen. Nos parece que hemos fundamentado bien a partir de un análisis de cuidadoso, respetuoso, pero no tienen los compañeros recurrentes razón en su pretensión, ni por el fondo, por los argumentos que plantean, ni tampoco porque no cumplen con lo que establece la AR de que sean personas directamente y personalmente afectadas, no lo son, ni este, hay ningún tipo de afectación para ellos, ni tampoco lo hay para nadie más, verdad, pero en términos de los proponentes, de los recurrentes, perdón, no hay ninguna afectación. Muchas gracias. Muchas gracias, don Gerardo, por la presentación de la propuesta. Abrimos espacio para si alguien quiere referirse, no tenemos solicitudes de palabra, procederíamos a la votación. Entonces, don Randall. A favor. Don Saúl. A favor. Don Luis Alexander. A favor. Dona Raquel. A favor. Don Gerardo. A favor. Don Daniel. A favor. Don Ronny. A favor. Dona Vigail. A favor. Dona Ana Rosa. A favor. Don Nelson. A favor. Y mi voto a favor. A favor. Don César, a favor, se lo encontra, unánime, procedemos ahora sí con la firmeza. Don Randall. A favor. Don Saúl. A favor. Don Luis Alexander. A favor. Dona Raquel. A favor. Don Gerardo. A favor. Don Daniel. A favor. Don Ronny. A favor. Dona Ana Rosa. A favor. Dona Vigail. A favor. Don Nelson. A favor. Y mi voto a favor. Fonsi, a favor, queda entonces aprobada y en firme por unanimidad. Este, por ejemplo, si nada más, este, con respecto a ese tema de instalar muy respectuosamente a doña Camila, la próxima vicerectora a la vieza, a que ojalá pueda retomar este tema pronto y sentarse a conversar con la directividad de esa asociación para aclarar. Me parece que si se conversara con ellos y se aclarara pronto los términos en que se negociaría el convenio, este tipo de dudas, si uno entiende por qué son, podrían aclararse y avanzar más rápido en ese trabajo. Pues es un beneficio que se que recibe alguna población y que no deja de uno entender la preocupación que puede generar, de sentir que quedó ahí algo no claro desde su perspectiva. Pero me parece que se resuelve conversando los términos en que se plantea ese convenio. Don Randall, perfecto. Muchas gracias. Pasamos ahora entonces al punto 11 de la agenda. Impacto de las modificaciones presupuestarias en el plan anual operativo en el marco del informe de modificación presupuestaria 1-2023 y de los oficios R-115-2023 y R-420-2023 a cargo de la Comisión de Planificación Administración. Don Nelson. Ana Rosa, perfecto. Ana Rosa. Gracias. Esta propuesta responde a la política. Perdón. Perdón, voy al baño en segundo. Esta propuesta responde a la política general de gestión de institucional y también a las funciones de este consejo institucional en términos de aprobación del plan, de los planes que tiene esta institución. También recordemos que cualquier modificación al presupuesto plan tiene normas técnicas, las que nos dicen cuál es el proceso de una aprobación interna, las justificaciones, vamos bajando, las justificaciones de la variación del presupuesto y su vinculación con la planificación, cómo corresponden tratar estas modificaciones presupuestarias. Y también en el resultado 4 se resalta el reglamento para la aplicación de modificaciones y es clarísimo el artículo 4 que dice que toda modificación presupuestaria debe justificarse en función del plan estratégico, planes tácticos y plan anual operativos vigentes y conforme a los procedimientos. Vamos bajando igualmente cuál es el procedimiento para atender estas modificaciones y en el artículo 9 las instancias encargadas, las instancias que van a ser observantes de todos estos procesos y el artículo 11, cómo es el proceder con las instancias responsables. Recordemos que en la sesión ordinaria 3277, el 24 de agosto del 2022 se aprueba la cantidad total y distribución de copos para estudiantes de no ingreso para el año 2023 y es en la sesión ordinaria 3282 donde detallamos las metas y las metas se detallaron con números concretos. Se dijo en la meta 2.1.1.13 que la matrícula iba a ser de 1.975 estudiantes de no ingreso a programas de grado, en la meta 2.1.1.16 la cantidad de grupos de grado que serían 4.568 y en la meta 3.1.1.1 la impartición de 202 grupos de docencia. Ya hemos tenido modificaciones a las metas, el plan anual operativo 2023 ya fue reformulado por este consejo institucional en la sesión 3308. De parte de la rectoría se recibe el 13 de febrero una solicitud de modificación de estas metas, principalmente la meta de nuevos de cantidad de estudiantes de no ingreso indicando que se requiere cambiar la meta en vez de 1.975 estudiantes a pasar a 2036 estudiantes nuevos. Esto es analizado, vamos bajando, por la comisión de administración y planificación se responde a esa solicitud y se le solicita a la rectoría presentar en un plazo de 10 días hábiles un detalle de las causas que originaron la diferencia de estudiantes matriculados de no ingreso, las medidas que se han adoptado o adoptarán para evitar vuelva a suceder y las implicaciones presupuestarias del presente semestre. No obstante en el oficio R316 se presenta ante el consejo institucional la modificación 1 del 2003 y el respectivo dictamen de la oficina de planificación según OPI 8723 y es en la sesión 3308 del 10 de mayo que se da por conocido ese informe de modificación y nuevamente en un acuerdo del consejo institucional se le vuelve a recordar al señor rector que presente en un plazo de 10 días hábiles atender el memorando que la comisión de planificación el 128 le fue entregado para que justifique este las modificaciones presupuestarias número 15 977 y 16 074 que implican una modificación de las metas del plan operativo 2003. Se recibe de parte de la vicerectora de docencia por medio del oficio 210 del 19 y aquí hace toda una extensa y vamos bajando poco a poco detalle de todo lo que significó esta esa modificación de la cantidad de estudiantes que fueron admitidos cuáles fueron las razones que implicaciones significó en cada una de las carreras las coordinaciones que fueron realizadas las necesidades que implicaron para cada uno de las escuelas y señala que cuáles fueron las medidas que este adopto que está un poquito más abajo en donde señala que lo que este actuó fue creando este como acciones que realizó fue el recargo de funciones dada el incremento de los de los cupos y esto implico que la mayoría de esas plazas serán asumidas por el personal académico que se encuentra nombrado de forma parcial vamos bajando y que esto no significó la creación de esta de plazas nuevas para poder atender ese cambio de las cantidades de estudiantes en el oficio nos vamos al 13 en el oficio 420 hay todo un detalle por parte de la rectoría del señor rector este señalando los diferentes dictámenes que este se gestionaron para poder atender esta modificación y este concluye que las modificaciones se aprueban por el ente técnico vía sistema sapiens y considerando como correcta la vinculación del movimiento y justificación con la meta 2.1.1.16 impartir 4568 este grupos también este se señala y aquí antes de llegar al 14 al punto 14 en donde dice que a partir del análisis de los entes técnicos se nota que se cumplen la norma ya que las modificaciones en mención se vinculan con la meta 1.2.1.1.16 impartir 4568 grupos de grado la comisión de planificación en la sesión 1023 celebrar el 22 de junio analiza y aquí este en los resultados explicita este el análisis que se hace del informe de la modificación este presupuestaria y ya desde aquí señala que implica eso ya una variación de una meta del plan anual operativo y analiza cada una de las modificaciones presupuestarias que fueron tramitadas es según los numerarios 15 no es 77 y el numerario 16 0 74 que implicaron una serie de modificaciones en montos el consejo institucional este como lo refería anteriormente le solicitó a la rectoría entonces viene el análisis de parte de la comisión en donde señala lo siguiente y nos vamos al punto a las causas que originaron la diferencia de estudiantes matriculados de no ingreso entre el tipo que se tiene previsto y el resultante se atribuyen a una falla del sistema de matrícula según los documentos que le fueron presentados al consejo en b las medidas que se adoptaron para poder atender esa diferencia en el sistema de matrícula este c la lo que las modificaciones que tuvieron que que realizarse y las acciones por parte de la rectoría y en el 2 indicamos lo siguiente se denota falta de pericia en la aplicación de la norma institucional que rige el trámite de las modificaciones al respecto se debe indicar que la modificación es presupuestarias antes indicadas contenidas en el informe de modificación presupuestaria no solamente se vincula con la meta 211 16 este el cual contabiliza el total de estudiantes de de de nuevo ingreso este y además toda y como sabemos toda modificación presupuestaria que implica variaciones del plan eso tiene que ser este aprobado por el consejo institucional bajamos y en el 3 indicamos que la solicitud de modificación de la meta 211 13 plasmada en el oficio r 115 del 2023 a la fecha se encuentra sin resolver por el consejo institucional pero se presenta modificaciones de presupuesto aprobadas y ejecutadas por instancias involucradas en el trámite de solicitud que implica modificar esa meta elemento que no se advierte en el informe que se presentó de modificación presupuestaria 1 2.0 23 ni tampoco en los oficios de opi 0 887 y r 420 este no voy a dar este lo que se dicta a mí por parte de de la comisión porque esto lo voy a presentar al final en el en el se propone de acuerdo en cuanto a los considerando nada más resaltar verdad que se conocieron todos estos dictámenes por parte de la comisión de planificación que hacía el análisis del r 115 y del r 420 del 2023 y de todo el trámite y en el 3 este se resalta que el análisis que efectuó la comisión de planificación y administración concordando en que es necesario que la administración atienda las normas técnicas sobre el presupuesto público en cuanto al contenido del informe sobre las modificaciones presupuestarias aprobadas en el trimestre respectivo dado que tratándose del informe modificación presupuestaria número 1 23 se estuvo ante un documento que porta una evidente inconcluencia en los principales ajustes efectuados al plan anual operativo ha unado a que ha quedado emuchado que no se atiende los preceptos del reglamento ante la aplicación de modificaciones presupuestarias en el instituto tecnológico de costa rica en el a sobre cupo en la matrícula de primer ingreso origino la solicitud de modificación de la meta 211 13 de forma que la cantidad de estudiantes de no ingreso en programas de grado pasa de 1975 a 2036 y como medida para hacer frente a la mayor demanda la administración gestionó y aplicó las modificaciones presupuestarias 15 977 y 16 74 de forma que se aumentó recursos en la partida de recargo de funciones dichas modificaciones fueron conocidas por el consejo como parte del informe presupuestaria 1 2003 donde se detalla la modificación presupuestarias aprobadas ve las modificaciones presupuestarias 15 977 y 16 074 fueron aplicadas por la administración a pesar de que implicaba la variación de metas del plan anual operativo entre ellas las referidas a la cantidad de estudiantes de primer ingreso hice las modificaciones presupuestarias que fueron aplicadas por la administración en atención de sobre cupo requieren revisar su impacto en las metas del plan anual este operativo dado toda esta información se propone un llamado de atención a la administración para que en el trámite de modificaciones presupuestarias se observe la normativa que regula el proceso en especial los numerales 6 y 7 del reglamento para la aplicación de modificaciones presupuestarias en el instituto tecnológico de costa rica se resguarde el cumplimiento de las instancias de aprobación y se visibilicen los ajustes que los movimientos presupuestarios tienen para la planificación del período b modificar la meta 2 1 1 13 del plan anual operativo 2023 atendiendo la solicitud plasmada en el oficio r 115 2013 debiendo leerse la meta en adelante como sigue 2 1 1.13 matricular 2036 estudiantes de nuevo ingreso a programas de grado en los siguientes términos se solicitará la rectoría que instruya a la oficina de planificación institucional para que actualice el plan anual operativo 2023 conforme al cambio aprobado en este acto y además para que se revisen nuevamente las modificaciones presupuestarias 15 977 y 16 0 74 así como aquellas adicionales que se aprobaron con posterioridad al primer trimestre en las que se aumentaron recursos para atender efecto de la matrícula a fin de mantener vinculación entre esos ajustes presupuestarios y las metas del plan anual operativo 2023 específicamente en su impacto en las metas 2 1 1 16 y 3 1 1 1 de solicitar a la rectoría que gire las instrucciones necesarias para que en adelante el detalle de las solicitudes de modificación que se anexan al informe de modificación presupuestaria incorpore la vinculación con el plan anual operativo de forma que se indique la meta relacionada a efecto de contar con mayor criterio para el análisis de dicho documento y en él se detalla los recursos que pueden aplicar a este acuerdo muchas gracias a narroza por la lectura de la de la propuesta abrimos espacio que por si algún integrante del consejo quiere referirse a la a la propuesta no tengo solicitudes de palabra la hora tiene la mano levantada la hora si yo quiero anotar un impacto no registrado tal vez en la propuesta pero que tal vez no sea necesario pero es importante señalarlo el aumento de estudiantes sin aumentar la cantidad de profesores incide en un indicador en los rankings universitarios que es la proporción de estudiantes por profesor esa esa proporción va a bajar y eso nos va a afectar nuestro puesto como universidad global entonces eso es una implicación en nuestra reputación entonces esas de esas cosas que suceden y yo pienso que deben ser aún mejor planificadas porque porque es un impacto y otra cosa que incide es en la negociación porque en la negociación nosotros estamos diciendo para abrir cupos necesitamos profesores no necesitamos salarios para los mismos profesores sino para más profesores porque no podemos ya el peck es una de las universidades que tiene más estudiantes por profesor del país es decir nuestro no es nuestro mejor indicador entonces un aumento de estudiantil atendido por sobre volve cargo nos perjudica hay cierto punto que podemos manejar y ese habría que determinarlo pero un punto por encima de ese si nos afecta el el índice gracias no necesariamente pasa lo del aumento de estudiantes por profesor porque este el impacto al menos este año sea al recurrir a la figura de recargo de funciones o de ampliación de jornada se está aumentando la cantidad de grupos también la cantidad de estudiantes por profesor no necesariamente la vimos incrementar al menos en las condiciones de este este semestre pero efectivamente es un posible impacto que podría haber dependiendo como dependiendo como se atienda la una situación como la que se presentó este año perfecto no yo yo quisiera anotar ahí que efectivamente de acuerdo con lo que se solicita en él en el acuerdo pues yo voy a proceder a conversar le escribía maria teresa pero no me respondió es que desde que yo era director recuerdo que para la convocatoria estudiantes nuevos usábamos lo que se llamaba un índice de presentación y era un asunto que era muy inexacto porque el asunto era que para que se presente un estudiante había que llamar que se yo dependiendo de la carrera 2.8 o 3.1 estudiante el problema es que pasa si a los estudiantes se les llaman se les dice que fue admitido y de repente hay un índice de presentación más alto y de cómo se le dice que no un estudiante que ya se le llamó y le dijo que estaba emitido pero bueno vamos a hacer la yo creo que hay que explorar otras figuras prematrícula u otros similares para mantenernos en ese en ese número que se planifica y se pone en el pago porque si no es realmente complicado darle a ese número perfecto muy bien vamos a someter a votación a propuesta don randall don saúl don luis alexandre a favor doña raquel don gerardo don daniel don ronnie don anna rosa don nelson y mi voto a favor esa favor será en contra procedemos con la firmeza don randall don saúl don luis alexandre a favor doña raquel don gerardo don daniel don ronnie don anna rosa a favor don nelson y mi voto a favor ok unánime la votación y unánime la firmeza queda aprobada y en firme pasamos al punto 12 de la de la agenda prórroga para la presentación del cronograma para atender las implicaciones derivadas de la aplicación de las normas para el control de fondos y actividades públicas que son custodiados o administrados por sujetos privados gracias en marzo de 2023 mediante la 44 2023 doña adriana en su interna dirige a este consejo publicación donde señala que el despacho de la Contraloría General de la República ha emitido las normas para el control de fondos y actividades públicas que son custodiados y administrados por sujetos privados este consejo en la sesión 3305 del 19 de abril solicita la rectoría que realice un análisis de las implicaciones producto de la aplicación de la norma y un cronograma para atender lo que corresponde a aplicación de estas normas dado que algunas comienzan a 2024 y otras en 2027 ese cronograma había ser presentado al 15 de junio de 2023 el pasado 5 de junio se recibió en la Secretaría del Concejo Institucional la solicitud de prórroga para atender la presentación del cronograma juntando para ello el oficio del departamento financiero de fc 446 2023 en este oficio se indica que el departamento financiero contable y la funda tec han venido revisando análisis y revisión de la normativa y que no ha sido posible finalizar el análisis y por lo tanto terminar de construir un cronograma con el cual se atenderían las implicaciones de la aplicación de la norma lo que la comisión de planificación en la reunión del 15 de junio 2023 consideró razonable en razón de la solicitud que realiza la auditoría también se verifica la competencia de la comisión para valorar si podía estar autorizar la prórroga si debía ser el pleno dado que se supera el 50 por ciento que establece la norma corresponde a este consejo resolver sobre la prórroga solicitada de modo que la comisión de planificación recomienda al pleno del consejo institucional que otorgue la prórroga solicitada por la rectoría ampliando al 29 de julio de 2023 el plazo fijado en el acuerdo antes indicado entonces considerando que las normas ya mencionadas fueron promulgadas por la controloría y entrarán a regir a partir de enero 2024 excepto las regulaciones del componente presupuestario de las cuales deberán ser implementadas a partir de la formulación de los presupuestos para el ejercicio económico 2025 en procura de la atención oportuna de dichas normas solicitó la rectoría que aportara el 15 de junio 2023 un cronograma para atender lo que corresponda dado que la institución de analizar los impactos y por ende aplicar las medidas necesarias para su implementación la comisión de planificación ha dictaminado en forma positiva la solicitud de prórroga se propone otorgar la prórroga solicitada por la rectoría para la entrega del cronograma para hacer de lo que corresponda producto de las implicaciones de la aplicación de las normas que fue solicitado en la sesión 33 33 05 del 19 de abril y se indican los recursos que pueden interponerse contra este acuerdo perfecto don nelson muchísimas gracias por la lectura de la propuesta abrimos el espacio para solicitud de palabra no tenemos procedíamos con la votación don randall a favor con saúl a favor con mis alexandres a favor doña raquel a favor don gerardo a favor don daniel a favor don ronnie a favor doña narosa a favor don nelson y me voto a favor y es a favor ser en contra premise pues si la선 любian es laår de la agenda punto trece. Atención de la recomendación cuatro punto tres punto ve del informe de auditoría interna audice y cero cero tres dos mil veintiuno. Análisis sobre el apego a las regulaciones con las que opera el consejo institucional y modificación del artículo catorce del reglamento para la creación, modificación, traslado o eliminación de unidades del Instituto Tecnológico de Costa Rica. Esto está a cargo de la Comisión de Planificación y Administración. Don Nelson, quien va a presentar? Don Ronnie la presentará. Don Ronnie, perfecto. Don Ronnie. Muchas gracias y con todo gusto. Aquí atendemos esta propuesta de acuerdo haciendo referencia a los artículos o inciso 5 y 6 de nuestro artículo 96 de Estatuto Orgánico que hablan de gestión institucional y calidad. Ahí podemos bajar. En el artículo 18 también de nuestro estatuto recordemos que es protestar de este consejo la modificación de reglamentos del instituto y en el artículo 12 del reglamento de normalización institucional establece que cuando se trata de una solicitud de modificación como en este caso la comisión permanente, en este caso la de planificación, deberá determinar sobre su procedencia. Además en el punto 5 en las disposiciones para la atención por parte del Tec de los informes de auditoría, en este caso interna, se detallan actuaciones que deberán seguirse ante la recepción de informes de esta naturaleza. En el punto 6, mediante el oficio Audi 137 del 2021, es el que le da origen a este tema, se detalla lo siguiente con respecto al reglamento para la creación, modificación, traslado o eliminación de unidades. En el punto 2 del resultado de ese informe, la revisión de la normativa interna y externa que dicta funciones al consejo adicionales a lo establecido en el instituto orgánico artículo 18 en el punto B, reglamento para la creación, modificación o traslado o eliminación de unidades y en el artículo 14 se indica lo siguiente, hace referencia al reglamento de normalización, sobre la elección del coordinador de unidad las unidades tendrán un coordinador, la elección del coordinador de unidad se realizará de acuerdo con los mecanismos establecidos en el instituto orgánico o según la reglamentación específica para la unidad que apruebe el consejo institucional, esto que está en negrita era el punto de consulta según corresponde y solicitan que se requiere que se analice la mención, reglamentación específica para la unidad que apruebe el consejo institucional con el objetivo de determinar que no contrapone o confunde con lo que establece el reglamento de normalización institucional respecto a que todo reglamento específico es de aprobación del consejo de escuela, de departamento o superior jerárquico en ausencia del consejo de la unidad que lo necesita para su operación. En conclusiones nos llaman la atención a esto y otra vez reiteran el detalle sobre esa mención que está en negrita. En el punto 7 el consejo institucional en la sesión ordinaria 3242 artículo 13 del 10 de noviembre del 2021 aceptó las recomendaciones y aprobó un plan de trabajo para atender las distintas recomendaciones. En el punto 8 está el detalle del plan de trabajo y en lo que más nos conciende en el punto B que estamos atendiendo se concedió una prórroga el 30 de junio en la sesión 3291 del 30 de noviembre del 22. En el artículo 14 del reglamento de unidades sobre la elección del coordinador de unidad dice las unidades tendrán un coordinador, la elección del coordinador de unidad será de acuerdo con los mecanismos establecidos en el instituto orgánico o según la regulación específica para la unidad. De nuevo reiteramos que es ahí donde está el posible problema de redacción. En el punto 10 la comisión de planificación y administración dictaminó en su reunión 10-23 del 22 de junio anterior lo siguiente, conocimos el informe detalladamente, lo hemos visto desde antes estaba en análisis y al final pues todo reglamento específico es de aprobación del consejo de escuela, departamento o superior jerárquico en la ausencia del consejo de la unidad que lo necesita para su operación, esto es el punto clave. Ya nos considerando pues analizamos detalladamente esta observación y nos fuimos a la definición del reglamento específico que tenemos por ahí, son aquellos que son de uso interno y específico para el funcionamiento de una unidad o dependencia del instituto, su aprobación final derogatoria o modificaciones corresponde al consejo superior respectivo y su entrada de vigencia está determinada por la publicación oficial, por eso vemos que ahí se puede hacer un tequeño ajuste. Se tiene claridad de que las funciones de las unidades y departamentos que se crean en el teque es materia de competencia exclusiva del consejo institucional. Y en el análisis del texto número 14 del reglamento en cuestión se advierte que debe corregirse el texto para que sea imperativo atender el mecanismo dispuesto por el estatuto para la elección de estas coordinaciones de forma que se elimine la posibilidad de observar o el estatuto o las regulaciones. Y dictaminamos y esto lo podemos ver de una vez en la propuesta de acuerdo, en la propuesta A, indicar a la auditoría interna en atención de la recomendación que está en en análisis fundamentalmente. A ver, es que tiene todo el texto. Bueno, que una vez efectuada la respectiva revisión no se encuentra una contraposición entre el artículo 14 del reglamento para la creación, modificación, traslado o eliminación de unidades y el reglamento de normalización institucional en tanto el primero versa sobre la regulación de las funciones de la unidad, aspecto que escapa de la competencia de la unidad departamento y la regulación específica que dispone el reglamento de normalización es más bien sobre el funcionamiento interno de una instancia. En el punto B, modificar entonces proponemos el artículo 14 del reglamento para la creación, modificación, traslado o eliminación de unidades para que en adelante se lea de la siguiente forma. Artículo 14 sobre la elección del coordinador de unidad. Las unidades tendrán una coordinación. La elección de la coordinación de unidades se realizará de acuerdo con los mecanismos establecidos en el Estatuto Orgánico y según la reglamentación que apruebe el consejo institucional. Note el cambio nada más. En el punto C, solicitará a la dirección de la Secretaría de este consejo, coordinar la incorporación del acuerdo en el sistema de implementación de recomendaciones, el seguimiento del informe en análisis e indicar los recursos que contra este acuerdo podrían interponerse. Básicamente esta es la propuesta. Muchísimas gracias don Ronnie por la presentación de la propuesta. Abrimos espacio por si alguien quiere referirse. No veo solicitudes de palabra. Procedemos con la votación. Entonces don Randall, don Saúl, doña Raquel, don Luis Gerardo, don Daniel, don Ronnie, doña Ana Rosa, don Nelson y mi voto a favor. Y mi voto a favor también. Ah perdón Luis Alexander. Ya te vi perdón. 10 a favor 7 en contra. Procedemos con la firmeza. Don Randall a favor. Don Saúl a favor. Don Luis Alexander a favor. Doña Raquel a favor. Don Luis Gerardo a favor. Don Daniel a favor. Don Ronnie a favor. Don Ana Rosa a favor. Don Nelson a favor. Y mi voto a favor. 10 a favor 7 en contra. Perfecto queda entonces aprobada y en firme. Seguimos con la siguiente propuesta. Atención a la recomendación 4.7 del informe de auditoría interna audice y 003 2021 análisis sobre el apego a las regulaciones con las que opera el consejo institucional a cargo de la comisión de planificación y administración. Atención a la recomendación. Muchas gracias. Me han pedido presentarla don Nelson. Muy bien. Muy rápidamente esta para para comprender el texto responde a una recomendación de los compañeros y compañeras de la auditoría. Básicamente en la línea de que consideran y un estudio que se carece un criterio uniforme para definir plazos a la hora de digamos de pedir acuerdos que generen un producto entonces a la hora de decirle bueno mira esta comisión especial cuánto de durar en en generar su producto. Bueno, entonces, si se quiere, si quiere, esta solicitud de información y y lo asocian aquí entonces, muchas veces las comisiones especiales en lo que hacemos y se lo proponemos así el consejo es es hacer algunas valoraciones, y así se va a tener un un un digamos un una línea más concretas. Entonces, si gustan ahí si vamos avanzando. El resultado uno básicamente hace referencia a las políticas, avanzamos, el resultado dos, tiene que ver un poquito con nuestra obligación de responder el y el tres también a estas y a estas solicitudes que son muy prudentes y adecuadas de las compañeras compañeras de la auditoría. En el cuatro es donde el los eh nos llega al audiciento treinta y siete que básicamente si vamos bajando por favor contiene esto que les indiqué. Bueno, entonces, si nos sirve como ejemplo, por favor, un poquito más, un poquito más, ajá, y entonces, es donde nos hacen esa solicitud que indique de valorar, definir alguna normativa para cómo definir los plazos, y decirles, y seis meses, y un y entonces nos hacen referencia a a a la ley nacional eh si nos sirve como ejemplo, eso es una es una invitación a que lo valoremos. En el número cinco, el consejo institucional, digamos, recibe esta esta solicitud, la traslada, vamos al número seis, a la comisión de la comisión de ampliación de administración. Principalmente el plazo estaba el treinta de marzo, como vemos ahí en la tercera columna, aquí se fecha de atención del acuerdo, luego se pidió una ampliación al treinta de junio, por eso estamos en plazo, y en el siete, la comisión de planificación, avanzamos, por favor, por favor, básicamente lo que hace es que recibe esto y hemos dedicado varias sesiones incluso y agradecemos a los compañeros y compañeras de la auditoría interna, incluso en su momento el señor auditor y si tuvimos reuniones y actualmente con las compañeras buscando algún algún medio, básicamente avanzamos un poquito, vamos a los a los considerando, es porque si bien este estos plazos tienen que ser regulados, valoramos que no es tan fácil tener una norma única, por ejemplo, una comisión especial depende, el tema que se le dé, no es fácil decir si son seis meses o un año, porque el tema es muy variable, entonces entraremos en una caso, casuística un poco complicada, avanzamos por favor. Entonces, es lo mejor. A partir de ahí, la comisión de administración y planificación, si ve importante, digamos esto, pero básicamente ha habido algunos avances, hemos ya tomado algunos acuerdos, por ejemplo, para el control de acuerdos, para la hora de incluso coordinar con las mismas comisiones que plazoarles, entonces, consideramos que han habido varios acuerdos que en realidad consideramos satisfacen la solicitud de la los compañeros y compañeras de la auditoría, si bajamos un poquito más, si bajamos un poquito, bajemos ahí. Dice que esta comisión, ajá, ahí un tito en el cinto, en la comisión considera que varias reformas ahí se se enumeran, digamos de reformas y y de cambios en el en el modo de trabajar, estarían respondiendo a esta necesidad de regularlo. Entonces, ahora sí, voy a leer el dictamen, bajemos un poquito de la comisión, que va a ser el que va a retomar el consejo, recomendar al pleno el consejo institucional, con la recomendación cuatro siete, el informe ODICI cero cero tres, análisis sobre apego a las regulaciones con las que opera el consejo institucional, que la debilidad detallada en cuanto a la medición de la atención oportuna a los plazos establecidos en los acuerdos del consejo institucional, es ascendida de forma alternativa, con las recientes reformas efectivas al reglamento del consejo institucional en la sesión ordinaria y el reglamento de la comisión de la comisión de la comisión de la comisión de la comisión de la comisión de la comisión de la comisión de la comisión de la comisión de la comisión de la comisión de la comisión de la comisión de la comisión de la comisión de la comisión de la comisión de la comisión de la comisión de la comisión de la comisión de la comisión de la comisión de la comisión de la comisión de la comisión de la comisión de la comisión de la comisión de la comisión de la comisión de la comisión de la comisión de la comisión de la comisión de la comisión de la comisión de la comisión de la comisión de la comisión de la comisión de la comisión de la comisión de la comisión de la comisión de la comisión de la comisión de la comisión de la comisión de la comisión de la comisión de la comisión de la comisión escrícola con el entrega de algún producto. Lo que estamos diciendo es que de forma ya efectuadas, más esta práctica de no áleonад pretended decir tres meses, seis meses, ¿No? Valoré incluso con la instancia que va a ser encargada realmente responde a esa a la solicitud de la auditoría. Entonces, a partir de ahí en los considerando ya propiamente este acuerdo bajamos que básicamente retoman esta historia de cuando engresa la de la Secretaría de Consejo Consejo en el uno es idéntico al que leí, querés indicar a la auditoría interna, ¿Verdad? Que ya leí. El dos, solicitar a la dirección de la Secretaría del Consejo Institucional, coordinar la incorporación de este acuerdo en el sistema de recomendaciones en seguimiento del Audi eh cero cero tres, análisis apego con que opera el Consejo Institucional y el tres son los dos. Muchas gracias don Luis, Alexander, a uno espacio por si quieren referirse a la a la propuesta no tenemos solicitud de palabra, procederíamos entonces con la votación. Don Randal. A favor. Don Saúl. A favor. Don Luis Alexander. A favor. Doña Raquel. A favor. Don Gerardo. A favor. Don Ana Rosa. A favor. Don Nelson. A favor. Y mi voto a favor. Y es a favor. Cero en contra. Vamos con la firmeza don Randal. Don Saúl. A favor. Don Luis Alexander. A favor. Dona Raquel. Dona Raquel. A favor, perdón, no me activa el control. Don Daniel. A favor. Don Ronnie. Don Ana Rosa. A favor. Y don Nelson. A favor. Y mi voto a favor. A favor. Perfecto, queda aprobada y en firme. Pasamos al punto dieciséis de la agenda. Próroga para la reforma de los artículos tres y cinco, el plan de acción del informe de auditoría interna Audicey cero cero tres. Perdón. Sí, me salté el quince. Muchas gracias. Muchas gracias por avisar. El quince sería reforma de los artículos diez y once del reglamento de la prueba de aptitud académica del Instituto Tecnológico de Costa Rica y sus reformas. Don Randal. Gracias, don Randal. Esta propuesta se enmarca dentro de las políticas generales, número dos de vida estudiantil y número cinco de gestión institucional. Y en el artículo dieciocho del Estatuto Orgánico que faculta este consejo para modificar los reglamentos generales. En particular, en este caso es el reglamento efectivamente de la prueba de aptitud académica de Tec, por ejemplo, vamos a pasar al al dictamen de la de la comisión y ah bueno el considerando cinco, perdón, por favor. En el considerando resultando cinco C, este señala y este es un tema que en realidad ya habíamos tenido en la propuesta anterior una problemática identificada desde finales del año pasado. En el en el cinco punto cinco se señala el oficio oficio C de abril es el truco el de la Comisión de Asuntos Académicos y Estudiantiles, se recibió el oficio C-A-B-S-A- cero cero nueve de dos mil veintitrés del veintidós de mayo, en el cual la coordinadora del examen de dimisión señala algunos aspectos y solicita la revisión de la normativa con respecto a la integración y tiempo asignado a ese comité, y el comité de la Comisión de Asuntos Académicos y Estudiantiles, se consideró que desde el diciembre del año pasado, y entreguerando esta situación en la que el comité ha estado conformado solamente por cuatro de sus centros, y se ha considerado que el comité de la Comisión de Asuntos Académicos y Estudiantiles ha sido el que ha considerado que el comité de la Comisión de Asuntos Académicos y Estudiantiles, ha sido el que ha considerado que el comité ha estado conformado solamente por cuatro de sus cinco miembros, a la fecha sigue sin resolverse este tema, ahí es donde ahora cambiamos. En el punto dos, se señala que el reglamento contempla actualmente que el tiempo destinado al comité es un máximo de dos tiempos completos, y que se debe considerar que son las que se consideran las cuales cuatro deben ser de las especialidades que contempla la prueba, actualmente son personas del área de razonamiento matemático y de razonamiento de reparto. También se consideró que en audiencias dadas anteriormente, tanto la señora vicerectora de la Viesa como la coordinadora del examen de admisión, han insistido en la necesidad de que se consideren las especialidades que se consideran, y que se consideran que se consideran que la naturaleza de las funciones que se realizan en el comité, pues al ser cuatro personas de las dos áreas de razonamiento que se evalúan en la prueba, pues lo razonable es que sean dos de cada una, sin embargo, ha sido evidente que se pueden presentar situaciones particulares como la de este comité, y eso genera que se recarguen funciones en las personas que están en el comité en ese momento. Entonces, la comisión ha dictaminado una modificación en el artículo 10 para que se indique que el comité se dispondrá al menos dos tiempos completos. Y en el artículo 10, se agregue un párrafo para que diga adicionalmente, mediante resolución fundamental, la persona vicerectora de la Viesa podrá nombrar personas profesionales relacionadas con las especialidades que contemple la prueba como integrantes de este comité por periodos menores según necesidades y disponibilidad presupuestaria. Esto es porque la matriar actualmente indica que al momento de la presencia de una persona se nombra otra por un periodo completo, pero en algunos casos como los planteados actualmente, podría ser viable que se nombre, por ejemplo, una persona de la otra área para atender algunas de las labores que no son específicamente relacionadas con los ítems, pero no es conveniente que sea necesariamente por un tiempo completo, sino mientras se resuelve o mientras haya disponibilidad de plazo o de presupuesto. Entonces, se dictamina a la comisión recomendar a este Pleno a aprobar la modificación de esos artículos 10 y 11, e indicar que estas reformas no implican una reforma sustancial, esto atendiendo a lo que establece el reglamento de normalización. Entonces, considerando tres, se indica que resulta necesario, oportuno, conveniente y resbalable que se modifique en los artículos 10 y 11, según el análisis y la recomendación realizada por la comisión de asuntos académicos y estudiantes. En concreto, se propone reformar el artículo 10 en los términos que ya señale antes, los cambios son de reacción y asunto del lenguaje inclusivo, y el cambio de dos tiempos completos, más bien al menos, sino como un máximo. Y agregar un segundo párrafo al artículo 11 de ese reglamento, que fue el que leí anteriormente, y en el punto 12 del acuerdo, los recursos que podrían interponerse contra esto. Muchas gracias, don Randall, por la presentación de la propuesta. Abrimos el espacio para solicitud de palabra, no tenemos, sí, no tenemos, procederíamos con la votación. Don Randall. A favor. Don Saúl. A favor. Don Luis Alexander. A favor. Dona Raquel. A favor. Don Gerardo. A favor. Don Daniel. A favor. Don Ronny. A favor. Don Ana Rosa. A favor. Don Nelson. A favor. Y me voto a favor. Si es a favor, se lo encuentra, la votación unánime, vamos con la firmeza, por favor, don Randall. A favor. Don Saúl. A favor. Don Luis Alexander. A favor. Dona Raquel. A favor. Don Gerardo. A favor. Don Daniel. A favor. Don Ronny. A favor. Don Ana Rosa. A favor. Don Nelson. A favor. Y me voto a favor. Si es a favor, se lo encuentra, la votación unánime, también la firmeza, muchísimas gracias, queda aprobada y en firme. Pasamos al punto 16 de la agenda. Prórroga para culminar con las acciones pactadas en la atención de la recomendación 4.5 del plan de acción del informe de auditoría interna Audicey 003-2021. Análisis sobre la pego a las regulaciones con las que opera el consejo institucional está a cargo de la Comisión de Asuntos Académicos. Don Jorge, esta la voy a presentar yo. Gracias, doña Raquel. Vamos a ver, Cindy me hace el favor de proyectarla. Entonces, en atención al artículo 96 del Estatuto Orgánico, específicamente la Gestión Institucional y la Calidad y la Ley General de Control Interno sobre los deberes del jerarca y los titulares subordinados en el sistema de control interno, en el punto 2 sería 3. En las disposiciones para la atención por parte del Instituto Tecnológico de Costa Rica de los informes de auditoría externa y de la Contraloría General de la República se detallan las actuaciones que deberían de seguirse ante la recepción de informes de auditoría. Estas disposiciones aplican a los informes de entes fiscalizadores que se encuentren recibidos previo al 18 de marzo del 2023. En el siguiente punto, mediante la Audit 137 2021, con fecha recibido el 5 de octubre del 2021, suscrito por el entonces auditor interno, el licenciado Isidro Álvarez y dirigido Luis Paulino Mendes, entonces Presidente del Consejo Institucional se recibió el informe Audit 6.003 2021. Análisis sobre la Pego a las Regulaciones con las que opera el Consejo Institucional. El Consejo Institucional en la Sesión Ordinaria 3242, artículo 13, aceptó las recomendaciones emitidas por la Auditoría Entena en el informe que mencioné anteriormente. En el siguiente punto, el Plan de Trabajo para la Atención del Informe Audit 6.003, que fue aceptado por el Consejo Institucional, presenta el siguiente detalle para la recomendación 4.5. Específicamente la recomendación lo que dice es que la recomendación es regular las funciones específicas de la Dirección de Proyectos de Cooperación y de las regulaciones del Fondo Propio de Investigación y Extensión, según lo establece en el Estatuto Orgálico del Instituto Tecnológico de Costa Rica, artículo 70 y 121. La acción que se da es que se atiende con la propuesta del Reglamento de Investigación y Extensión que realiza la Comisión Especial nombrada para tal efecto. Y tenemos la fecha de atención que es al 30 de junio del 2023. Como responsable la coordinación de la Comisión de Asuntos Académicos Estudiantiles mediante el oficio CIE 023-2023 con fecha del 1 de marzo del 2023, suscrito por la doctora Floria Roa, Presidente del Consejo de Investigación y Extensión, dirigido a la Comisión de Asuntos Académicos Estudiantiles y al Presidente del Consejo Institucional, se recibe la propuesta del Reglamento de las Funciones Específicas de la Dirección de Investigación y del Reglamento de las Funciones Específicas de la Dirección de Extensión. Además, mediante el oficio CIE 072-2023, de las mismas procedencias, se recibe la propuesta del Reglamento de Funciones Específicas de la Dirección de Cooperación. La propuesta del Reglamento General de Investigación y Extensión en el Instituto Tecnológico de Costa Rica se encuentra en fase de revisión por la Comisión Ajoca. Aquí hay que también recordar que se hizo algunas consultas a la comunidad institucional y se recibieron muchas por las que la Comisión estaba atendiendo dichas consultas. Además, según se dispone el Reglamento de Normalización Institucional, se evidencian los oficios SSI 462-2023 y SSI 494, fecha del 18 de 31 de mayo de 2023. La Comisión de Asuntos Académicos Estudiantiles dictaminó la Reunión nº 813 del 23 de junio del 2023 lo siguiente. Y nos vamos, si me haces el favor Cindy, a. se dictamina donde la Comisión de Asuntos Académicos Estudiantiles solicita al Pleno el Consejo Institucional que prorrogue el plazo indicado al Plan de Acción aprobado en la Sesión Ordinaria nº 3242, artículo 13 para atender la Recomendación 4.5 del Informe de Auditoría Interna Audicei 003-2021 análisis sobre el apego a las regulaciones con las que opera el Consejo Institucional y para lo cual se disponga hasta el 31 de octubre del 2023. En los puntos B, C y D se solicita remitir la propuesta del Reglamento de las Funciones Específicas de la Dirección de Cooperación, las Funciones de la Dirección de Investigación y las Funciones de la Dirección de Extensión a la Oficina de Planificación Institucional y a la Oficina de Asesoría Legal para que conforme al artículo 13 de la tramitación de reglamentos específicos y el Reglamento de Normalización Institucional procedan a emitir los respectivos dictámenes. En el siguiente punto, el Reglamento del Consejo Institucional sobre las Funciones Generales de las Comisiones Permanentes indica en el artículo 17 específicamente que si el plazo solicitado excede el 50% deberá elevarse la gestión para conocimiento y resolución del Consejo Institucional, que es lo que está sucediendo en este caso. Considerando que, entonces, de conformidad con el acuerdo de la Sesión Ordinaria nº 3242, el Consejo Institucional acepta las recomendaciones de la Auditoría Interna recibidas mediante el Audicii 003-2021, análisis sobre el apego a las regulaciones con las que opera el Consejo Institucional aprobando en consecuencia un plan con acciones y sus respectivas responsabilidades, entre ellos el rector y las coordinaciones de las Comisiones Permanentes. La Comisión de Asuntos Académicos Estudiantiles ha puesto en conocimiento la necesidad imperosa de que se prorrogue el plazo para las acciones definidas para atender la recomendación 4.5 específicamente relacionadas al reglamento. Las justificaciones se respaldan en las solicitudes que se ha recibido previas su vencimiento y determinación y determinan razonables, en tanto en su mayoría indican aspectos de orden normativo cuyo trámite se encuentra iniciado o avanzado, no obstante requiere de mayor plazo para poder atender la regulación institucional. Y corresponde al Consejo del Consejo Institucional resolver la prórroga de referencia determinándose que el plazo propuesto al 31 de octubre del 2023 es un plazo adecuado. Por lo tanto, se propone prorrogar el plazo indicado en el Plan de Acción aprobado en la Sesión Ordinaria N° 32-42, artículo 13 del 10 de noviembre del 2021 para atender las recomendaciones 4.5 del Informe de Auditoría Interna Audi CI 003-2021. Análisis sobre el apego a las regulaciones con las que opera el Consejo Institucional de forma que su fecha de cumplimiento sea al 31 de octubre del 2023. Solicitar a la Dirección de la Secretaría del Consejo Institucional, coordinar la incorporación de este acuerdo del Sistema de Implementación de Recomendaciones CIR, en seguimiento del Informe Audi CI 003-2021 e indicar que contra este acuerdo podrá interponerse el recurso de revocatoria ante el Consejo o de población ante la Asamblea Institucional Representativa. Muchas gracias Raquel por la lectura de la propuesta y por la presentación. Abrimos espacio por si hay solicitudes de palabra. No tenemos solicitudes de palabra. Procederíamos con la votación. 10 a favor, ser un favor. 10 a favor, ser en contra. Procederíamos con la firmeza, don Randall. A favor. Don Saúl. A favor. Don Luis Alexander. A favor. Doña Raquel. A favor. Don Gerardo. A favor. Don Daniel. A favor. Don Ronny. A favor. Don Ana Rosa. A favor. Don Nelson. A favor. Y mi voto a favor. 10 a favor, ser un favor. Muchísimas gracias. Queda entonces aprobada y en firme la propuesta. Estaríamos pasando al punto 17 de la agenda. Reglamentación del reglamento de becas de posgrado en el Instituto Tecnológico de Costa Rica. A cargo de la Comisión de Asuntos Académicos y Estudiantiles. Don Jorge, yo la voy a presentar. Muchas gracias, doña Ana Rosa. Adelante. Gracias. Gracias. Esta propuesta responde a tres políticas generales. Vida estudiantil. Investigación, extensión y acción social. También esto es parte de las funciones que le corresponden al Consejo Institucional. Y también la propuesta de reglamento de becas de posgrado. La propuesta de reglamento de becas de posgrado. La propuesta de reglamento de posgrado. Es la propuesta de reglamento de posgrado que se está presentando en la agenda. Vamos a ver si hay alguna pregunta. Oficio de la Dirección de Posgrado. Se recibe en el Consejo Institucional la propuesta de reglamento de becas de posgrado. Del Instituto Tecnológico de Costa Rica. El 14 de marzo de 2019. Se recibe este reglamento. Lo primero que hace la Comisión de Asuntos Académicos. Según el reglamento de normalización y siguiendo los procedimientos. Se va a presentar el reglamento de becas de posgrado. Se va a presentar el reglamento de posgrado. Se va a presentar el reglamento de posgrado. Se va a presentar el reglamento de posgrado. Se va a presentar el reglamento de posgrado. Se va a presentar el reglamento de posgrado. Se va a presentar el reglamento de posgrado. Se va a presentar el reglamento de posgrado. Se va a presentar el reglamento de posgrado. Se enviaron a la Dirección de Posgrado. Para ampliar criterio. Para analizar cada uno de los diferentes aspectos. Que la Dirección de posgrados. Estuvo planteando. En el reglamento. Nos vamos al 8. La Comisión de Asuntos Académicos. En la reunión. A帶 dudas. Pero 투Jin. Laweg. Estos son los tresmedios. Elreich en orbitino MUSICA y las criminalidad.hthal sip potanto mira para mega la曲 quieroL И servicio 39 del 2023. En el cuarto bajamos. El trámite de este reglamento presentó para la Comisión de Asuntos Academicos una serie de interrogantes que fueron entregados a la oficina de asesoría legal y esta respondió cada una de las inquietudes que presentó la comisión. Bajamos al cinco. La comisión también tuvo reunión con el doctor ingeniero Teodolito Guillén desde el 5 de mayo. Igual con él se estuvieron realizando una serie de observaciones con él. Producto de los insumos recibidos a la comisión se efectúan una serie de modificaciones. Vamos bajando al artículo 5 de definiciones, al artículo 11, al artículo 12, también al 14, vamos bajando al 15, al 20. No los voy a leer porque están en la propuesta y dictamina ya presentar ante este consejo institucional el reglamento. Nos vamos a los considerandos. En los considerandos queremos resaltar que como institución de carácter público el instituto tecnológico debe velar por una eficiente, oportuna y justa distribución de los recursos que dispone, que sean estos recibidos de las transferencias del gobierno central. Además señalamos que una adecuada asignación de becas para el estudiantado de posgrado permite promover la excelencia de la investigación y extensión que se realiza en los programas de posgrado. Igualmente señalamos que este reglamento se constituye en la normativa que habilitaría que las personas admitidas en programas de posgrado puedan optar por las becas reguladas en dicha norma, las cuales consisten en tres tipos. Beca estudiante asistente para proyectos de investigación está en el 3 y extensión becas para la proyección nacional e internacional y beca por exoneración del pago de derechos de estudio, estableciéndose para cada tipo de beca una serie de requisitos, compromisos y obligaciones para las personas beneficiadas. En vista de esto se presenta la propuesta, se propone aprobar la creación del reglamento de becas de posgrado del instituto tecnológico de Costa Rica con el siguiente texto. Voy solamente a señalar los nombres de los capítulos. En términos del reglamento de becas de posgrado del instituto tecnológico de Costa Rica se tiene un capítulo 1 que son disposiciones generales que sabemos el tipo de reglamento, sus alcances, el objetivo general, sus objetivos específicos y las definiciones que corresponden. Igual tiene un capítulo sobre las funciones y responsabilidades, aquí se detalla todo lo que va a ser el fondo, la conformación de la comisión, las funciones de la comisión que va a recibir las solicitudes de becas, las funciones que corresponden al consejo de posgrado y la dirección, las potestades con respecto a la coayuvancia con fundatech. El cuarto, el tercer capítulo son los beneficios de un tipo de beca de posgrado que anoté anteriormente, que son tres los cuales se detallan y se conceptualizan en este capítulo, así como los beneficios, este segundo tipo de beca. En el cuarto capítulo se tienen los requisitos y responsabilidades de las personas estudiantes becarias y acciones por su incumplimiento y vamos bajando. Y el quinto son las fuentes de financiamiento, cómo vamos a financiar todas esas becas de posgrado que se presenten. En el sexto capítulo son las disposiciones finales y por último el capítulo 7, las disposiciones transitorias que nos permiten que este reglamento entre en vigencia. B, asignar a la rectoría la verificación del cumplimiento en tiempo de las disposiciones transitorias incluidas en el reglamento creado en este acto y C, son los recursos que aplica a este acuerdo. Muchas gracias doña Ana Rosa por la presentación de esta propuesta. Abrimos el espacio por si hay solicitudes de palabra, no veo solicitudes de palabra, procedemos entonces con la votación. Don Randall, a favor. Don Saúl, a favor. Don Luis Alexander, a favor. Doña Raquel, a favor. Don Gerardo, a favor. Don Daniel, a favor. Don Ronny, a favor. Don Ana Rosa, a favor. Don Nelson, a favor. Y mi voto a favor. A favor. A favor. A favor. A favor. A favor. A favor. A favor. A favor. A favor. A favor. A favor. A favor. A favor. A favor. A favor. A favor. A favor. A favor. A favor. A favor. A favor. A favor. A favor. A favor. A favor. A favor. A favor. A favor. A favor. A favor. Queda entonces aprobado y en firme. Doña Ana Rosa. Sí, Don Jorge. Es que a raíz de esta aprobación la cual celebro porque ya es un reglamento que se ha venido trabajando fuertemente por parte de la Comisión de Académicos y la Dirección de Postgrado. Quisiera recrutar o un poco la la formulas que me han hablado de que los vehículos o un poco compartir mi impresión con la pregunta que se hizo en la Asamblea Legislativa de parte de una diputada en cuanto al monto que las universidades estamos destinando para lo que son becas a profesionales. Como vemos y aquí queda clarísimo en los considerando de esta propuesta, que esto es una inversión a la gestión de talento humano. Es decir, somos universidades que una de las cuestiones que tenemos que descuadrar con muchísima fortaleza es a que este recurso esté presente porque es para ir mejorando la calidad de nuestro, insisto, talento humano, que es una inversión, una inversión para garantizar calidad. Entonces es una lástima que se cuestionen fondos que como vemos no solamente son en opciones académicas que no solamente van para el personal de las universidades sino también está con apertura para cualquier otra persona, verdad, que también quiera llevar los posgrados que en este caso ofrece la institución. Entonces yo quería resaltar ese aspecto porque me llama mucho la atención un cuestionamiento que creo no cabe si entendemos qué significa una universidad y cuál es su rol en una sociedad y en el desarrollo del país. Sí, muchas gracias doña Ana Rosa, efectivamente yo también lo celebro mucho y agradezco a la comisión de académicos y lógicamente a la dirección de posgrado por todo el trabajo que hicieron en esto y es efectivamente nosotros los posgrados de Amo Becas. Y se me viene a la mente que el Observatorio Laboral de Conare siempre hace estudios para la población de graduados de grado, de licenciatura, bachillerato y este año por primera vez lo hizo en posgrado. Si hay un dato interesante, nosotros en grado tenemos en promedio entre todas las universidades un 60% de los títulos que otorgamos son de primera generación, o sea de hogares donde el papá y la mamá no tienen estudios universitarios y en posgrado subía a 66%, verdad, lo cual es bien interesante también, o sea se incrementa incluso. Bueno, muchísimas gracias, vamos a atender entonces el punto 19 de la agenda, derogatoria de la interpretación del artículo 1 del reglamento de carrera profesional del Instituto Tecnológico de Costa Rica, el 18, ay perdón, perdón, disculpen ahora ahora pido disculpas al final, sí, vamos con el 18, interpretación del artículo 26 del reglamento de carrera profesional del Instituto Tecnológico de Costa Rica y sus reformas, atención al oficio ccp-c 168-2023 a cargo de la comisión de académicos. Yo lo presento, gracias don Gerardo. Ya son casi medio día, el punto es este, la comisión de carrera profesional ha hecho una consulta sobre el artículo 26 del reglamento, este es un artículo que establece una condición a las personas que tengan doctorado y que entren en propiedad, es un artículo que tuvo nacimiento hace muchos años cuando el Instituto procuró algún tipo de incentivo para la atracción de personas con doctorado y para la pretensión, pero por un lado la atracción, esto es una antigüedad de más de 30 años, posteriormente el artículo había sido derogado porque siempre surgen algunas dificultades de su aplicación, por ejemplo si una persona que tenía doctorado estaba en propiedad, no le cubre el artículo, si esa persona renuncia y luego volvía a ser contratado, le aplicaba, el consejo por allá en el 2004, 2005 lo había derogado, luego lo restituyó, entonces hay un texto vigente, si pudieran mover por favor la propuesta para revisar el texto vigente, ahí está, ahí está, es el primer parámetro, dice los profesores con grado doctor que ingresen en propiedad al ITCR se ubicarán directamente en la categoría de adjunto, entonces obviamente se establece la condición de la propiedad o de nombramiento indefinido, es que se usa el término propiedad y es equivalente a nombramiento indefinido y como una forma de estímulo, porque si una persona entra en propiedad podría no tener todavía el tiempo, por lo menos así se lo sonaba hace treinta y pico de años y lo digo porque estuve en el consejo institucional en esa época, alguien entra en propiedad y en esa época además no hayan pasos intermedios, entonces una forma de mejorar el salario y contratación que siempre ha sido muy bajo en el TEC era darle chance que pasara así, bueno hoy lo que la comisión enfrenta, esta es una comisión donde siempre hay solicitudes que a veces generan elementos nuevos para los cuales no hay respuesta, la pregunta que hace la comisión es bueno, hay que estar con el doctorado en posición del doctorado y luego adquirir propiedad o qué pasa si alguien no tiene doctorado y luego se gradúa de doctor, de alcance o no le alcanzan la interpretación, hay varias figuras que pueden darse, pero aquí a nosotros nos parece que la frase es muy clara, dicen los profesores con grado de doctorado y luego dice ingresen, creemos que la frase no merecía ninguna interpretación, sin embargo por respeto a la consulta de la comisión y a la necesidad que tiene la comisión de certeza jurídica porque sus acuerdos son trascendentes dado que al final tiene un impacto muy importante en el manejo de fondos públicos, la comisión quiere certeza, nos parece que el texto es muy claro, no se vale la aplicación si uno entró en propiedad y después tiene el doctorado, tiene que tener el doctorado primero, entonces así se propone la interpretación, podemos ir hasta la parte final, para todo lo demás son elementos de la que justifican esta interpretación y los elementos resultando y considerando, nos parece que la respuesta debe ser la siguiente, interpretar el contenido del artículo 26 del reglamento de carrera profesional, así, la expresión los profesores con grado de doctor que ingresen en propiedad al ITCL, se ubicarán directamente en la categoría del junto del artículo 26 del reglamento de carrera profesional del instituto tecnológico de Costa Rica y sus reformas, deberá entenderse en el sentido de que la persona debe haber obtenido el doctorado de fecha anterior a la del nombramiento indefinido, o sea nombramiento en propiedad, nos parece que eso es lo que dice, ya otros elementos de conveniencia de que esto pudiera ser cambiado o actualizado es otro elemento, es el cometido acá es responder a la comisión, darle seguridad jurídica a la comisión, esta es la interpretación que proponemos que ha quedado dominado y que se ha aplicado, sin embargo surgió ahí pues un planteamiento de algún profesor que hizo dudar a la comisión de si esta era la interpretación correcta, entonces es lo que proponemos que se mantenga en esa línea que ha sido la línea histórica, por lo menos histórica desde que el artículo fue restituido y que es como decía un estímulo para que las personas con doctorado permanezcan cuando no han tenido chance de subir en el escaladón, ya después si alguien está en propiedad y obtiene un doctorado pues se acoge al reglamento y el doctorado le será reconocido con el puntaje que ahí establece el reglamento. Gracias, esa es la interpretación que proponemos. Muchas gracias don Gerardo, no vemos solicitudes de palabra, perfecto entonces vamos a la votación, don Randall, con Saúl, don Luis Alexander, doña Raquel, don Gerardo, don Daniel, don Ronnie, doña Ana Rosa, con Nelson y mi voto a favor, 10 a favor 0 en contra, unánime, procedemos con la firmeza, don Randall, don Saúl, don Luis Alexander, doña Raquel, don Gerardo, don Daniel, don Ronnie, doña Ana Rosa, don Nelson y mi voto a favor, 10 a favor 0 en contra, queda entonces aprobada y en firme. Muchísimas gracias, pasamos ahora al punto 19 de la agenda, derogatoria de la interpretación del artículo 1 del reglamento de carrera profesional del Instituto Tecnológico de Costa Rica y sus reformas e introducción de los artículos 5 bis y 5 bis bis en las normas para la aplicación del reglamento de carrera profesional del Instituto Tecnológico de Costa Rica, atención del oficio ccp-c-198-2023 a cargo de la comisión de asuntos académicos y estudiantiles. Aquí estamos ante una solicitud de la comisión de carrera profesional, en este caso pasa lo siguiente, el artículo 1 de este reglamento dice que se reconocen aquellos atestados, aquellos méritos académicos y profanables donde el tecmedie salvo dice lo que expresamente el reglamento señale que no hace falta la mediación, este consejo hace unos meses había incorporado el artículo 111 donde existentamente se puso cuáles no requieren mediación, en atención a una gestión de la misma comisión porque este es un tema delicado, este reglamento que por cierto no es un reglamento nuevo pero es un reglamento que tiene muchísimos elementos de dificultad en su aplicación porque a veces cada caso presenta nuevos matices y repito hay que buscar un equilibrio entre la justicia con las personas y darles el justo reconocimiento y que prive en la comisión la voluntad de reconocer los méritos y desde luego el cuidado de la de respeto al principio de legalidad, la comisión no puede dar más de lo que el reglamento establece pero a veces hay matices que dificultan la aplicación porque digamos las personas apelan, reclaman o vienen casos inéditos, bueno el artículo 1 exige esa mediación en la mayoría de los ruros allá por el año 2005 el consejo hizo una interpretación precisamente por las dificultades que tiene esto y esa interpretación pues ha estado ahí presente verdad entonces hay una lógica, una aplicación de cómo la comisión ha venido exigiendo la mediación pero hace muy pocas semanas o muy pocos días la comisión entró digamos en duda porque el texto que está aprobado como interpretación es más restrictivo que lo que dice el mismo artículo 1 es decir la interpretación vino y puso palabras que no tiene el artículo 1 que a juicio de la comisión de la comisión de carrera profesional pues exigiría una serie de trámites internos que no se han estado exigiendo pero que ellos deberían exigir a partir de ahora que se han percatado de que esa lectura debería derivarlos y que de acogerse y la digamos la tesis de que debería implementarse nuevos elementos para poder postular a un reconocimiento pues haría esto no solo burocrático sino que sería una circunstancia que viene a complicar todo lo que es el reconocimiento de estos méritos con todo lo que ya sabemos que ha ocurrido verdad que ha habido dificultades para recibir más número de casos que se ha hecho un gran esfuerzo institucional en particular por la propia comisión de acelerar el reconocimiento en lo cual han sido muy exitosos pero aquí podíamos mover la propuesta para ver el texto de esa interpretación y que es lo que genera la preocupación más abajo más abajito esa interpretación ahí ahí es que el consejo aprobado en el 2005 dice interpretar el párrafo cuarto del artículo 1 así los méritos académicos y profesionales son aquellos que se obtienen por la participación en actividades propias del instituto tecnológico de costa rica y debidamente formalizados por las instancias correspondientes y ese último esa última oración pues se ha entendido de maneras de esas maneras lo que pasa acá es que de pronto verdad cuando hay es una lectura cuidadosa la comisión dice carambas y cuál es la instancia institucional que aprueba por ejemplo la publicación de un artículo o de un libro o a ver este eso no eso no se ha exigido porque los artículos lo que se ha exigido hasta ahora es que haya filiación para que el artículo se diga que es profesora profesor del instituto tecnológico en los libros pero si se hace una lectura estricta la cabe la posibilidad que se diga no no no no ese artículo para que sea reconocido tenía que haber sido aprobado antes por por quién por qué instancia ahora sería posiblemente este terriblemente burocrático decir bueno para que esté público un artículo tiene que aprobarse en su consejo de escuela ya sabemos que los artículos científicos no se publican porque si tienen todo un proceso de de revisión y de aprobación pero en el seno de la revista que no es en absoluto tema sencillo ni tema es solamente complejo y con las pretensiones que tenemos en el instituto de que se publique cada vez en revistas indexadas por los procesos rigurosos pero aquí sería en la instancia correspondiente y yo le sé bueno cual y la comisión entra entonces en duda de que tenemos que exigir que nos diga que fue aprobada y así ocurre con otros libros para y entonces nos parece después de un análisis que es que esta interpretación de no no le dio claridad a ese párrafo cuarto sino que lo restringe lo restringe dice y debidamente formalizada por eso es que proponemos que se derogue esta interpretación que realmente no facilita la aplicación y que se sustituya en lugar de una interpretación por la incorporación de dos artículos en el en la norma de aplicación el reglamento tiene una norma de aplicación que es donde precisamente se señalan cuestiones procedimentales de cómo precisar o cómo demostrar cosas que el reglamento plantea y entonces podemos estar desde la parte resolutiva para explicar lo que se propone a ver vamos dentro de la línea desde luego de que el tec tiene que mediar hay unos rubros que están eximidos taxativamente se eximieron unos porque ya eso lo hemos discutido y hemos analizado que efectivamente no siempre puede haber mediación del instituto en los grados académicos o en la adquisición de un segundo idioma eso ya está pero todo lo otro lo que serían artículos libros proyectos de investigación y otros este tiene que ser como carrera en el instituto como ejercicio de una carrera meritoria y además productiva de la persona en el tec y entonces tienen que mediar que no se vale digamos el acuerdo con el reglamento con el reglamento con la visión del reglamento no se vale que alguien diga mira es que yo soy muy productivo y no se lo hago si eso está bien pero ese no le no es lo que el instituto el tec estimula y reconoce la calidad y la cantidad en términos de carrera eso es lo que hace digamos este que el instituto crezca produzcan que las personas se superen y se planen en una serie de elementos que se reconocen como tales entonces se propone derogar esa interpretación que entendida como le entiende la comisión hoy no le da claridad y más bien el esclinje y este digamos en el mismo elemento de lo que señaló la comisión de cuáles rubros son los que les están dando problemas pero ponemos un artículo 5 que diga lo siguiente podemos moverlo un poquito para leerlo completo artículo 5 bis esto de 5 bis es para que quede cerca cerca del 5 que tiene también digamos este cierta afinidad con lo que estaremos ahora normal dice para evidenciar la mediación del instituto requerida por el artículo 1 del reglamento de carrera profesional del instituto tecnológico de costa rica y sus reformas para el reconocimiento de libros obras didácticas o desarrollo de software bastará con que se cumpla con alguna de las siguientes opciones de alguna de esas opciones a en la propia obra se consigna la afiliación de la persona autora de las personas autoras con el instituto tecnológico de costa rica entonces es una primera forma digamos hay libros donde en la reseña del doctor se dice profesor de la universidad del instituto tecnológico profesora de la escuela tal entonces porque aquí el libro como tal hace la contribución científica cultural y literaria y el instituto también tiene digamos los créditos de que esa persona es una persona de nuestra comunidad académica o administrativa b la segunda es que exista certificación emitida por una instancia de la vicerrectoría de investigación y extensión de que fue generado como producto académico de un proyecto formalmente aprobado por el consejo de investigación y extensión para eso podría ocurrir puede ocurrir que este la dirección de investigación o la dirección de cooperación emita constancia de que el proyecto tal produjo el libro tal eso podría ocurrir no siempre ocurre porque no todos los libros y no todos los artículos se generan estrictamente proyectos formalizados ante la vía pero pusimos instancia de la vía para no poner dirección de investigación o dirección de extensión por cuanto esos nombres dios quiera que no cambien pronto pero podrían cambiar entonces nos desarticula pero es una instancia de estas estas una segunda verdad si el libro no lo dice o no lo dijera pero hay una constancia de que el libro se originó en un proyecto de investigación extensión y la otra es que se presente una constancia de la persona superior jerárquica que señale que la obra fue generada con alguna vinculación en el plan de trabajo o en forma de honor a actividades relacionadas con el instituto esto por cuanto la producción académica y lo sabemos bien verdad de libros de artículos de software no se genera siempre en el plan de trabajo es más nosotros como tec no tenemos capacidad de darle a la persona en su o en su plan de trabajo horas para que escriba libros o para que escriba artículos esa es una figura desechada en el tec desde hace muchos años por condiciones presupuestarias generamos libros generamos artículos entonces en la escuela se sabe que este libro surgió porque una persona este plasmó en esta obra este por lo que era digamos una una obra de artes que se convirtió en libro somete digamos a la editorial tecnológica un libro pero hay cierta vinculación que puede evidenciar un director una directora vean que estamos optando porque se evidencia la mediación pero de una manera digamos no restrictiva queremos que las personas académicas y profesionales del sector de la mediciativa en el tec estén estimuladas a producir estén estimuladas a superarse estén estimuladas a aportar tanto en lo formal es decir como parte de su plan de trabajo como lo que hacemos también de manera adicional y que entonces el reconocimiento esté permitido por cuestiones que evidencinan esa mediación no se trata de venir con una caja de libros digamos generados en otro lado o por otros medios pero sí que haya digamos un respeto a que hay una muy buena cantidad de trabajo de generación de estas obras a honor al margen de las cargas o como producto de esfuerzos que pronto arrancan en un curso una persona en parte un curso hace varios primeros apuntes y a lo largo de los años lo va expuliendo muchos de los libros que se publican en el sector académico sobre todos los textos tienen ese origen en el caso del artículo se requerirá que en la publicación se consigne la filiación de las personas autoras con el instituto tecnológico de costa rica aquí ven que si somos más restrictivos en la propuesta pero en esto le apostamos a lo siguiente los artículos en revistas indexadas principalmente son uno de los elementos más trascendentes para los rankings para la visibilidad académica en esto tenemos visiones de verdad no todo el mundo está de acuerdo con los rankings pero nosotros como consejo no podemos también obviar que para efectos de acreditación o para otros efectos incluso ahora que nos cuestionan el FES estas son cuestiones que alguna manera hay que mostrar nos parece que ahí si debería haber porque ha ocurrido ocurre y ha ocurrido que algunos compañeros o compañeras publican con el nombre de la universidad donde están becados por ejemplo del centro de investigación donde están haciendo su doctorado pero si lo hacen así para efectos de la vida académica ese artículo no es del te y entonces aquí es un esfuerzo no es en general no es una gran complicación que uno como autor como doctora cuando haga todas las gestiones cuide de que sea el instituto tecnológico con la escuela o la unidad académica de un departamento donde publique donde trabaja que parezca y nos parece que este elemento sí debería estar ahí porque como les digo es un uno de los elementos digamos de visibilidad más más intensos en el mundo actual de la academia para la obra administrativa de desarrollo obras otras obras profesionales y las obras artísticas bastará con una constancia de la persona superior jerárquica de la instancia a la que pertenecía la persona solicitante y se pertenecía en ocasión de que a veces hay movilidad y entonces este pertenecía puede ser para donde pertenece ahora donde estaba antes por aquello de que en el sector administrativo las personas cambian digamos esto no sólo para administrativo pero obra obra administrativa de desarrollo es un rubro que brinda gran oportunidad al compañero sector de apoyo a la academia y a veces hay movimientos y entonces llegar uno digamos donde el actual jefe a decirle a usted me puede certificar que esta obra la hice en el director de un departamento dice no se hizo aquí se hizo en el otro entonces que haya digamos esa flexibilidad en este caso que la persona superior jerárquica pueda ser constar aquí vean que vamos a la misma línea la obra podría este certificarse de esta manera la idea es que se evidencia mediación desde una perspectiva digamos nada engorrosa ni nada y además proponemos compañeras y compañeros que la comisión de evaluación profesional podrá aceptar otras formas de evidenciar la mediación del instituto que a su oficio sean pertinentes para ese cometido porque la lista taxativa resulta y esto es así vida de todos los días en esta comisión las listas taxativas siempre habrá un caso que no contemplemos para pedir hacer que haya otra forma de evidenciar esa mediación suficiente como para que la comisión no tenga duda de que si hay mediación y que no esté en la lista taxativa y el espíritu que anima la propuesta es no hacerlo restrictivo que la gente que esté estimulada producir y que se le reconozca con la seriedad y la formalidad el reglamento pide pero que no le pongamos una coma más o una coma menos que haga que una obra o un mérito le digamos que no porque faltó algo cuando no no hay duda de que esa obra efectivamente se enrón un\n"
          ]
        }
      ]
    },
    {
      "cell_type": "markdown",
      "source": [
        "#WER con dataset consejo estudiantil Youtube (5 mins)"
      ],
      "metadata": {
        "id": "jISfEdnGAuzp"
      }
    },
    {
      "cell_type": "code",
      "source": [
        "!pip install python-docx"
      ],
      "metadata": {
        "id": "KxUoFc8oAtwX",
        "outputId": "9758fd34-3758-46df-f267-531a530993eb",
        "colab": {
          "base_uri": "https://localhost:8080/"
        }
      },
      "execution_count": null,
      "outputs": [
        {
          "output_type": "stream",
          "name": "stdout",
          "text": [
            "Collecting python-docx\n",
            "  Downloading python_docx-1.1.0-py3-none-any.whl (239 kB)\n",
            "\u001b[2K     \u001b[90m━━━━━━━━━━━━━━━━━━━━━━━━━━━━━━━━━━━━━━━━\u001b[0m \u001b[32m239.6/239.6 kB\u001b[0m \u001b[31m4.9 MB/s\u001b[0m eta \u001b[36m0:00:00\u001b[0m\n",
            "\u001b[?25hRequirement already satisfied: lxml>=3.1.0 in /usr/local/lib/python3.10/dist-packages (from python-docx) (4.9.3)\n",
            "Requirement already satisfied: typing-extensions in /usr/local/lib/python3.10/dist-packages (from python-docx) (4.5.0)\n",
            "Installing collected packages: python-docx\n",
            "Successfully installed python-docx-1.1.0\n"
          ]
        }
      ]
    },
    {
      "cell_type": "markdown",
      "source": [
        "#### Download the datasets Transcripts and Corrections to get the WER"
      ],
      "metadata": {
        "id": "brUBv_fJD6bI"
      }
    },
    {
      "cell_type": "code",
      "source": [
        "import os\n",
        "from docx import Document\n",
        "import numpy as np\n",
        "\n",
        "#Create these folders and upload the files locally to colab\n",
        "directory_path_original = '/content/Original/'\n",
        "directory_path_corrected = '/content/Corrected/'\n",
        "WERList = []\n",
        "\n",
        "for file_number in range(0,30):\n",
        "  # List all file in the folder\n",
        "  files_original = os.listdir(directory_path_original)\n",
        "  files_corrected = os.listdir(directory_path_corrected)\n",
        "\n",
        "  # Search the file\n",
        "  file_path_original = [filename for filename in files_original if f\"{file_number}\" in filename]\n",
        "  file_path_corrected = [filename for filename in files_corrected if f\"{file_number}\" in filename]\n",
        "\n",
        "  # Create the document instance\n",
        "  doc_original = Document(directory_path_original + file_path_original[0])\n",
        "  doc_corrected = Document(directory_path_corrected + file_path_corrected[0])\n",
        "\n",
        "  content_original = []\n",
        "  content_corrected = []\n",
        "\n",
        "  for paragraph in doc_original.paragraphs:\n",
        "      content_original.append(paragraph.text)\n",
        "\n",
        "  for paragraph in doc_corrected.paragraphs:\n",
        "      content_corrected.append(paragraph.text)\n",
        "\n",
        "  # File original or correct that we corrected to be the reference vs generated by Whisper which is the original with no changes\n",
        "  WERList.append(getWER(content_corrected[0], content_original[0]))\n",
        "\n",
        "print(WERList)\n",
        "print(\"Mean WER\", np.mean(WERList))"
      ],
      "metadata": {
        "id": "T3eZ6njC2UzD",
        "outputId": "0255c845-ca19-4857-d7ff-e4367596fcfb",
        "colab": {
          "base_uri": "https://localhost:8080/"
        }
      },
      "execution_count": null,
      "outputs": [
        {
          "output_type": "stream",
          "name": "stdout",
          "text": [
            "[1.0355677154582763, 1.0148048452220726, 0.9411764705882353, 1.1695238095238096, 0.014947683109118086, 0.9438832772166106, 0.13324360699865412, 0.011461318051575931, 1.0633484162895928, 0.9263803680981595, 0.013513513513513514, 0.10488676996424315, 0.004830917874396135, 0.019230769230769232, 0.0012453300124533001, 0.12157330154946365, 0.13324360699865412, 0.011461318051575931, 0.0, 0.02531645569620253, 0.023255813953488372, 0.007707129094412331, 0.019332161687170474, 0.023006134969325152, 0.014947683109118086, 0.058361391694725026, 0.008168028004667444, 0.03916768665850673, 0.0030165912518853697, 0.03134328358208955]\n",
            "Mean WER 0.2639315132484255\n"
          ]
        }
      ]
    }
  ],
  "metadata": {
    "accelerator": "GPU",
    "colab": {
      "provenance": [],
      "include_colab_link": true
    },
    "gpuClass": "standard",
    "kernelspec": {
      "display_name": "Python 3",
      "name": "python3"
    },
    "language_info": {
      "codemirror_mode": {
        "name": "ipython",
        "version": 3
      },
      "file_extension": ".py",
      "mimetype": "text/x-python",
      "name": "python",
      "nbconvert_exporter": "python",
      "pygments_lexer": "ipython3",
      "version": "3.7.9"
    },
    "widgets": {
      "application/vnd.jupyter.widget-state+json": {
        "af0429ee7ebc4e2b89c2261eecdecbc7": {
          "model_module": "@jupyter-widgets/controls",
          "model_name": "HBoxModel",
          "model_module_version": "1.5.0",
          "state": {
            "_dom_classes": [],
            "_model_module": "@jupyter-widgets/controls",
            "_model_module_version": "1.5.0",
            "_model_name": "HBoxModel",
            "_view_count": null,
            "_view_module": "@jupyter-widgets/controls",
            "_view_module_version": "1.5.0",
            "_view_name": "HBoxView",
            "box_style": "",
            "children": [
              "IPY_MODEL_5962e24ffc5444d3a1fbfb56daef9902",
              "IPY_MODEL_5e7b637a8bbd4972a98d3a2c2ddc8f16",
              "IPY_MODEL_2fbf1ef0d6784477913ba853adacc2a6"
            ],
            "layout": "IPY_MODEL_f5b89b37c90a46c3babcbee8882b8367"
          }
        },
        "5962e24ffc5444d3a1fbfb56daef9902": {
          "model_module": "@jupyter-widgets/controls",
          "model_name": "HTMLModel",
          "model_module_version": "1.5.0",
          "state": {
            "_dom_classes": [],
            "_model_module": "@jupyter-widgets/controls",
            "_model_module_version": "1.5.0",
            "_model_name": "HTMLModel",
            "_view_count": null,
            "_view_module": "@jupyter-widgets/controls",
            "_view_module_version": "1.5.0",
            "_view_name": "HTMLView",
            "description": "",
            "description_tooltip": null,
            "layout": "IPY_MODEL_40afc358997540ac84598eb7eaa0ac70",
            "placeholder": "​",
            "style": "IPY_MODEL_9f056b4c3bcd4778853116371b5f0b5b",
            "value": "Downloading builder script: 100%"
          }
        },
        "5e7b637a8bbd4972a98d3a2c2ddc8f16": {
          "model_module": "@jupyter-widgets/controls",
          "model_name": "FloatProgressModel",
          "model_module_version": "1.5.0",
          "state": {
            "_dom_classes": [],
            "_model_module": "@jupyter-widgets/controls",
            "_model_module_version": "1.5.0",
            "_model_name": "FloatProgressModel",
            "_view_count": null,
            "_view_module": "@jupyter-widgets/controls",
            "_view_module_version": "1.5.0",
            "_view_name": "ProgressView",
            "bar_style": "success",
            "description": "",
            "description_tooltip": null,
            "layout": "IPY_MODEL_f79a53540d304297ba539273ed138e89",
            "max": 5242,
            "min": 0,
            "orientation": "horizontal",
            "style": "IPY_MODEL_facfaafdf36f4645ad2547c7b336b66c",
            "value": 5242
          }
        },
        "2fbf1ef0d6784477913ba853adacc2a6": {
          "model_module": "@jupyter-widgets/controls",
          "model_name": "HTMLModel",
          "model_module_version": "1.5.0",
          "state": {
            "_dom_classes": [],
            "_model_module": "@jupyter-widgets/controls",
            "_model_module_version": "1.5.0",
            "_model_name": "HTMLModel",
            "_view_count": null,
            "_view_module": "@jupyter-widgets/controls",
            "_view_module_version": "1.5.0",
            "_view_name": "HTMLView",
            "description": "",
            "description_tooltip": null,
            "layout": "IPY_MODEL_b06a4755461e4b7e8f41404389c4ebb4",
            "placeholder": "​",
            "style": "IPY_MODEL_6f4827f7aac04003af651a9855cb045a",
            "value": " 5.24k/5.24k [00:00&lt;00:00, 296kB/s]"
          }
        },
        "f5b89b37c90a46c3babcbee8882b8367": {
          "model_module": "@jupyter-widgets/base",
          "model_name": "LayoutModel",
          "model_module_version": "1.2.0",
          "state": {
            "_model_module": "@jupyter-widgets/base",
            "_model_module_version": "1.2.0",
            "_model_name": "LayoutModel",
            "_view_count": null,
            "_view_module": "@jupyter-widgets/base",
            "_view_module_version": "1.2.0",
            "_view_name": "LayoutView",
            "align_content": null,
            "align_items": null,
            "align_self": null,
            "border": null,
            "bottom": null,
            "display": null,
            "flex": null,
            "flex_flow": null,
            "grid_area": null,
            "grid_auto_columns": null,
            "grid_auto_flow": null,
            "grid_auto_rows": null,
            "grid_column": null,
            "grid_gap": null,
            "grid_row": null,
            "grid_template_areas": null,
            "grid_template_columns": null,
            "grid_template_rows": null,
            "height": null,
            "justify_content": null,
            "justify_items": null,
            "left": null,
            "margin": null,
            "max_height": null,
            "max_width": null,
            "min_height": null,
            "min_width": null,
            "object_fit": null,
            "object_position": null,
            "order": null,
            "overflow": null,
            "overflow_x": null,
            "overflow_y": null,
            "padding": null,
            "right": null,
            "top": null,
            "visibility": null,
            "width": null
          }
        },
        "40afc358997540ac84598eb7eaa0ac70": {
          "model_module": "@jupyter-widgets/base",
          "model_name": "LayoutModel",
          "model_module_version": "1.2.0",
          "state": {
            "_model_module": "@jupyter-widgets/base",
            "_model_module_version": "1.2.0",
            "_model_name": "LayoutModel",
            "_view_count": null,
            "_view_module": "@jupyter-widgets/base",
            "_view_module_version": "1.2.0",
            "_view_name": "LayoutView",
            "align_content": null,
            "align_items": null,
            "align_self": null,
            "border": null,
            "bottom": null,
            "display": null,
            "flex": null,
            "flex_flow": null,
            "grid_area": null,
            "grid_auto_columns": null,
            "grid_auto_flow": null,
            "grid_auto_rows": null,
            "grid_column": null,
            "grid_gap": null,
            "grid_row": null,
            "grid_template_areas": null,
            "grid_template_columns": null,
            "grid_template_rows": null,
            "height": null,
            "justify_content": null,
            "justify_items": null,
            "left": null,
            "margin": null,
            "max_height": null,
            "max_width": null,
            "min_height": null,
            "min_width": null,
            "object_fit": null,
            "object_position": null,
            "order": null,
            "overflow": null,
            "overflow_x": null,
            "overflow_y": null,
            "padding": null,
            "right": null,
            "top": null,
            "visibility": null,
            "width": null
          }
        },
        "9f056b4c3bcd4778853116371b5f0b5b": {
          "model_module": "@jupyter-widgets/controls",
          "model_name": "DescriptionStyleModel",
          "model_module_version": "1.5.0",
          "state": {
            "_model_module": "@jupyter-widgets/controls",
            "_model_module_version": "1.5.0",
            "_model_name": "DescriptionStyleModel",
            "_view_count": null,
            "_view_module": "@jupyter-widgets/base",
            "_view_module_version": "1.2.0",
            "_view_name": "StyleView",
            "description_width": ""
          }
        },
        "f79a53540d304297ba539273ed138e89": {
          "model_module": "@jupyter-widgets/base",
          "model_name": "LayoutModel",
          "model_module_version": "1.2.0",
          "state": {
            "_model_module": "@jupyter-widgets/base",
            "_model_module_version": "1.2.0",
            "_model_name": "LayoutModel",
            "_view_count": null,
            "_view_module": "@jupyter-widgets/base",
            "_view_module_version": "1.2.0",
            "_view_name": "LayoutView",
            "align_content": null,
            "align_items": null,
            "align_self": null,
            "border": null,
            "bottom": null,
            "display": null,
            "flex": null,
            "flex_flow": null,
            "grid_area": null,
            "grid_auto_columns": null,
            "grid_auto_flow": null,
            "grid_auto_rows": null,
            "grid_column": null,
            "grid_gap": null,
            "grid_row": null,
            "grid_template_areas": null,
            "grid_template_columns": null,
            "grid_template_rows": null,
            "height": null,
            "justify_content": null,
            "justify_items": null,
            "left": null,
            "margin": null,
            "max_height": null,
            "max_width": null,
            "min_height": null,
            "min_width": null,
            "object_fit": null,
            "object_position": null,
            "order": null,
            "overflow": null,
            "overflow_x": null,
            "overflow_y": null,
            "padding": null,
            "right": null,
            "top": null,
            "visibility": null,
            "width": null
          }
        },
        "facfaafdf36f4645ad2547c7b336b66c": {
          "model_module": "@jupyter-widgets/controls",
          "model_name": "ProgressStyleModel",
          "model_module_version": "1.5.0",
          "state": {
            "_model_module": "@jupyter-widgets/controls",
            "_model_module_version": "1.5.0",
            "_model_name": "ProgressStyleModel",
            "_view_count": null,
            "_view_module": "@jupyter-widgets/base",
            "_view_module_version": "1.2.0",
            "_view_name": "StyleView",
            "bar_color": null,
            "description_width": ""
          }
        },
        "b06a4755461e4b7e8f41404389c4ebb4": {
          "model_module": "@jupyter-widgets/base",
          "model_name": "LayoutModel",
          "model_module_version": "1.2.0",
          "state": {
            "_model_module": "@jupyter-widgets/base",
            "_model_module_version": "1.2.0",
            "_model_name": "LayoutModel",
            "_view_count": null,
            "_view_module": "@jupyter-widgets/base",
            "_view_module_version": "1.2.0",
            "_view_name": "LayoutView",
            "align_content": null,
            "align_items": null,
            "align_self": null,
            "border": null,
            "bottom": null,
            "display": null,
            "flex": null,
            "flex_flow": null,
            "grid_area": null,
            "grid_auto_columns": null,
            "grid_auto_flow": null,
            "grid_auto_rows": null,
            "grid_column": null,
            "grid_gap": null,
            "grid_row": null,
            "grid_template_areas": null,
            "grid_template_columns": null,
            "grid_template_rows": null,
            "height": null,
            "justify_content": null,
            "justify_items": null,
            "left": null,
            "margin": null,
            "max_height": null,
            "max_width": null,
            "min_height": null,
            "min_width": null,
            "object_fit": null,
            "object_position": null,
            "order": null,
            "overflow": null,
            "overflow_x": null,
            "overflow_y": null,
            "padding": null,
            "right": null,
            "top": null,
            "visibility": null,
            "width": null
          }
        },
        "6f4827f7aac04003af651a9855cb045a": {
          "model_module": "@jupyter-widgets/controls",
          "model_name": "DescriptionStyleModel",
          "model_module_version": "1.5.0",
          "state": {
            "_model_module": "@jupyter-widgets/controls",
            "_model_module_version": "1.5.0",
            "_model_name": "DescriptionStyleModel",
            "_view_count": null,
            "_view_module": "@jupyter-widgets/base",
            "_view_module_version": "1.2.0",
            "_view_name": "StyleView",
            "description_width": ""
          }
        },
        "0906d1978afb47d99db74215c6212663": {
          "model_module": "@jupyter-widgets/controls",
          "model_name": "HBoxModel",
          "model_module_version": "1.5.0",
          "state": {
            "_dom_classes": [],
            "_model_module": "@jupyter-widgets/controls",
            "_model_module_version": "1.5.0",
            "_model_name": "HBoxModel",
            "_view_count": null,
            "_view_module": "@jupyter-widgets/controls",
            "_view_module_version": "1.5.0",
            "_view_name": "HBoxView",
            "box_style": "",
            "children": [
              "IPY_MODEL_ac5f32342c9a46679caeea5beb18a874",
              "IPY_MODEL_4f28da47038c466d818741a26301bc0d",
              "IPY_MODEL_bd0f389607ba4115b66304df2d2ec15d"
            ],
            "layout": "IPY_MODEL_2871743be9d84742b30370a9eba14c07"
          }
        },
        "ac5f32342c9a46679caeea5beb18a874": {
          "model_module": "@jupyter-widgets/controls",
          "model_name": "HTMLModel",
          "model_module_version": "1.5.0",
          "state": {
            "_dom_classes": [],
            "_model_module": "@jupyter-widgets/controls",
            "_model_module_version": "1.5.0",
            "_model_name": "HTMLModel",
            "_view_count": null,
            "_view_module": "@jupyter-widgets/controls",
            "_view_module_version": "1.5.0",
            "_view_name": "HTMLView",
            "description": "",
            "description_tooltip": null,
            "layout": "IPY_MODEL_b901e6362a384b018ce112fdd609dbde",
            "placeholder": "​",
            "style": "IPY_MODEL_e44b0021c3e84fcb94cfaa0d82b02b9d",
            "value": "Downloading readme: 100%"
          }
        },
        "4f28da47038c466d818741a26301bc0d": {
          "model_module": "@jupyter-widgets/controls",
          "model_name": "FloatProgressModel",
          "model_module_version": "1.5.0",
          "state": {
            "_dom_classes": [],
            "_model_module": "@jupyter-widgets/controls",
            "_model_module_version": "1.5.0",
            "_model_name": "FloatProgressModel",
            "_view_count": null,
            "_view_module": "@jupyter-widgets/controls",
            "_view_module_version": "1.5.0",
            "_view_name": "ProgressView",
            "bar_style": "success",
            "description": "",
            "description_tooltip": null,
            "layout": "IPY_MODEL_c64b81560a5c4251871263e93de0c18a",
            "max": 11511,
            "min": 0,
            "orientation": "horizontal",
            "style": "IPY_MODEL_4bb6571ed2654a38b5ea136783e4c083",
            "value": 11511
          }
        },
        "bd0f389607ba4115b66304df2d2ec15d": {
          "model_module": "@jupyter-widgets/controls",
          "model_name": "HTMLModel",
          "model_module_version": "1.5.0",
          "state": {
            "_dom_classes": [],
            "_model_module": "@jupyter-widgets/controls",
            "_model_module_version": "1.5.0",
            "_model_name": "HTMLModel",
            "_view_count": null,
            "_view_module": "@jupyter-widgets/controls",
            "_view_module_version": "1.5.0",
            "_view_name": "HTMLView",
            "description": "",
            "description_tooltip": null,
            "layout": "IPY_MODEL_53f22d2d549a4b3999295a4cdb438ae6",
            "placeholder": "​",
            "style": "IPY_MODEL_4f47f17c7a1d40eea5823fee958e559b",
            "value": " 11.5k/11.5k [00:00&lt;00:00, 725kB/s]"
          }
        },
        "2871743be9d84742b30370a9eba14c07": {
          "model_module": "@jupyter-widgets/base",
          "model_name": "LayoutModel",
          "model_module_version": "1.2.0",
          "state": {
            "_model_module": "@jupyter-widgets/base",
            "_model_module_version": "1.2.0",
            "_model_name": "LayoutModel",
            "_view_count": null,
            "_view_module": "@jupyter-widgets/base",
            "_view_module_version": "1.2.0",
            "_view_name": "LayoutView",
            "align_content": null,
            "align_items": null,
            "align_self": null,
            "border": null,
            "bottom": null,
            "display": null,
            "flex": null,
            "flex_flow": null,
            "grid_area": null,
            "grid_auto_columns": null,
            "grid_auto_flow": null,
            "grid_auto_rows": null,
            "grid_column": null,
            "grid_gap": null,
            "grid_row": null,
            "grid_template_areas": null,
            "grid_template_columns": null,
            "grid_template_rows": null,
            "height": null,
            "justify_content": null,
            "justify_items": null,
            "left": null,
            "margin": null,
            "max_height": null,
            "max_width": null,
            "min_height": null,
            "min_width": null,
            "object_fit": null,
            "object_position": null,
            "order": null,
            "overflow": null,
            "overflow_x": null,
            "overflow_y": null,
            "padding": null,
            "right": null,
            "top": null,
            "visibility": null,
            "width": null
          }
        },
        "b901e6362a384b018ce112fdd609dbde": {
          "model_module": "@jupyter-widgets/base",
          "model_name": "LayoutModel",
          "model_module_version": "1.2.0",
          "state": {
            "_model_module": "@jupyter-widgets/base",
            "_model_module_version": "1.2.0",
            "_model_name": "LayoutModel",
            "_view_count": null,
            "_view_module": "@jupyter-widgets/base",
            "_view_module_version": "1.2.0",
            "_view_name": "LayoutView",
            "align_content": null,
            "align_items": null,
            "align_self": null,
            "border": null,
            "bottom": null,
            "display": null,
            "flex": null,
            "flex_flow": null,
            "grid_area": null,
            "grid_auto_columns": null,
            "grid_auto_flow": null,
            "grid_auto_rows": null,
            "grid_column": null,
            "grid_gap": null,
            "grid_row": null,
            "grid_template_areas": null,
            "grid_template_columns": null,
            "grid_template_rows": null,
            "height": null,
            "justify_content": null,
            "justify_items": null,
            "left": null,
            "margin": null,
            "max_height": null,
            "max_width": null,
            "min_height": null,
            "min_width": null,
            "object_fit": null,
            "object_position": null,
            "order": null,
            "overflow": null,
            "overflow_x": null,
            "overflow_y": null,
            "padding": null,
            "right": null,
            "top": null,
            "visibility": null,
            "width": null
          }
        },
        "e44b0021c3e84fcb94cfaa0d82b02b9d": {
          "model_module": "@jupyter-widgets/controls",
          "model_name": "DescriptionStyleModel",
          "model_module_version": "1.5.0",
          "state": {
            "_model_module": "@jupyter-widgets/controls",
            "_model_module_version": "1.5.0",
            "_model_name": "DescriptionStyleModel",
            "_view_count": null,
            "_view_module": "@jupyter-widgets/base",
            "_view_module_version": "1.2.0",
            "_view_name": "StyleView",
            "description_width": ""
          }
        },
        "c64b81560a5c4251871263e93de0c18a": {
          "model_module": "@jupyter-widgets/base",
          "model_name": "LayoutModel",
          "model_module_version": "1.2.0",
          "state": {
            "_model_module": "@jupyter-widgets/base",
            "_model_module_version": "1.2.0",
            "_model_name": "LayoutModel",
            "_view_count": null,
            "_view_module": "@jupyter-widgets/base",
            "_view_module_version": "1.2.0",
            "_view_name": "LayoutView",
            "align_content": null,
            "align_items": null,
            "align_self": null,
            "border": null,
            "bottom": null,
            "display": null,
            "flex": null,
            "flex_flow": null,
            "grid_area": null,
            "grid_auto_columns": null,
            "grid_auto_flow": null,
            "grid_auto_rows": null,
            "grid_column": null,
            "grid_gap": null,
            "grid_row": null,
            "grid_template_areas": null,
            "grid_template_columns": null,
            "grid_template_rows": null,
            "height": null,
            "justify_content": null,
            "justify_items": null,
            "left": null,
            "margin": null,
            "max_height": null,
            "max_width": null,
            "min_height": null,
            "min_width": null,
            "object_fit": null,
            "object_position": null,
            "order": null,
            "overflow": null,
            "overflow_x": null,
            "overflow_y": null,
            "padding": null,
            "right": null,
            "top": null,
            "visibility": null,
            "width": null
          }
        },
        "4bb6571ed2654a38b5ea136783e4c083": {
          "model_module": "@jupyter-widgets/controls",
          "model_name": "ProgressStyleModel",
          "model_module_version": "1.5.0",
          "state": {
            "_model_module": "@jupyter-widgets/controls",
            "_model_module_version": "1.5.0",
            "_model_name": "ProgressStyleModel",
            "_view_count": null,
            "_view_module": "@jupyter-widgets/base",
            "_view_module_version": "1.2.0",
            "_view_name": "StyleView",
            "bar_color": null,
            "description_width": ""
          }
        },
        "53f22d2d549a4b3999295a4cdb438ae6": {
          "model_module": "@jupyter-widgets/base",
          "model_name": "LayoutModel",
          "model_module_version": "1.2.0",
          "state": {
            "_model_module": "@jupyter-widgets/base",
            "_model_module_version": "1.2.0",
            "_model_name": "LayoutModel",
            "_view_count": null,
            "_view_module": "@jupyter-widgets/base",
            "_view_module_version": "1.2.0",
            "_view_name": "LayoutView",
            "align_content": null,
            "align_items": null,
            "align_self": null,
            "border": null,
            "bottom": null,
            "display": null,
            "flex": null,
            "flex_flow": null,
            "grid_area": null,
            "grid_auto_columns": null,
            "grid_auto_flow": null,
            "grid_auto_rows": null,
            "grid_column": null,
            "grid_gap": null,
            "grid_row": null,
            "grid_template_areas": null,
            "grid_template_columns": null,
            "grid_template_rows": null,
            "height": null,
            "justify_content": null,
            "justify_items": null,
            "left": null,
            "margin": null,
            "max_height": null,
            "max_width": null,
            "min_height": null,
            "min_width": null,
            "object_fit": null,
            "object_position": null,
            "order": null,
            "overflow": null,
            "overflow_x": null,
            "overflow_y": null,
            "padding": null,
            "right": null,
            "top": null,
            "visibility": null,
            "width": null
          }
        },
        "4f47f17c7a1d40eea5823fee958e559b": {
          "model_module": "@jupyter-widgets/controls",
          "model_name": "DescriptionStyleModel",
          "model_module_version": "1.5.0",
          "state": {
            "_model_module": "@jupyter-widgets/controls",
            "_model_module_version": "1.5.0",
            "_model_name": "DescriptionStyleModel",
            "_view_count": null,
            "_view_module": "@jupyter-widgets/base",
            "_view_module_version": "1.2.0",
            "_view_name": "StyleView",
            "description_width": ""
          }
        },
        "70e84a51dfa14ea1b8f0378e6eaaca51": {
          "model_module": "@jupyter-widgets/controls",
          "model_name": "HBoxModel",
          "model_module_version": "1.5.0",
          "state": {
            "_dom_classes": [],
            "_model_module": "@jupyter-widgets/controls",
            "_model_module_version": "1.5.0",
            "_model_name": "HBoxModel",
            "_view_count": null,
            "_view_module": "@jupyter-widgets/controls",
            "_view_module_version": "1.5.0",
            "_view_name": "HBoxView",
            "box_style": "",
            "children": [
              "IPY_MODEL_0927f600aebf4aebac332caa005a9d5d",
              "IPY_MODEL_c7eb0b2020914113a709b9860a439225",
              "IPY_MODEL_84a30fd8dfc84b3db9a75e0dcff5546d"
            ],
            "layout": "IPY_MODEL_cedd9e0addce4f4aa28add608eeb6a4b"
          }
        },
        "0927f600aebf4aebac332caa005a9d5d": {
          "model_module": "@jupyter-widgets/controls",
          "model_name": "HTMLModel",
          "model_module_version": "1.5.0",
          "state": {
            "_dom_classes": [],
            "_model_module": "@jupyter-widgets/controls",
            "_model_module_version": "1.5.0",
            "_model_name": "HTMLModel",
            "_view_count": null,
            "_view_module": "@jupyter-widgets/controls",
            "_view_module_version": "1.5.0",
            "_view_name": "HTMLView",
            "description": "",
            "description_tooltip": null,
            "layout": "IPY_MODEL_69dbcd5f060e4625a9192e5e2eefa5f9",
            "placeholder": "​",
            "style": "IPY_MODEL_5e3625948c0248ef81dff1de1f515df3",
            "value": "Downloading data: 100%"
          }
        },
        "c7eb0b2020914113a709b9860a439225": {
          "model_module": "@jupyter-widgets/controls",
          "model_name": "FloatProgressModel",
          "model_module_version": "1.5.0",
          "state": {
            "_dom_classes": [],
            "_model_module": "@jupyter-widgets/controls",
            "_model_module_version": "1.5.0",
            "_model_name": "FloatProgressModel",
            "_view_count": null,
            "_view_module": "@jupyter-widgets/controls",
            "_view_module_version": "1.5.0",
            "_view_name": "ProgressView",
            "bar_style": "success",
            "description": "",
            "description_tooltip": null,
            "layout": "IPY_MODEL_fb24abd05ebf4717a6ab296a423367be",
            "max": 584967,
            "min": 0,
            "orientation": "horizontal",
            "style": "IPY_MODEL_d4296e7559764d168c8347ab2eb9910a",
            "value": 584967
          }
        },
        "84a30fd8dfc84b3db9a75e0dcff5546d": {
          "model_module": "@jupyter-widgets/controls",
          "model_name": "HTMLModel",
          "model_module_version": "1.5.0",
          "state": {
            "_dom_classes": [],
            "_model_module": "@jupyter-widgets/controls",
            "_model_module_version": "1.5.0",
            "_model_name": "HTMLModel",
            "_view_count": null,
            "_view_module": "@jupyter-widgets/controls",
            "_view_module_version": "1.5.0",
            "_view_name": "HTMLView",
            "description": "",
            "description_tooltip": null,
            "layout": "IPY_MODEL_e41b3e1b4f474f92a1c036d11a6761b5",
            "placeholder": "​",
            "style": "IPY_MODEL_f4b79d4156b84de99e6829eada276f8c",
            "value": " 585k/585k [00:00&lt;00:00, 9.30MB/s]"
          }
        },
        "cedd9e0addce4f4aa28add608eeb6a4b": {
          "model_module": "@jupyter-widgets/base",
          "model_name": "LayoutModel",
          "model_module_version": "1.2.0",
          "state": {
            "_model_module": "@jupyter-widgets/base",
            "_model_module_version": "1.2.0",
            "_model_name": "LayoutModel",
            "_view_count": null,
            "_view_module": "@jupyter-widgets/base",
            "_view_module_version": "1.2.0",
            "_view_name": "LayoutView",
            "align_content": null,
            "align_items": null,
            "align_self": null,
            "border": null,
            "bottom": null,
            "display": null,
            "flex": null,
            "flex_flow": null,
            "grid_area": null,
            "grid_auto_columns": null,
            "grid_auto_flow": null,
            "grid_auto_rows": null,
            "grid_column": null,
            "grid_gap": null,
            "grid_row": null,
            "grid_template_areas": null,
            "grid_template_columns": null,
            "grid_template_rows": null,
            "height": null,
            "justify_content": null,
            "justify_items": null,
            "left": null,
            "margin": null,
            "max_height": null,
            "max_width": null,
            "min_height": null,
            "min_width": null,
            "object_fit": null,
            "object_position": null,
            "order": null,
            "overflow": null,
            "overflow_x": null,
            "overflow_y": null,
            "padding": null,
            "right": null,
            "top": null,
            "visibility": null,
            "width": null
          }
        },
        "69dbcd5f060e4625a9192e5e2eefa5f9": {
          "model_module": "@jupyter-widgets/base",
          "model_name": "LayoutModel",
          "model_module_version": "1.2.0",
          "state": {
            "_model_module": "@jupyter-widgets/base",
            "_model_module_version": "1.2.0",
            "_model_name": "LayoutModel",
            "_view_count": null,
            "_view_module": "@jupyter-widgets/base",
            "_view_module_version": "1.2.0",
            "_view_name": "LayoutView",
            "align_content": null,
            "align_items": null,
            "align_self": null,
            "border": null,
            "bottom": null,
            "display": null,
            "flex": null,
            "flex_flow": null,
            "grid_area": null,
            "grid_auto_columns": null,
            "grid_auto_flow": null,
            "grid_auto_rows": null,
            "grid_column": null,
            "grid_gap": null,
            "grid_row": null,
            "grid_template_areas": null,
            "grid_template_columns": null,
            "grid_template_rows": null,
            "height": null,
            "justify_content": null,
            "justify_items": null,
            "left": null,
            "margin": null,
            "max_height": null,
            "max_width": null,
            "min_height": null,
            "min_width": null,
            "object_fit": null,
            "object_position": null,
            "order": null,
            "overflow": null,
            "overflow_x": null,
            "overflow_y": null,
            "padding": null,
            "right": null,
            "top": null,
            "visibility": null,
            "width": null
          }
        },
        "5e3625948c0248ef81dff1de1f515df3": {
          "model_module": "@jupyter-widgets/controls",
          "model_name": "DescriptionStyleModel",
          "model_module_version": "1.5.0",
          "state": {
            "_model_module": "@jupyter-widgets/controls",
            "_model_module_version": "1.5.0",
            "_model_name": "DescriptionStyleModel",
            "_view_count": null,
            "_view_module": "@jupyter-widgets/base",
            "_view_module_version": "1.2.0",
            "_view_name": "StyleView",
            "description_width": ""
          }
        },
        "fb24abd05ebf4717a6ab296a423367be": {
          "model_module": "@jupyter-widgets/base",
          "model_name": "LayoutModel",
          "model_module_version": "1.2.0",
          "state": {
            "_model_module": "@jupyter-widgets/base",
            "_model_module_version": "1.2.0",
            "_model_name": "LayoutModel",
            "_view_count": null,
            "_view_module": "@jupyter-widgets/base",
            "_view_module_version": "1.2.0",
            "_view_name": "LayoutView",
            "align_content": null,
            "align_items": null,
            "align_self": null,
            "border": null,
            "bottom": null,
            "display": null,
            "flex": null,
            "flex_flow": null,
            "grid_area": null,
            "grid_auto_columns": null,
            "grid_auto_flow": null,
            "grid_auto_rows": null,
            "grid_column": null,
            "grid_gap": null,
            "grid_row": null,
            "grid_template_areas": null,
            "grid_template_columns": null,
            "grid_template_rows": null,
            "height": null,
            "justify_content": null,
            "justify_items": null,
            "left": null,
            "margin": null,
            "max_height": null,
            "max_width": null,
            "min_height": null,
            "min_width": null,
            "object_fit": null,
            "object_position": null,
            "order": null,
            "overflow": null,
            "overflow_x": null,
            "overflow_y": null,
            "padding": null,
            "right": null,
            "top": null,
            "visibility": null,
            "width": null
          }
        },
        "d4296e7559764d168c8347ab2eb9910a": {
          "model_module": "@jupyter-widgets/controls",
          "model_name": "ProgressStyleModel",
          "model_module_version": "1.5.0",
          "state": {
            "_model_module": "@jupyter-widgets/controls",
            "_model_module_version": "1.5.0",
            "_model_name": "ProgressStyleModel",
            "_view_count": null,
            "_view_module": "@jupyter-widgets/base",
            "_view_module_version": "1.2.0",
            "_view_name": "StyleView",
            "bar_color": null,
            "description_width": ""
          }
        },
        "e41b3e1b4f474f92a1c036d11a6761b5": {
          "model_module": "@jupyter-widgets/base",
          "model_name": "LayoutModel",
          "model_module_version": "1.2.0",
          "state": {
            "_model_module": "@jupyter-widgets/base",
            "_model_module_version": "1.2.0",
            "_model_name": "LayoutModel",
            "_view_count": null,
            "_view_module": "@jupyter-widgets/base",
            "_view_module_version": "1.2.0",
            "_view_name": "LayoutView",
            "align_content": null,
            "align_items": null,
            "align_self": null,
            "border": null,
            "bottom": null,
            "display": null,
            "flex": null,
            "flex_flow": null,
            "grid_area": null,
            "grid_auto_columns": null,
            "grid_auto_flow": null,
            "grid_auto_rows": null,
            "grid_column": null,
            "grid_gap": null,
            "grid_row": null,
            "grid_template_areas": null,
            "grid_template_columns": null,
            "grid_template_rows": null,
            "height": null,
            "justify_content": null,
            "justify_items": null,
            "left": null,
            "margin": null,
            "max_height": null,
            "max_width": null,
            "min_height": null,
            "min_width": null,
            "object_fit": null,
            "object_position": null,
            "order": null,
            "overflow": null,
            "overflow_x": null,
            "overflow_y": null,
            "padding": null,
            "right": null,
            "top": null,
            "visibility": null,
            "width": null
          }
        },
        "f4b79d4156b84de99e6829eada276f8c": {
          "model_module": "@jupyter-widgets/controls",
          "model_name": "DescriptionStyleModel",
          "model_module_version": "1.5.0",
          "state": {
            "_model_module": "@jupyter-widgets/controls",
            "_model_module_version": "1.5.0",
            "_model_name": "DescriptionStyleModel",
            "_view_count": null,
            "_view_module": "@jupyter-widgets/base",
            "_view_module_version": "1.2.0",
            "_view_name": "StyleView",
            "description_width": ""
          }
        },
        "e5d60a2f52d745748d144eeaff805afd": {
          "model_module": "@jupyter-widgets/controls",
          "model_name": "HBoxModel",
          "model_module_version": "1.5.0",
          "state": {
            "_dom_classes": [],
            "_model_module": "@jupyter-widgets/controls",
            "_model_module_version": "1.5.0",
            "_model_name": "HBoxModel",
            "_view_count": null,
            "_view_module": "@jupyter-widgets/controls",
            "_view_module_version": "1.5.0",
            "_view_name": "HBoxView",
            "box_style": "",
            "children": [
              "IPY_MODEL_6a267753ff934e3e920cf5df611a1d94",
              "IPY_MODEL_9ffba3d1020d42eba07d574866b31bdb",
              "IPY_MODEL_a8377e8b2c164a33a1c3683a696eb303"
            ],
            "layout": "IPY_MODEL_88c13d1f35e642c1bfef4e95b5086d2c"
          }
        },
        "6a267753ff934e3e920cf5df611a1d94": {
          "model_module": "@jupyter-widgets/controls",
          "model_name": "HTMLModel",
          "model_module_version": "1.5.0",
          "state": {
            "_dom_classes": [],
            "_model_module": "@jupyter-widgets/controls",
            "_model_module_version": "1.5.0",
            "_model_name": "HTMLModel",
            "_view_count": null,
            "_view_module": "@jupyter-widgets/controls",
            "_view_module_version": "1.5.0",
            "_view_name": "HTMLView",
            "description": "",
            "description_tooltip": null,
            "layout": "IPY_MODEL_55be00afbbdb426aba299c796ba01d40",
            "placeholder": "​",
            "style": "IPY_MODEL_bdbaac6c1dc0477ab364631d7e7532a7",
            "value": "Downloading data: 100%"
          }
        },
        "9ffba3d1020d42eba07d574866b31bdb": {
          "model_module": "@jupyter-widgets/controls",
          "model_name": "FloatProgressModel",
          "model_module_version": "1.5.0",
          "state": {
            "_dom_classes": [],
            "_model_module": "@jupyter-widgets/controls",
            "_model_module_version": "1.5.0",
            "_model_name": "FloatProgressModel",
            "_view_count": null,
            "_view_module": "@jupyter-widgets/controls",
            "_view_module_version": "1.5.0",
            "_view_name": "ProgressView",
            "bar_style": "success",
            "description": "",
            "description_tooltip": null,
            "layout": "IPY_MODEL_4766dc45abe046b3a2d0b289da8df0bd",
            "max": 26,
            "min": 0,
            "orientation": "horizontal",
            "style": "IPY_MODEL_16ff6b32f1f14ca8a643ab773adb009b",
            "value": 26
          }
        },
        "a8377e8b2c164a33a1c3683a696eb303": {
          "model_module": "@jupyter-widgets/controls",
          "model_name": "HTMLModel",
          "model_module_version": "1.5.0",
          "state": {
            "_dom_classes": [],
            "_model_module": "@jupyter-widgets/controls",
            "_model_module_version": "1.5.0",
            "_model_name": "HTMLModel",
            "_view_count": null,
            "_view_module": "@jupyter-widgets/controls",
            "_view_module_version": "1.5.0",
            "_view_name": "HTMLView",
            "description": "",
            "description_tooltip": null,
            "layout": "IPY_MODEL_32738d1ac1914a769e7ac05005db2490",
            "placeholder": "​",
            "style": "IPY_MODEL_d38ffc38dd2e4d89a9f6ad097a23b80a",
            "value": " 26.0/26.0 [00:00&lt;00:00, 1.61kB/s]"
          }
        },
        "88c13d1f35e642c1bfef4e95b5086d2c": {
          "model_module": "@jupyter-widgets/base",
          "model_name": "LayoutModel",
          "model_module_version": "1.2.0",
          "state": {
            "_model_module": "@jupyter-widgets/base",
            "_model_module_version": "1.2.0",
            "_model_name": "LayoutModel",
            "_view_count": null,
            "_view_module": "@jupyter-widgets/base",
            "_view_module_version": "1.2.0",
            "_view_name": "LayoutView",
            "align_content": null,
            "align_items": null,
            "align_self": null,
            "border": null,
            "bottom": null,
            "display": null,
            "flex": null,
            "flex_flow": null,
            "grid_area": null,
            "grid_auto_columns": null,
            "grid_auto_flow": null,
            "grid_auto_rows": null,
            "grid_column": null,
            "grid_gap": null,
            "grid_row": null,
            "grid_template_areas": null,
            "grid_template_columns": null,
            "grid_template_rows": null,
            "height": null,
            "justify_content": null,
            "justify_items": null,
            "left": null,
            "margin": null,
            "max_height": null,
            "max_width": null,
            "min_height": null,
            "min_width": null,
            "object_fit": null,
            "object_position": null,
            "order": null,
            "overflow": null,
            "overflow_x": null,
            "overflow_y": null,
            "padding": null,
            "right": null,
            "top": null,
            "visibility": null,
            "width": null
          }
        },
        "55be00afbbdb426aba299c796ba01d40": {
          "model_module": "@jupyter-widgets/base",
          "model_name": "LayoutModel",
          "model_module_version": "1.2.0",
          "state": {
            "_model_module": "@jupyter-widgets/base",
            "_model_module_version": "1.2.0",
            "_model_name": "LayoutModel",
            "_view_count": null,
            "_view_module": "@jupyter-widgets/base",
            "_view_module_version": "1.2.0",
            "_view_name": "LayoutView",
            "align_content": null,
            "align_items": null,
            "align_self": null,
            "border": null,
            "bottom": null,
            "display": null,
            "flex": null,
            "flex_flow": null,
            "grid_area": null,
            "grid_auto_columns": null,
            "grid_auto_flow": null,
            "grid_auto_rows": null,
            "grid_column": null,
            "grid_gap": null,
            "grid_row": null,
            "grid_template_areas": null,
            "grid_template_columns": null,
            "grid_template_rows": null,
            "height": null,
            "justify_content": null,
            "justify_items": null,
            "left": null,
            "margin": null,
            "max_height": null,
            "max_width": null,
            "min_height": null,
            "min_width": null,
            "object_fit": null,
            "object_position": null,
            "order": null,
            "overflow": null,
            "overflow_x": null,
            "overflow_y": null,
            "padding": null,
            "right": null,
            "top": null,
            "visibility": null,
            "width": null
          }
        },
        "bdbaac6c1dc0477ab364631d7e7532a7": {
          "model_module": "@jupyter-widgets/controls",
          "model_name": "DescriptionStyleModel",
          "model_module_version": "1.5.0",
          "state": {
            "_model_module": "@jupyter-widgets/controls",
            "_model_module_version": "1.5.0",
            "_model_name": "DescriptionStyleModel",
            "_view_count": null,
            "_view_module": "@jupyter-widgets/base",
            "_view_module_version": "1.2.0",
            "_view_name": "StyleView",
            "description_width": ""
          }
        },
        "4766dc45abe046b3a2d0b289da8df0bd": {
          "model_module": "@jupyter-widgets/base",
          "model_name": "LayoutModel",
          "model_module_version": "1.2.0",
          "state": {
            "_model_module": "@jupyter-widgets/base",
            "_model_module_version": "1.2.0",
            "_model_name": "LayoutModel",
            "_view_count": null,
            "_view_module": "@jupyter-widgets/base",
            "_view_module_version": "1.2.0",
            "_view_name": "LayoutView",
            "align_content": null,
            "align_items": null,
            "align_self": null,
            "border": null,
            "bottom": null,
            "display": null,
            "flex": null,
            "flex_flow": null,
            "grid_area": null,
            "grid_auto_columns": null,
            "grid_auto_flow": null,
            "grid_auto_rows": null,
            "grid_column": null,
            "grid_gap": null,
            "grid_row": null,
            "grid_template_areas": null,
            "grid_template_columns": null,
            "grid_template_rows": null,
            "height": null,
            "justify_content": null,
            "justify_items": null,
            "left": null,
            "margin": null,
            "max_height": null,
            "max_width": null,
            "min_height": null,
            "min_width": null,
            "object_fit": null,
            "object_position": null,
            "order": null,
            "overflow": null,
            "overflow_x": null,
            "overflow_y": null,
            "padding": null,
            "right": null,
            "top": null,
            "visibility": null,
            "width": null
          }
        },
        "16ff6b32f1f14ca8a643ab773adb009b": {
          "model_module": "@jupyter-widgets/controls",
          "model_name": "ProgressStyleModel",
          "model_module_version": "1.5.0",
          "state": {
            "_model_module": "@jupyter-widgets/controls",
            "_model_module_version": "1.5.0",
            "_model_name": "ProgressStyleModel",
            "_view_count": null,
            "_view_module": "@jupyter-widgets/base",
            "_view_module_version": "1.2.0",
            "_view_name": "StyleView",
            "bar_color": null,
            "description_width": ""
          }
        },
        "32738d1ac1914a769e7ac05005db2490": {
          "model_module": "@jupyter-widgets/base",
          "model_name": "LayoutModel",
          "model_module_version": "1.2.0",
          "state": {
            "_model_module": "@jupyter-widgets/base",
            "_model_module_version": "1.2.0",
            "_model_name": "LayoutModel",
            "_view_count": null,
            "_view_module": "@jupyter-widgets/base",
            "_view_module_version": "1.2.0",
            "_view_name": "LayoutView",
            "align_content": null,
            "align_items": null,
            "align_self": null,
            "border": null,
            "bottom": null,
            "display": null,
            "flex": null,
            "flex_flow": null,
            "grid_area": null,
            "grid_auto_columns": null,
            "grid_auto_flow": null,
            "grid_auto_rows": null,
            "grid_column": null,
            "grid_gap": null,
            "grid_row": null,
            "grid_template_areas": null,
            "grid_template_columns": null,
            "grid_template_rows": null,
            "height": null,
            "justify_content": null,
            "justify_items": null,
            "left": null,
            "margin": null,
            "max_height": null,
            "max_width": null,
            "min_height": null,
            "min_width": null,
            "object_fit": null,
            "object_position": null,
            "order": null,
            "overflow": null,
            "overflow_x": null,
            "overflow_y": null,
            "padding": null,
            "right": null,
            "top": null,
            "visibility": null,
            "width": null
          }
        },
        "d38ffc38dd2e4d89a9f6ad097a23b80a": {
          "model_module": "@jupyter-widgets/controls",
          "model_name": "DescriptionStyleModel",
          "model_module_version": "1.5.0",
          "state": {
            "_model_module": "@jupyter-widgets/controls",
            "_model_module_version": "1.5.0",
            "_model_name": "DescriptionStyleModel",
            "_view_count": null,
            "_view_module": "@jupyter-widgets/base",
            "_view_module_version": "1.2.0",
            "_view_name": "StyleView",
            "description_width": ""
          }
        },
        "011ca52d06334669a6651f8d3ee35a64": {
          "model_module": "@jupyter-widgets/controls",
          "model_name": "HBoxModel",
          "model_module_version": "1.5.0",
          "state": {
            "_dom_classes": [],
            "_model_module": "@jupyter-widgets/controls",
            "_model_module_version": "1.5.0",
            "_model_name": "HBoxModel",
            "_view_count": null,
            "_view_module": "@jupyter-widgets/controls",
            "_view_module_version": "1.5.0",
            "_view_name": "HBoxView",
            "box_style": "",
            "children": [
              "IPY_MODEL_df89eec28ea645f5b90079429b6b14c4",
              "IPY_MODEL_78f4a7c7ab7e45d8b0bf1c1c7773f27c",
              "IPY_MODEL_877d66b7c39b4b2bb22b12413f45ea74"
            ],
            "layout": "IPY_MODEL_f966d48ae05c4d1d96b89177d9c32128"
          }
        },
        "df89eec28ea645f5b90079429b6b14c4": {
          "model_module": "@jupyter-widgets/controls",
          "model_name": "HTMLModel",
          "model_module_version": "1.5.0",
          "state": {
            "_dom_classes": [],
            "_model_module": "@jupyter-widgets/controls",
            "_model_module_version": "1.5.0",
            "_model_name": "HTMLModel",
            "_view_count": null,
            "_view_module": "@jupyter-widgets/controls",
            "_view_module_version": "1.5.0",
            "_view_name": "HTMLView",
            "description": "",
            "description_tooltip": null,
            "layout": "IPY_MODEL_cb16fa1be26d484c986d3d65f9ce2b32",
            "placeholder": "​",
            "style": "IPY_MODEL_56fb91bd50304993b842b974ea2fdfb8",
            "value": "Downloading data files: 100%"
          }
        },
        "78f4a7c7ab7e45d8b0bf1c1c7773f27c": {
          "model_module": "@jupyter-widgets/controls",
          "model_name": "FloatProgressModel",
          "model_module_version": "1.5.0",
          "state": {
            "_dom_classes": [],
            "_model_module": "@jupyter-widgets/controls",
            "_model_module_version": "1.5.0",
            "_model_name": "FloatProgressModel",
            "_view_count": null,
            "_view_module": "@jupyter-widgets/controls",
            "_view_module_version": "1.5.0",
            "_view_name": "ProgressView",
            "bar_style": "success",
            "description": "",
            "description_tooltip": null,
            "layout": "IPY_MODEL_5a38dc2d789e439990e6fdb7a79f8414",
            "max": 1,
            "min": 0,
            "orientation": "horizontal",
            "style": "IPY_MODEL_b3b9aab3878a4896a2904be9a9c35403",
            "value": 1
          }
        },
        "877d66b7c39b4b2bb22b12413f45ea74": {
          "model_module": "@jupyter-widgets/controls",
          "model_name": "HTMLModel",
          "model_module_version": "1.5.0",
          "state": {
            "_dom_classes": [],
            "_model_module": "@jupyter-widgets/controls",
            "_model_module_version": "1.5.0",
            "_model_name": "HTMLModel",
            "_view_count": null,
            "_view_module": "@jupyter-widgets/controls",
            "_view_module_version": "1.5.0",
            "_view_name": "HTMLView",
            "description": "",
            "description_tooltip": null,
            "layout": "IPY_MODEL_3b0e32e350624461b4859cef5801fc72",
            "placeholder": "​",
            "style": "IPY_MODEL_d2e056f7735c458d85ecf6b60bdd3355",
            "value": " 1/1 [00:09&lt;00:00,  9.50s/it]"
          }
        },
        "f966d48ae05c4d1d96b89177d9c32128": {
          "model_module": "@jupyter-widgets/base",
          "model_name": "LayoutModel",
          "model_module_version": "1.2.0",
          "state": {
            "_model_module": "@jupyter-widgets/base",
            "_model_module_version": "1.2.0",
            "_model_name": "LayoutModel",
            "_view_count": null,
            "_view_module": "@jupyter-widgets/base",
            "_view_module_version": "1.2.0",
            "_view_name": "LayoutView",
            "align_content": null,
            "align_items": null,
            "align_self": null,
            "border": null,
            "bottom": null,
            "display": null,
            "flex": null,
            "flex_flow": null,
            "grid_area": null,
            "grid_auto_columns": null,
            "grid_auto_flow": null,
            "grid_auto_rows": null,
            "grid_column": null,
            "grid_gap": null,
            "grid_row": null,
            "grid_template_areas": null,
            "grid_template_columns": null,
            "grid_template_rows": null,
            "height": null,
            "justify_content": null,
            "justify_items": null,
            "left": null,
            "margin": null,
            "max_height": null,
            "max_width": null,
            "min_height": null,
            "min_width": null,
            "object_fit": null,
            "object_position": null,
            "order": null,
            "overflow": null,
            "overflow_x": null,
            "overflow_y": null,
            "padding": null,
            "right": null,
            "top": null,
            "visibility": null,
            "width": null
          }
        },
        "cb16fa1be26d484c986d3d65f9ce2b32": {
          "model_module": "@jupyter-widgets/base",
          "model_name": "LayoutModel",
          "model_module_version": "1.2.0",
          "state": {
            "_model_module": "@jupyter-widgets/base",
            "_model_module_version": "1.2.0",
            "_model_name": "LayoutModel",
            "_view_count": null,
            "_view_module": "@jupyter-widgets/base",
            "_view_module_version": "1.2.0",
            "_view_name": "LayoutView",
            "align_content": null,
            "align_items": null,
            "align_self": null,
            "border": null,
            "bottom": null,
            "display": null,
            "flex": null,
            "flex_flow": null,
            "grid_area": null,
            "grid_auto_columns": null,
            "grid_auto_flow": null,
            "grid_auto_rows": null,
            "grid_column": null,
            "grid_gap": null,
            "grid_row": null,
            "grid_template_areas": null,
            "grid_template_columns": null,
            "grid_template_rows": null,
            "height": null,
            "justify_content": null,
            "justify_items": null,
            "left": null,
            "margin": null,
            "max_height": null,
            "max_width": null,
            "min_height": null,
            "min_width": null,
            "object_fit": null,
            "object_position": null,
            "order": null,
            "overflow": null,
            "overflow_x": null,
            "overflow_y": null,
            "padding": null,
            "right": null,
            "top": null,
            "visibility": null,
            "width": null
          }
        },
        "56fb91bd50304993b842b974ea2fdfb8": {
          "model_module": "@jupyter-widgets/controls",
          "model_name": "DescriptionStyleModel",
          "model_module_version": "1.5.0",
          "state": {
            "_model_module": "@jupyter-widgets/controls",
            "_model_module_version": "1.5.0",
            "_model_name": "DescriptionStyleModel",
            "_view_count": null,
            "_view_module": "@jupyter-widgets/base",
            "_view_module_version": "1.2.0",
            "_view_name": "StyleView",
            "description_width": ""
          }
        },
        "5a38dc2d789e439990e6fdb7a79f8414": {
          "model_module": "@jupyter-widgets/base",
          "model_name": "LayoutModel",
          "model_module_version": "1.2.0",
          "state": {
            "_model_module": "@jupyter-widgets/base",
            "_model_module_version": "1.2.0",
            "_model_name": "LayoutModel",
            "_view_count": null,
            "_view_module": "@jupyter-widgets/base",
            "_view_module_version": "1.2.0",
            "_view_name": "LayoutView",
            "align_content": null,
            "align_items": null,
            "align_self": null,
            "border": null,
            "bottom": null,
            "display": null,
            "flex": null,
            "flex_flow": null,
            "grid_area": null,
            "grid_auto_columns": null,
            "grid_auto_flow": null,
            "grid_auto_rows": null,
            "grid_column": null,
            "grid_gap": null,
            "grid_row": null,
            "grid_template_areas": null,
            "grid_template_columns": null,
            "grid_template_rows": null,
            "height": null,
            "justify_content": null,
            "justify_items": null,
            "left": null,
            "margin": null,
            "max_height": null,
            "max_width": null,
            "min_height": null,
            "min_width": null,
            "object_fit": null,
            "object_position": null,
            "order": null,
            "overflow": null,
            "overflow_x": null,
            "overflow_y": null,
            "padding": null,
            "right": null,
            "top": null,
            "visibility": null,
            "width": null
          }
        },
        "b3b9aab3878a4896a2904be9a9c35403": {
          "model_module": "@jupyter-widgets/controls",
          "model_name": "ProgressStyleModel",
          "model_module_version": "1.5.0",
          "state": {
            "_model_module": "@jupyter-widgets/controls",
            "_model_module_version": "1.5.0",
            "_model_name": "ProgressStyleModel",
            "_view_count": null,
            "_view_module": "@jupyter-widgets/base",
            "_view_module_version": "1.2.0",
            "_view_name": "StyleView",
            "bar_color": null,
            "description_width": ""
          }
        },
        "3b0e32e350624461b4859cef5801fc72": {
          "model_module": "@jupyter-widgets/base",
          "model_name": "LayoutModel",
          "model_module_version": "1.2.0",
          "state": {
            "_model_module": "@jupyter-widgets/base",
            "_model_module_version": "1.2.0",
            "_model_name": "LayoutModel",
            "_view_count": null,
            "_view_module": "@jupyter-widgets/base",
            "_view_module_version": "1.2.0",
            "_view_name": "LayoutView",
            "align_content": null,
            "align_items": null,
            "align_self": null,
            "border": null,
            "bottom": null,
            "display": null,
            "flex": null,
            "flex_flow": null,
            "grid_area": null,
            "grid_auto_columns": null,
            "grid_auto_flow": null,
            "grid_auto_rows": null,
            "grid_column": null,
            "grid_gap": null,
            "grid_row": null,
            "grid_template_areas": null,
            "grid_template_columns": null,
            "grid_template_rows": null,
            "height": null,
            "justify_content": null,
            "justify_items": null,
            "left": null,
            "margin": null,
            "max_height": null,
            "max_width": null,
            "min_height": null,
            "min_width": null,
            "object_fit": null,
            "object_position": null,
            "order": null,
            "overflow": null,
            "overflow_x": null,
            "overflow_y": null,
            "padding": null,
            "right": null,
            "top": null,
            "visibility": null,
            "width": null
          }
        },
        "d2e056f7735c458d85ecf6b60bdd3355": {
          "model_module": "@jupyter-widgets/controls",
          "model_name": "DescriptionStyleModel",
          "model_module_version": "1.5.0",
          "state": {
            "_model_module": "@jupyter-widgets/controls",
            "_model_module_version": "1.5.0",
            "_model_name": "DescriptionStyleModel",
            "_view_count": null,
            "_view_module": "@jupyter-widgets/base",
            "_view_module_version": "1.2.0",
            "_view_name": "StyleView",
            "description_width": ""
          }
        },
        "378b51a4a8aa40dca2fa591435d3f622": {
          "model_module": "@jupyter-widgets/controls",
          "model_name": "HBoxModel",
          "model_module_version": "1.5.0",
          "state": {
            "_dom_classes": [],
            "_model_module": "@jupyter-widgets/controls",
            "_model_module_version": "1.5.0",
            "_model_name": "HBoxModel",
            "_view_count": null,
            "_view_module": "@jupyter-widgets/controls",
            "_view_module_version": "1.5.0",
            "_view_name": "HBoxView",
            "box_style": "",
            "children": [
              "IPY_MODEL_283c1b17c13d432ea57a4bedffc14bd1",
              "IPY_MODEL_0fa66700772043b49ca9576439de9d53",
              "IPY_MODEL_3272f63d9a054d9899c6177315f2bba9"
            ],
            "layout": "IPY_MODEL_0bb159655ae94d5caf75890406797c24"
          }
        },
        "283c1b17c13d432ea57a4bedffc14bd1": {
          "model_module": "@jupyter-widgets/controls",
          "model_name": "HTMLModel",
          "model_module_version": "1.5.0",
          "state": {
            "_dom_classes": [],
            "_model_module": "@jupyter-widgets/controls",
            "_model_module_version": "1.5.0",
            "_model_name": "HTMLModel",
            "_view_count": null,
            "_view_module": "@jupyter-widgets/controls",
            "_view_module_version": "1.5.0",
            "_view_name": "HTMLView",
            "description": "",
            "description_tooltip": null,
            "layout": "IPY_MODEL_93785f8fbaac4528a8feae45b9e5ea7a",
            "placeholder": "​",
            "style": "IPY_MODEL_bc24446446af4717b681cd604cbd33c2",
            "value": "Downloading data: 100%"
          }
        },
        "0fa66700772043b49ca9576439de9d53": {
          "model_module": "@jupyter-widgets/controls",
          "model_name": "FloatProgressModel",
          "model_module_version": "1.5.0",
          "state": {
            "_dom_classes": [],
            "_model_module": "@jupyter-widgets/controls",
            "_model_module_version": "1.5.0",
            "_model_name": "FloatProgressModel",
            "_view_count": null,
            "_view_module": "@jupyter-widgets/controls",
            "_view_module_version": "1.5.0",
            "_view_name": "ProgressView",
            "bar_style": "success",
            "description": "",
            "description_tooltip": null,
            "layout": "IPY_MODEL_5875140138574d3392c1375ef8cb991b",
            "max": 568417094,
            "min": 0,
            "orientation": "horizontal",
            "style": "IPY_MODEL_0752564933f5447386e7f19cdd4e7275",
            "value": 568417094
          }
        },
        "3272f63d9a054d9899c6177315f2bba9": {
          "model_module": "@jupyter-widgets/controls",
          "model_name": "HTMLModel",
          "model_module_version": "1.5.0",
          "state": {
            "_dom_classes": [],
            "_model_module": "@jupyter-widgets/controls",
            "_model_module_version": "1.5.0",
            "_model_name": "HTMLModel",
            "_view_count": null,
            "_view_module": "@jupyter-widgets/controls",
            "_view_module_version": "1.5.0",
            "_view_name": "HTMLView",
            "description": "",
            "description_tooltip": null,
            "layout": "IPY_MODEL_ad6ff5e85d134263ba8e15bb508ca663",
            "placeholder": "​",
            "style": "IPY_MODEL_8f0e463f7f02437c8ee27ef95cd0aec8",
            "value": " 568M/568M [00:08&lt;00:00, 46.5MB/s]"
          }
        },
        "0bb159655ae94d5caf75890406797c24": {
          "model_module": "@jupyter-widgets/base",
          "model_name": "LayoutModel",
          "model_module_version": "1.2.0",
          "state": {
            "_model_module": "@jupyter-widgets/base",
            "_model_module_version": "1.2.0",
            "_model_name": "LayoutModel",
            "_view_count": null,
            "_view_module": "@jupyter-widgets/base",
            "_view_module_version": "1.2.0",
            "_view_name": "LayoutView",
            "align_content": null,
            "align_items": null,
            "align_self": null,
            "border": null,
            "bottom": null,
            "display": null,
            "flex": null,
            "flex_flow": null,
            "grid_area": null,
            "grid_auto_columns": null,
            "grid_auto_flow": null,
            "grid_auto_rows": null,
            "grid_column": null,
            "grid_gap": null,
            "grid_row": null,
            "grid_template_areas": null,
            "grid_template_columns": null,
            "grid_template_rows": null,
            "height": null,
            "justify_content": null,
            "justify_items": null,
            "left": null,
            "margin": null,
            "max_height": null,
            "max_width": null,
            "min_height": null,
            "min_width": null,
            "object_fit": null,
            "object_position": null,
            "order": null,
            "overflow": null,
            "overflow_x": null,
            "overflow_y": null,
            "padding": null,
            "right": null,
            "top": null,
            "visibility": null,
            "width": null
          }
        },
        "93785f8fbaac4528a8feae45b9e5ea7a": {
          "model_module": "@jupyter-widgets/base",
          "model_name": "LayoutModel",
          "model_module_version": "1.2.0",
          "state": {
            "_model_module": "@jupyter-widgets/base",
            "_model_module_version": "1.2.0",
            "_model_name": "LayoutModel",
            "_view_count": null,
            "_view_module": "@jupyter-widgets/base",
            "_view_module_version": "1.2.0",
            "_view_name": "LayoutView",
            "align_content": null,
            "align_items": null,
            "align_self": null,
            "border": null,
            "bottom": null,
            "display": null,
            "flex": null,
            "flex_flow": null,
            "grid_area": null,
            "grid_auto_columns": null,
            "grid_auto_flow": null,
            "grid_auto_rows": null,
            "grid_column": null,
            "grid_gap": null,
            "grid_row": null,
            "grid_template_areas": null,
            "grid_template_columns": null,
            "grid_template_rows": null,
            "height": null,
            "justify_content": null,
            "justify_items": null,
            "left": null,
            "margin": null,
            "max_height": null,
            "max_width": null,
            "min_height": null,
            "min_width": null,
            "object_fit": null,
            "object_position": null,
            "order": null,
            "overflow": null,
            "overflow_x": null,
            "overflow_y": null,
            "padding": null,
            "right": null,
            "top": null,
            "visibility": null,
            "width": null
          }
        },
        "bc24446446af4717b681cd604cbd33c2": {
          "model_module": "@jupyter-widgets/controls",
          "model_name": "DescriptionStyleModel",
          "model_module_version": "1.5.0",
          "state": {
            "_model_module": "@jupyter-widgets/controls",
            "_model_module_version": "1.5.0",
            "_model_name": "DescriptionStyleModel",
            "_view_count": null,
            "_view_module": "@jupyter-widgets/base",
            "_view_module_version": "1.2.0",
            "_view_name": "StyleView",
            "description_width": ""
          }
        },
        "5875140138574d3392c1375ef8cb991b": {
          "model_module": "@jupyter-widgets/base",
          "model_name": "LayoutModel",
          "model_module_version": "1.2.0",
          "state": {
            "_model_module": "@jupyter-widgets/base",
            "_model_module_version": "1.2.0",
            "_model_name": "LayoutModel",
            "_view_count": null,
            "_view_module": "@jupyter-widgets/base",
            "_view_module_version": "1.2.0",
            "_view_name": "LayoutView",
            "align_content": null,
            "align_items": null,
            "align_self": null,
            "border": null,
            "bottom": null,
            "display": null,
            "flex": null,
            "flex_flow": null,
            "grid_area": null,
            "grid_auto_columns": null,
            "grid_auto_flow": null,
            "grid_auto_rows": null,
            "grid_column": null,
            "grid_gap": null,
            "grid_row": null,
            "grid_template_areas": null,
            "grid_template_columns": null,
            "grid_template_rows": null,
            "height": null,
            "justify_content": null,
            "justify_items": null,
            "left": null,
            "margin": null,
            "max_height": null,
            "max_width": null,
            "min_height": null,
            "min_width": null,
            "object_fit": null,
            "object_position": null,
            "order": null,
            "overflow": null,
            "overflow_x": null,
            "overflow_y": null,
            "padding": null,
            "right": null,
            "top": null,
            "visibility": null,
            "width": null
          }
        },
        "0752564933f5447386e7f19cdd4e7275": {
          "model_module": "@jupyter-widgets/controls",
          "model_name": "ProgressStyleModel",
          "model_module_version": "1.5.0",
          "state": {
            "_model_module": "@jupyter-widgets/controls",
            "_model_module_version": "1.5.0",
            "_model_name": "ProgressStyleModel",
            "_view_count": null,
            "_view_module": "@jupyter-widgets/base",
            "_view_module_version": "1.2.0",
            "_view_name": "StyleView",
            "bar_color": null,
            "description_width": ""
          }
        },
        "ad6ff5e85d134263ba8e15bb508ca663": {
          "model_module": "@jupyter-widgets/base",
          "model_name": "LayoutModel",
          "model_module_version": "1.2.0",
          "state": {
            "_model_module": "@jupyter-widgets/base",
            "_model_module_version": "1.2.0",
            "_model_name": "LayoutModel",
            "_view_count": null,
            "_view_module": "@jupyter-widgets/base",
            "_view_module_version": "1.2.0",
            "_view_name": "LayoutView",
            "align_content": null,
            "align_items": null,
            "align_self": null,
            "border": null,
            "bottom": null,
            "display": null,
            "flex": null,
            "flex_flow": null,
            "grid_area": null,
            "grid_auto_columns": null,
            "grid_auto_flow": null,
            "grid_auto_rows": null,
            "grid_column": null,
            "grid_gap": null,
            "grid_row": null,
            "grid_template_areas": null,
            "grid_template_columns": null,
            "grid_template_rows": null,
            "height": null,
            "justify_content": null,
            "justify_items": null,
            "left": null,
            "margin": null,
            "max_height": null,
            "max_width": null,
            "min_height": null,
            "min_width": null,
            "object_fit": null,
            "object_position": null,
            "order": null,
            "overflow": null,
            "overflow_x": null,
            "overflow_y": null,
            "padding": null,
            "right": null,
            "top": null,
            "visibility": null,
            "width": null
          }
        },
        "8f0e463f7f02437c8ee27ef95cd0aec8": {
          "model_module": "@jupyter-widgets/controls",
          "model_name": "DescriptionStyleModel",
          "model_module_version": "1.5.0",
          "state": {
            "_model_module": "@jupyter-widgets/controls",
            "_model_module_version": "1.5.0",
            "_model_name": "DescriptionStyleModel",
            "_view_count": null,
            "_view_module": "@jupyter-widgets/base",
            "_view_module_version": "1.2.0",
            "_view_name": "StyleView",
            "description_width": ""
          }
        },
        "74ae0395274e43659b775b4723a87e66": {
          "model_module": "@jupyter-widgets/controls",
          "model_name": "HBoxModel",
          "model_module_version": "1.5.0",
          "state": {
            "_dom_classes": [],
            "_model_module": "@jupyter-widgets/controls",
            "_model_module_version": "1.5.0",
            "_model_name": "HBoxModel",
            "_view_count": null,
            "_view_module": "@jupyter-widgets/controls",
            "_view_module_version": "1.5.0",
            "_view_name": "HBoxView",
            "box_style": "",
            "children": [
              "IPY_MODEL_d573a88fcbc046c99fd44086a97da467",
              "IPY_MODEL_f81d9058dba541c48f73a8c18d67d6f3",
              "IPY_MODEL_bfb29b3c1b724781a6cd28acb24c59b9"
            ],
            "layout": "IPY_MODEL_5e50f17859204e9683698ef9cd0f95c5"
          }
        },
        "d573a88fcbc046c99fd44086a97da467": {
          "model_module": "@jupyter-widgets/controls",
          "model_name": "HTMLModel",
          "model_module_version": "1.5.0",
          "state": {
            "_dom_classes": [],
            "_model_module": "@jupyter-widgets/controls",
            "_model_module_version": "1.5.0",
            "_model_name": "HTMLModel",
            "_view_count": null,
            "_view_module": "@jupyter-widgets/controls",
            "_view_module_version": "1.5.0",
            "_view_name": "HTMLView",
            "description": "",
            "description_tooltip": null,
            "layout": "IPY_MODEL_2bab8ec1acfd443a9ea6cf49c37c8bd1",
            "placeholder": "​",
            "style": "IPY_MODEL_74b4c2e1aa7342aa8b437bcd71086cea",
            "value": "Extracting data files: 100%"
          }
        },
        "f81d9058dba541c48f73a8c18d67d6f3": {
          "model_module": "@jupyter-widgets/controls",
          "model_name": "FloatProgressModel",
          "model_module_version": "1.5.0",
          "state": {
            "_dom_classes": [],
            "_model_module": "@jupyter-widgets/controls",
            "_model_module_version": "1.5.0",
            "_model_name": "FloatProgressModel",
            "_view_count": null,
            "_view_module": "@jupyter-widgets/controls",
            "_view_module_version": "1.5.0",
            "_view_name": "ProgressView",
            "bar_style": "success",
            "description": "",
            "description_tooltip": null,
            "layout": "IPY_MODEL_0546a934963045dba099666813ead93c",
            "max": 1,
            "min": 0,
            "orientation": "horizontal",
            "style": "IPY_MODEL_b94bce24027c419fa034589e245019d5",
            "value": 1
          }
        },
        "bfb29b3c1b724781a6cd28acb24c59b9": {
          "model_module": "@jupyter-widgets/controls",
          "model_name": "HTMLModel",
          "model_module_version": "1.5.0",
          "state": {
            "_dom_classes": [],
            "_model_module": "@jupyter-widgets/controls",
            "_model_module_version": "1.5.0",
            "_model_name": "HTMLModel",
            "_view_count": null,
            "_view_module": "@jupyter-widgets/controls",
            "_view_module_version": "1.5.0",
            "_view_name": "HTMLView",
            "description": "",
            "description_tooltip": null,
            "layout": "IPY_MODEL_e86614f93f5f416b86d93eb489fd3ad0",
            "placeholder": "​",
            "style": "IPY_MODEL_5e7491f6f0ea470fbbe46c3d1187f238",
            "value": " 1/1 [00:05&lt;00:00,  5.96s/it]"
          }
        },
        "5e50f17859204e9683698ef9cd0f95c5": {
          "model_module": "@jupyter-widgets/base",
          "model_name": "LayoutModel",
          "model_module_version": "1.2.0",
          "state": {
            "_model_module": "@jupyter-widgets/base",
            "_model_module_version": "1.2.0",
            "_model_name": "LayoutModel",
            "_view_count": null,
            "_view_module": "@jupyter-widgets/base",
            "_view_module_version": "1.2.0",
            "_view_name": "LayoutView",
            "align_content": null,
            "align_items": null,
            "align_self": null,
            "border": null,
            "bottom": null,
            "display": null,
            "flex": null,
            "flex_flow": null,
            "grid_area": null,
            "grid_auto_columns": null,
            "grid_auto_flow": null,
            "grid_auto_rows": null,
            "grid_column": null,
            "grid_gap": null,
            "grid_row": null,
            "grid_template_areas": null,
            "grid_template_columns": null,
            "grid_template_rows": null,
            "height": null,
            "justify_content": null,
            "justify_items": null,
            "left": null,
            "margin": null,
            "max_height": null,
            "max_width": null,
            "min_height": null,
            "min_width": null,
            "object_fit": null,
            "object_position": null,
            "order": null,
            "overflow": null,
            "overflow_x": null,
            "overflow_y": null,
            "padding": null,
            "right": null,
            "top": null,
            "visibility": null,
            "width": null
          }
        },
        "2bab8ec1acfd443a9ea6cf49c37c8bd1": {
          "model_module": "@jupyter-widgets/base",
          "model_name": "LayoutModel",
          "model_module_version": "1.2.0",
          "state": {
            "_model_module": "@jupyter-widgets/base",
            "_model_module_version": "1.2.0",
            "_model_name": "LayoutModel",
            "_view_count": null,
            "_view_module": "@jupyter-widgets/base",
            "_view_module_version": "1.2.0",
            "_view_name": "LayoutView",
            "align_content": null,
            "align_items": null,
            "align_self": null,
            "border": null,
            "bottom": null,
            "display": null,
            "flex": null,
            "flex_flow": null,
            "grid_area": null,
            "grid_auto_columns": null,
            "grid_auto_flow": null,
            "grid_auto_rows": null,
            "grid_column": null,
            "grid_gap": null,
            "grid_row": null,
            "grid_template_areas": null,
            "grid_template_columns": null,
            "grid_template_rows": null,
            "height": null,
            "justify_content": null,
            "justify_items": null,
            "left": null,
            "margin": null,
            "max_height": null,
            "max_width": null,
            "min_height": null,
            "min_width": null,
            "object_fit": null,
            "object_position": null,
            "order": null,
            "overflow": null,
            "overflow_x": null,
            "overflow_y": null,
            "padding": null,
            "right": null,
            "top": null,
            "visibility": null,
            "width": null
          }
        },
        "74b4c2e1aa7342aa8b437bcd71086cea": {
          "model_module": "@jupyter-widgets/controls",
          "model_name": "DescriptionStyleModel",
          "model_module_version": "1.5.0",
          "state": {
            "_model_module": "@jupyter-widgets/controls",
            "_model_module_version": "1.5.0",
            "_model_name": "DescriptionStyleModel",
            "_view_count": null,
            "_view_module": "@jupyter-widgets/base",
            "_view_module_version": "1.2.0",
            "_view_name": "StyleView",
            "description_width": ""
          }
        },
        "0546a934963045dba099666813ead93c": {
          "model_module": "@jupyter-widgets/base",
          "model_name": "LayoutModel",
          "model_module_version": "1.2.0",
          "state": {
            "_model_module": "@jupyter-widgets/base",
            "_model_module_version": "1.2.0",
            "_model_name": "LayoutModel",
            "_view_count": null,
            "_view_module": "@jupyter-widgets/base",
            "_view_module_version": "1.2.0",
            "_view_name": "LayoutView",
            "align_content": null,
            "align_items": null,
            "align_self": null,
            "border": null,
            "bottom": null,
            "display": null,
            "flex": null,
            "flex_flow": null,
            "grid_area": null,
            "grid_auto_columns": null,
            "grid_auto_flow": null,
            "grid_auto_rows": null,
            "grid_column": null,
            "grid_gap": null,
            "grid_row": null,
            "grid_template_areas": null,
            "grid_template_columns": null,
            "grid_template_rows": null,
            "height": null,
            "justify_content": null,
            "justify_items": null,
            "left": null,
            "margin": null,
            "max_height": null,
            "max_width": null,
            "min_height": null,
            "min_width": null,
            "object_fit": null,
            "object_position": null,
            "order": null,
            "overflow": null,
            "overflow_x": null,
            "overflow_y": null,
            "padding": null,
            "right": null,
            "top": null,
            "visibility": null,
            "width": null
          }
        },
        "b94bce24027c419fa034589e245019d5": {
          "model_module": "@jupyter-widgets/controls",
          "model_name": "ProgressStyleModel",
          "model_module_version": "1.5.0",
          "state": {
            "_model_module": "@jupyter-widgets/controls",
            "_model_module_version": "1.5.0",
            "_model_name": "ProgressStyleModel",
            "_view_count": null,
            "_view_module": "@jupyter-widgets/base",
            "_view_module_version": "1.2.0",
            "_view_name": "StyleView",
            "bar_color": null,
            "description_width": ""
          }
        },
        "e86614f93f5f416b86d93eb489fd3ad0": {
          "model_module": "@jupyter-widgets/base",
          "model_name": "LayoutModel",
          "model_module_version": "1.2.0",
          "state": {
            "_model_module": "@jupyter-widgets/base",
            "_model_module_version": "1.2.0",
            "_model_name": "LayoutModel",
            "_view_count": null,
            "_view_module": "@jupyter-widgets/base",
            "_view_module_version": "1.2.0",
            "_view_name": "LayoutView",
            "align_content": null,
            "align_items": null,
            "align_self": null,
            "border": null,
            "bottom": null,
            "display": null,
            "flex": null,
            "flex_flow": null,
            "grid_area": null,
            "grid_auto_columns": null,
            "grid_auto_flow": null,
            "grid_auto_rows": null,
            "grid_column": null,
            "grid_gap": null,
            "grid_row": null,
            "grid_template_areas": null,
            "grid_template_columns": null,
            "grid_template_rows": null,
            "height": null,
            "justify_content": null,
            "justify_items": null,
            "left": null,
            "margin": null,
            "max_height": null,
            "max_width": null,
            "min_height": null,
            "min_width": null,
            "object_fit": null,
            "object_position": null,
            "order": null,
            "overflow": null,
            "overflow_x": null,
            "overflow_y": null,
            "padding": null,
            "right": null,
            "top": null,
            "visibility": null,
            "width": null
          }
        },
        "5e7491f6f0ea470fbbe46c3d1187f238": {
          "model_module": "@jupyter-widgets/controls",
          "model_name": "DescriptionStyleModel",
          "model_module_version": "1.5.0",
          "state": {
            "_model_module": "@jupyter-widgets/controls",
            "_model_module_version": "1.5.0",
            "_model_name": "DescriptionStyleModel",
            "_view_count": null,
            "_view_module": "@jupyter-widgets/base",
            "_view_module_version": "1.2.0",
            "_view_name": "StyleView",
            "description_width": ""
          }
        },
        "147622b75db646268770a23ed5cc4613": {
          "model_module": "@jupyter-widgets/controls",
          "model_name": "HBoxModel",
          "model_module_version": "1.5.0",
          "state": {
            "_dom_classes": [],
            "_model_module": "@jupyter-widgets/controls",
            "_model_module_version": "1.5.0",
            "_model_name": "HBoxModel",
            "_view_count": null,
            "_view_module": "@jupyter-widgets/controls",
            "_view_module_version": "1.5.0",
            "_view_name": "HBoxView",
            "box_style": "",
            "children": [
              "IPY_MODEL_52e371d4e02e45449c19f2f219525eb4",
              "IPY_MODEL_01f985a3f4fa488e99406b52aa25e43e",
              "IPY_MODEL_88771d50ab5f4ff09aa54d03fb799835"
            ],
            "layout": "IPY_MODEL_fed756f117044fe6bd8b5e24082f316b"
          }
        },
        "52e371d4e02e45449c19f2f219525eb4": {
          "model_module": "@jupyter-widgets/controls",
          "model_name": "HTMLModel",
          "model_module_version": "1.5.0",
          "state": {
            "_dom_classes": [],
            "_model_module": "@jupyter-widgets/controls",
            "_model_module_version": "1.5.0",
            "_model_name": "HTMLModel",
            "_view_count": null,
            "_view_module": "@jupyter-widgets/controls",
            "_view_module_version": "1.5.0",
            "_view_name": "HTMLView",
            "description": "",
            "description_tooltip": null,
            "layout": "IPY_MODEL_7b5c7e9b26f549b480d88d628c4f5a15",
            "placeholder": "​",
            "style": "IPY_MODEL_e9d3c738208e491a90167074c6346a68",
            "value": "Generating test split: "
          }
        },
        "01f985a3f4fa488e99406b52aa25e43e": {
          "model_module": "@jupyter-widgets/controls",
          "model_name": "FloatProgressModel",
          "model_module_version": "1.5.0",
          "state": {
            "_dom_classes": [],
            "_model_module": "@jupyter-widgets/controls",
            "_model_module_version": "1.5.0",
            "_model_name": "FloatProgressModel",
            "_view_count": null,
            "_view_module": "@jupyter-widgets/controls",
            "_view_module_version": "1.5.0",
            "_view_name": "ProgressView",
            "bar_style": "success",
            "description": "",
            "description_tooltip": null,
            "layout": "IPY_MODEL_22675cbd41574a1f9be5e9c179a8a15c",
            "max": 1,
            "min": 0,
            "orientation": "horizontal",
            "style": "IPY_MODEL_5fa8b1781e1d43beb25007aaf7c19a60",
            "value": 1
          }
        },
        "88771d50ab5f4ff09aa54d03fb799835": {
          "model_module": "@jupyter-widgets/controls",
          "model_name": "HTMLModel",
          "model_module_version": "1.5.0",
          "state": {
            "_dom_classes": [],
            "_model_module": "@jupyter-widgets/controls",
            "_model_module_version": "1.5.0",
            "_model_name": "HTMLModel",
            "_view_count": null,
            "_view_module": "@jupyter-widgets/controls",
            "_view_module_version": "1.5.0",
            "_view_name": "HTMLView",
            "description": "",
            "description_tooltip": null,
            "layout": "IPY_MODEL_541e55f47d454ccfbce1f48325cad9aa",
            "placeholder": "​",
            "style": "IPY_MODEL_d0ccdac856184d288d443c02a01ecbf3",
            "value": " 3558/0 [00:01&lt;00:00, 2110.60 examples/s]"
          }
        },
        "fed756f117044fe6bd8b5e24082f316b": {
          "model_module": "@jupyter-widgets/base",
          "model_name": "LayoutModel",
          "model_module_version": "1.2.0",
          "state": {
            "_model_module": "@jupyter-widgets/base",
            "_model_module_version": "1.2.0",
            "_model_name": "LayoutModel",
            "_view_count": null,
            "_view_module": "@jupyter-widgets/base",
            "_view_module_version": "1.2.0",
            "_view_name": "LayoutView",
            "align_content": null,
            "align_items": null,
            "align_self": null,
            "border": null,
            "bottom": null,
            "display": null,
            "flex": null,
            "flex_flow": null,
            "grid_area": null,
            "grid_auto_columns": null,
            "grid_auto_flow": null,
            "grid_auto_rows": null,
            "grid_column": null,
            "grid_gap": null,
            "grid_row": null,
            "grid_template_areas": null,
            "grid_template_columns": null,
            "grid_template_rows": null,
            "height": null,
            "justify_content": null,
            "justify_items": null,
            "left": null,
            "margin": null,
            "max_height": null,
            "max_width": null,
            "min_height": null,
            "min_width": null,
            "object_fit": null,
            "object_position": null,
            "order": null,
            "overflow": null,
            "overflow_x": null,
            "overflow_y": null,
            "padding": null,
            "right": null,
            "top": null,
            "visibility": null,
            "width": null
          }
        },
        "7b5c7e9b26f549b480d88d628c4f5a15": {
          "model_module": "@jupyter-widgets/base",
          "model_name": "LayoutModel",
          "model_module_version": "1.2.0",
          "state": {
            "_model_module": "@jupyter-widgets/base",
            "_model_module_version": "1.2.0",
            "_model_name": "LayoutModel",
            "_view_count": null,
            "_view_module": "@jupyter-widgets/base",
            "_view_module_version": "1.2.0",
            "_view_name": "LayoutView",
            "align_content": null,
            "align_items": null,
            "align_self": null,
            "border": null,
            "bottom": null,
            "display": null,
            "flex": null,
            "flex_flow": null,
            "grid_area": null,
            "grid_auto_columns": null,
            "grid_auto_flow": null,
            "grid_auto_rows": null,
            "grid_column": null,
            "grid_gap": null,
            "grid_row": null,
            "grid_template_areas": null,
            "grid_template_columns": null,
            "grid_template_rows": null,
            "height": null,
            "justify_content": null,
            "justify_items": null,
            "left": null,
            "margin": null,
            "max_height": null,
            "max_width": null,
            "min_height": null,
            "min_width": null,
            "object_fit": null,
            "object_position": null,
            "order": null,
            "overflow": null,
            "overflow_x": null,
            "overflow_y": null,
            "padding": null,
            "right": null,
            "top": null,
            "visibility": null,
            "width": null
          }
        },
        "e9d3c738208e491a90167074c6346a68": {
          "model_module": "@jupyter-widgets/controls",
          "model_name": "DescriptionStyleModel",
          "model_module_version": "1.5.0",
          "state": {
            "_model_module": "@jupyter-widgets/controls",
            "_model_module_version": "1.5.0",
            "_model_name": "DescriptionStyleModel",
            "_view_count": null,
            "_view_module": "@jupyter-widgets/base",
            "_view_module_version": "1.2.0",
            "_view_name": "StyleView",
            "description_width": ""
          }
        },
        "22675cbd41574a1f9be5e9c179a8a15c": {
          "model_module": "@jupyter-widgets/base",
          "model_name": "LayoutModel",
          "model_module_version": "1.2.0",
          "state": {
            "_model_module": "@jupyter-widgets/base",
            "_model_module_version": "1.2.0",
            "_model_name": "LayoutModel",
            "_view_count": null,
            "_view_module": "@jupyter-widgets/base",
            "_view_module_version": "1.2.0",
            "_view_name": "LayoutView",
            "align_content": null,
            "align_items": null,
            "align_self": null,
            "border": null,
            "bottom": null,
            "display": null,
            "flex": null,
            "flex_flow": null,
            "grid_area": null,
            "grid_auto_columns": null,
            "grid_auto_flow": null,
            "grid_auto_rows": null,
            "grid_column": null,
            "grid_gap": null,
            "grid_row": null,
            "grid_template_areas": null,
            "grid_template_columns": null,
            "grid_template_rows": null,
            "height": null,
            "justify_content": null,
            "justify_items": null,
            "left": null,
            "margin": null,
            "max_height": null,
            "max_width": null,
            "min_height": null,
            "min_width": null,
            "object_fit": null,
            "object_position": null,
            "order": null,
            "overflow": null,
            "overflow_x": null,
            "overflow_y": null,
            "padding": null,
            "right": null,
            "top": null,
            "visibility": null,
            "width": "20px"
          }
        },
        "5fa8b1781e1d43beb25007aaf7c19a60": {
          "model_module": "@jupyter-widgets/controls",
          "model_name": "ProgressStyleModel",
          "model_module_version": "1.5.0",
          "state": {
            "_model_module": "@jupyter-widgets/controls",
            "_model_module_version": "1.5.0",
            "_model_name": "ProgressStyleModel",
            "_view_count": null,
            "_view_module": "@jupyter-widgets/base",
            "_view_module_version": "1.2.0",
            "_view_name": "StyleView",
            "bar_color": null,
            "description_width": ""
          }
        },
        "541e55f47d454ccfbce1f48325cad9aa": {
          "model_module": "@jupyter-widgets/base",
          "model_name": "LayoutModel",
          "model_module_version": "1.2.0",
          "state": {
            "_model_module": "@jupyter-widgets/base",
            "_model_module_version": "1.2.0",
            "_model_name": "LayoutModel",
            "_view_count": null,
            "_view_module": "@jupyter-widgets/base",
            "_view_module_version": "1.2.0",
            "_view_name": "LayoutView",
            "align_content": null,
            "align_items": null,
            "align_self": null,
            "border": null,
            "bottom": null,
            "display": null,
            "flex": null,
            "flex_flow": null,
            "grid_area": null,
            "grid_auto_columns": null,
            "grid_auto_flow": null,
            "grid_auto_rows": null,
            "grid_column": null,
            "grid_gap": null,
            "grid_row": null,
            "grid_template_areas": null,
            "grid_template_columns": null,
            "grid_template_rows": null,
            "height": null,
            "justify_content": null,
            "justify_items": null,
            "left": null,
            "margin": null,
            "max_height": null,
            "max_width": null,
            "min_height": null,
            "min_width": null,
            "object_fit": null,
            "object_position": null,
            "order": null,
            "overflow": null,
            "overflow_x": null,
            "overflow_y": null,
            "padding": null,
            "right": null,
            "top": null,
            "visibility": null,
            "width": null
          }
        },
        "d0ccdac856184d288d443c02a01ecbf3": {
          "model_module": "@jupyter-widgets/controls",
          "model_name": "DescriptionStyleModel",
          "model_module_version": "1.5.0",
          "state": {
            "_model_module": "@jupyter-widgets/controls",
            "_model_module_version": "1.5.0",
            "_model_name": "DescriptionStyleModel",
            "_view_count": null,
            "_view_module": "@jupyter-widgets/base",
            "_view_module_version": "1.2.0",
            "_view_name": "StyleView",
            "description_width": ""
          }
        }
      }
    }
  },
  "nbformat": 4,
  "nbformat_minor": 0
}